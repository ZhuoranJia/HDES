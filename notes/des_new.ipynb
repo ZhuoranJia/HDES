{
 "cells": [
  {
   "cell_type": "markdown",
   "metadata": {},
   "source": [
    "# DES script for simulating hospital operations"
   ]
  },
  {
   "cell_type": "code",
   "execution_count": 493,
   "metadata": {},
   "outputs": [],
   "source": [
    "import simpy\n",
    "import networkx as nx\n",
    "import numpy as np\n",
    "import random\n",
    "import pickle\n",
    "import json"
   ]
  },
  {
   "cell_type": "markdown",
   "metadata": {},
   "source": [
    "## Load the graph"
   ]
  },
  {
   "cell_type": "code",
   "execution_count": 494,
   "metadata": {},
   "outputs": [],
   "source": [
    "with open('C:/Users/SID-DRW/OneDrive - Delft University of Technology/Documents/GitHub/HDES/Data/edited_graph.pkl', 'rb') as f:\n",
    "    G = pickle.load(f)"
   ]
  },
  {
   "cell_type": "markdown",
   "metadata": {},
   "source": [
    "## Load the shortest patient paths"
   ]
  },
  {
   "cell_type": "code",
   "execution_count": 495,
   "metadata": {},
   "outputs": [],
   "source": [
    "with open('C:/Users/SID-DRW/OneDrive - Delft University of Technology/Documents/GitHub/HDES/Data/new_all_real_medical_path_1.pkl', 'rb') as f:\n",
    "    all_real_medical_path_1 = pickle.load(f)\n",
    "\n",
    "with open('C:/Users/SID-DRW/OneDrive - Delft University of Technology/Documents/GitHub/HDES/Data/new_all_real_medical_path_2.pkl', 'rb') as f:\n",
    "    all_real_medical_path_2 = pickle.load(f)\n",
    "\n",
    "with open('C:/Users/SID-DRW/OneDrive - Delft University of Technology/Documents/GitHub/HDES/Data/new_all_real_medical_path_3.pkl', 'rb') as f:\n",
    "    all_real_medical_path_3 = pickle.load(f)\n",
    "\n",
    "with open('C:/Users/SID-DRW/OneDrive - Delft University of Technology/Documents/GitHub/HDES/Data/new_all_real_pediatric_path_1.pkl', 'rb') as f:\n",
    "    all_real_pediatric_path_1 = pickle.load(f)\n",
    "\n",
    "with open('C:/Users/SID-DRW/OneDrive - Delft University of Technology/Documents/GitHub/HDES/Data/new_all_real_pediatric_path_2.pkl', 'rb') as f:\n",
    "    all_real_pediatric_path_2 = pickle.load(f)\n",
    "\n",
    "with open('C:/Users/SID-DRW/OneDrive - Delft University of Technology/Documents/GitHub/HDES/Data/new_all_real_pediatric_path_3.pkl', 'rb') as f:\n",
    "    all_real_pediatric_path_3 = pickle.load(f)"
   ]
  },
  {
   "cell_type": "code",
   "execution_count": 496,
   "metadata": {},
   "outputs": [
    {
     "name": "stdout",
     "output_type": "stream",
     "text": [
      "[[44, 333, 7, 335, 0, 1, 152, 1, 302, 74, 301, 104, 11, 309, 71, 309, 11, 104, 301, 74, 302, 1, 0, 49, 266, 89, 297, 10], [44, 333, 7, 335, 0, 1, 152, 1, 302, 74, 301, 104, 11, 306, 85, 306, 11, 104, 301, 74, 302, 1, 0, 49, 266, 89, 297, 10], [44, 333, 7, 335, 0, 1, 152, 1, 324, 119, 471, 21, 328, 86, 328, 21, 471, 119, 324, 1, 0, 49, 266, 89, 297, 10], [44, 333, 7, 335, 0, 1, 152, 1, 302, 74, 301, 104, 301, 74, 302, 1, 0, 49, 266, 89, 297, 10], [44, 333, 7, 335, 0, 1, 152, 1, 302, 74, 301, 104, 11, 308, 138, 308, 11, 104, 301, 74, 302, 1, 0, 49, 266, 89, 297, 10], [44, 333, 7, 335, 0, 1, 152, 1, 324, 119, 471, 21, 330, 139, 330, 21, 471, 119, 324, 1, 0, 49, 266, 89, 297, 10], [44, 333, 7, 335, 0, 1, 152, 1, 302, 74, 301, 104, 11, 312, 170, 312, 11, 104, 301, 74, 302, 1, 0, 49, 266, 89, 297, 10], [44, 333, 7, 335, 0, 1, 152, 1, 302, 74, 301, 104, 11, 313, 207, 313, 11, 104, 301, 74, 302, 1, 0, 49, 266, 89, 297, 10], [44, 333, 7, 335, 0, 1, 152, 1, 302, 74, 301, 104, 11, 307, 208, 307, 11, 104, 301, 74, 302, 1, 0, 49, 266, 89, 297, 10], [44, 333, 7, 335, 0, 1, 152, 1, 324, 119, 471, 21, 327, 209, 327, 21, 471, 119, 324, 1, 0, 49, 266, 89, 297, 10], [44, 333, 7, 335, 0, 1, 152, 1, 324, 119, 471, 21, 329, 210, 329, 21, 471, 119, 324, 1, 0, 49, 266, 89, 297, 10], [44, 333, 7, 335, 0, 1, 152, 1, 324, 119, 471, 21, 472, 211, 472, 21, 471, 119, 324, 1, 0, 49, 266, 89, 297, 10], [44, 333, 7, 335, 0, 1, 178, 323, 154, 323, 178, 1, 302, 74, 301, 104, 11, 309, 71, 309, 11, 104, 301, 74, 302, 1, 0, 49, 266, 89, 297, 10], [44, 333, 7, 335, 0, 1, 178, 323, 154, 323, 178, 1, 302, 74, 301, 104, 11, 306, 85, 306, 11, 104, 301, 74, 302, 1, 0, 49, 266, 89, 297, 10], [44, 333, 7, 335, 0, 1, 178, 323, 154, 323, 178, 1, 324, 119, 471, 21, 328, 86, 328, 21, 471, 119, 324, 1, 0, 49, 266, 89, 297, 10], [44, 333, 7, 335, 0, 1, 178, 323, 154, 323, 178, 1, 302, 74, 301, 104, 301, 74, 302, 1, 0, 49, 266, 89, 297, 10], [44, 333, 7, 335, 0, 1, 178, 323, 154, 323, 178, 1, 302, 74, 301, 104, 11, 308, 138, 308, 11, 104, 301, 74, 302, 1, 0, 49, 266, 89, 297, 10], [44, 333, 7, 335, 0, 1, 178, 323, 154, 323, 178, 1, 324, 119, 471, 21, 330, 139, 330, 21, 471, 119, 324, 1, 0, 49, 266, 89, 297, 10], [44, 333, 7, 335, 0, 1, 178, 323, 154, 323, 178, 1, 302, 74, 301, 104, 11, 312, 170, 312, 11, 104, 301, 74, 302, 1, 0, 49, 266, 89, 297, 10], [44, 333, 7, 335, 0, 1, 178, 323, 154, 323, 178, 1, 302, 74, 301, 104, 11, 313, 207, 313, 11, 104, 301, 74, 302, 1, 0, 49, 266, 89, 297, 10], [44, 333, 7, 335, 0, 1, 178, 323, 154, 323, 178, 1, 302, 74, 301, 104, 11, 307, 208, 307, 11, 104, 301, 74, 302, 1, 0, 49, 266, 89, 297, 10], [44, 333, 7, 335, 0, 1, 178, 323, 154, 323, 178, 1, 324, 119, 471, 21, 327, 209, 327, 21, 471, 119, 324, 1, 0, 49, 266, 89, 297, 10], [44, 333, 7, 335, 0, 1, 178, 323, 154, 323, 178, 1, 324, 119, 471, 21, 329, 210, 329, 21, 471, 119, 324, 1, 0, 49, 266, 89, 297, 10], [44, 333, 7, 335, 0, 1, 178, 323, 154, 323, 178, 1, 324, 119, 471, 21, 472, 211, 472, 21, 471, 119, 324, 1, 0, 49, 266, 89, 297, 10]]\n",
      "[[44, 333, 7, 335, 0, 1, 152, 1, 302, 74, 301, 104, 11, 309, 71, 309, 11, 104, 301, 74, 302, 1, 0, 338, 76, 337, 100, 337, 76, 338, 0, 49, 266, 89, 297, 10], [44, 333, 7, 335, 0, 1, 152, 1, 302, 74, 301, 104, 11, 306, 85, 306, 11, 104, 301, 74, 302, 1, 0, 338, 76, 337, 100, 337, 76, 338, 0, 49, 266, 89, 297, 10], [44, 333, 7, 335, 0, 1, 152, 1, 324, 119, 471, 21, 328, 86, 328, 21, 471, 119, 324, 1, 0, 338, 76, 337, 100, 337, 76, 338, 0, 49, 266, 89, 297, 10], [44, 333, 7, 335, 0, 1, 152, 1, 302, 74, 301, 104, 301, 74, 302, 1, 0, 338, 76, 337, 100, 337, 76, 338, 0, 49, 266, 89, 297, 10], [44, 333, 7, 335, 0, 1, 152, 1, 302, 74, 301, 104, 11, 308, 138, 308, 11, 104, 301, 74, 302, 1, 0, 338, 76, 337, 100, 337, 76, 338, 0, 49, 266, 89, 297, 10], [44, 333, 7, 335, 0, 1, 152, 1, 324, 119, 471, 21, 330, 139, 330, 21, 471, 119, 324, 1, 0, 338, 76, 337, 100, 337, 76, 338, 0, 49, 266, 89, 297, 10], [44, 333, 7, 335, 0, 1, 152, 1, 302, 74, 301, 104, 11, 312, 170, 312, 11, 104, 301, 74, 302, 1, 0, 338, 76, 337, 100, 337, 76, 338, 0, 49, 266, 89, 297, 10], [44, 333, 7, 335, 0, 1, 152, 1, 302, 74, 301, 104, 11, 313, 207, 313, 11, 104, 301, 74, 302, 1, 0, 338, 76, 337, 100, 337, 76, 338, 0, 49, 266, 89, 297, 10], [44, 333, 7, 335, 0, 1, 152, 1, 302, 74, 301, 104, 11, 307, 208, 307, 11, 104, 301, 74, 302, 1, 0, 338, 76, 337, 100, 337, 76, 338, 0, 49, 266, 89, 297, 10], [44, 333, 7, 335, 0, 1, 152, 1, 324, 119, 471, 21, 327, 209, 327, 21, 471, 119, 324, 1, 0, 338, 76, 337, 100, 337, 76, 338, 0, 49, 266, 89, 297, 10], [44, 333, 7, 335, 0, 1, 152, 1, 324, 119, 471, 21, 329, 210, 329, 21, 471, 119, 324, 1, 0, 338, 76, 337, 100, 337, 76, 338, 0, 49, 266, 89, 297, 10], [44, 333, 7, 335, 0, 1, 152, 1, 324, 119, 471, 21, 472, 211, 472, 21, 471, 119, 324, 1, 0, 338, 76, 337, 100, 337, 76, 338, 0, 49, 266, 89, 297, 10], [44, 333, 7, 335, 0, 1, 178, 323, 154, 323, 178, 1, 302, 74, 301, 104, 11, 309, 71, 309, 11, 104, 301, 74, 302, 1, 0, 338, 76, 337, 100, 337, 76, 338, 0, 49, 266, 89, 297, 10], [44, 333, 7, 335, 0, 1, 178, 323, 154, 323, 178, 1, 302, 74, 301, 104, 11, 306, 85, 306, 11, 104, 301, 74, 302, 1, 0, 338, 76, 337, 100, 337, 76, 338, 0, 49, 266, 89, 297, 10], [44, 333, 7, 335, 0, 1, 178, 323, 154, 323, 178, 1, 324, 119, 471, 21, 328, 86, 328, 21, 471, 119, 324, 1, 0, 338, 76, 337, 100, 337, 76, 338, 0, 49, 266, 89, 297, 10], [44, 333, 7, 335, 0, 1, 178, 323, 154, 323, 178, 1, 302, 74, 301, 104, 301, 74, 302, 1, 0, 338, 76, 337, 100, 337, 76, 338, 0, 49, 266, 89, 297, 10], [44, 333, 7, 335, 0, 1, 178, 323, 154, 323, 178, 1, 302, 74, 301, 104, 11, 308, 138, 308, 11, 104, 301, 74, 302, 1, 0, 338, 76, 337, 100, 337, 76, 338, 0, 49, 266, 89, 297, 10], [44, 333, 7, 335, 0, 1, 178, 323, 154, 323, 178, 1, 324, 119, 471, 21, 330, 139, 330, 21, 471, 119, 324, 1, 0, 338, 76, 337, 100, 337, 76, 338, 0, 49, 266, 89, 297, 10], [44, 333, 7, 335, 0, 1, 178, 323, 154, 323, 178, 1, 302, 74, 301, 104, 11, 312, 170, 312, 11, 104, 301, 74, 302, 1, 0, 338, 76, 337, 100, 337, 76, 338, 0, 49, 266, 89, 297, 10], [44, 333, 7, 335, 0, 1, 178, 323, 154, 323, 178, 1, 302, 74, 301, 104, 11, 313, 207, 313, 11, 104, 301, 74, 302, 1, 0, 338, 76, 337, 100, 337, 76, 338, 0, 49, 266, 89, 297, 10], [44, 333, 7, 335, 0, 1, 178, 323, 154, 323, 178, 1, 302, 74, 301, 104, 11, 307, 208, 307, 11, 104, 301, 74, 302, 1, 0, 338, 76, 337, 100, 337, 76, 338, 0, 49, 266, 89, 297, 10], [44, 333, 7, 335, 0, 1, 178, 323, 154, 323, 178, 1, 324, 119, 471, 21, 327, 209, 327, 21, 471, 119, 324, 1, 0, 338, 76, 337, 100, 337, 76, 338, 0, 49, 266, 89, 297, 10], [44, 333, 7, 335, 0, 1, 178, 323, 154, 323, 178, 1, 324, 119, 471, 21, 329, 210, 329, 21, 471, 119, 324, 1, 0, 338, 76, 337, 100, 337, 76, 338, 0, 49, 266, 89, 297, 10], [44, 333, 7, 335, 0, 1, 178, 323, 154, 323, 178, 1, 324, 119, 471, 21, 472, 211, 472, 21, 471, 119, 324, 1, 0, 338, 76, 337, 100, 337, 76, 338, 0, 49, 266, 89, 297, 10]]\n",
      "[[44, 333, 7, 335, 0, 1, 152, 1, 302, 74, 301, 104, 11, 309, 71, 309, 11, 104, 301, 74, 302, 1, 0, 335, 7, 350, 77, 350, 7, 335, 0, 49, 266, 89, 297, 10], [44, 333, 7, 335, 0, 1, 152, 1, 302, 74, 301, 104, 11, 306, 85, 306, 11, 104, 301, 74, 302, 1, 0, 335, 7, 350, 77, 350, 7, 335, 0, 49, 266, 89, 297, 10], [44, 333, 7, 335, 0, 1, 152, 1, 324, 119, 471, 21, 328, 86, 328, 21, 471, 119, 324, 1, 0, 335, 7, 350, 77, 350, 7, 335, 0, 49, 266, 89, 297, 10], [44, 333, 7, 335, 0, 1, 152, 1, 302, 74, 301, 104, 301, 74, 302, 1, 0, 335, 7, 350, 77, 350, 7, 335, 0, 49, 266, 89, 297, 10], [44, 333, 7, 335, 0, 1, 152, 1, 302, 74, 301, 104, 11, 308, 138, 308, 11, 104, 301, 74, 302, 1, 0, 335, 7, 350, 77, 350, 7, 335, 0, 49, 266, 89, 297, 10], [44, 333, 7, 335, 0, 1, 152, 1, 324, 119, 471, 21, 330, 139, 330, 21, 471, 119, 324, 1, 0, 335, 7, 350, 77, 350, 7, 335, 0, 49, 266, 89, 297, 10], [44, 333, 7, 335, 0, 1, 152, 1, 302, 74, 301, 104, 11, 312, 170, 312, 11, 104, 301, 74, 302, 1, 0, 335, 7, 350, 77, 350, 7, 335, 0, 49, 266, 89, 297, 10], [44, 333, 7, 335, 0, 1, 152, 1, 302, 74, 301, 104, 11, 313, 207, 313, 11, 104, 301, 74, 302, 1, 0, 335, 7, 350, 77, 350, 7, 335, 0, 49, 266, 89, 297, 10], [44, 333, 7, 335, 0, 1, 152, 1, 302, 74, 301, 104, 11, 307, 208, 307, 11, 104, 301, 74, 302, 1, 0, 335, 7, 350, 77, 350, 7, 335, 0, 49, 266, 89, 297, 10], [44, 333, 7, 335, 0, 1, 152, 1, 324, 119, 471, 21, 327, 209, 327, 21, 471, 119, 324, 1, 0, 335, 7, 350, 77, 350, 7, 335, 0, 49, 266, 89, 297, 10], [44, 333, 7, 335, 0, 1, 152, 1, 324, 119, 471, 21, 329, 210, 329, 21, 471, 119, 324, 1, 0, 335, 7, 350, 77, 350, 7, 335, 0, 49, 266, 89, 297, 10], [44, 333, 7, 335, 0, 1, 152, 1, 324, 119, 471, 21, 472, 211, 472, 21, 471, 119, 324, 1, 0, 335, 7, 350, 77, 350, 7, 335, 0, 49, 266, 89, 297, 10], [44, 333, 7, 335, 0, 1, 178, 323, 154, 323, 178, 1, 302, 74, 301, 104, 11, 309, 71, 309, 11, 104, 301, 74, 302, 1, 0, 335, 7, 350, 77, 350, 7, 335, 0, 49, 266, 89, 297, 10], [44, 333, 7, 335, 0, 1, 178, 323, 154, 323, 178, 1, 302, 74, 301, 104, 11, 306, 85, 306, 11, 104, 301, 74, 302, 1, 0, 335, 7, 350, 77, 350, 7, 335, 0, 49, 266, 89, 297, 10], [44, 333, 7, 335, 0, 1, 178, 323, 154, 323, 178, 1, 324, 119, 471, 21, 328, 86, 328, 21, 471, 119, 324, 1, 0, 335, 7, 350, 77, 350, 7, 335, 0, 49, 266, 89, 297, 10], [44, 333, 7, 335, 0, 1, 178, 323, 154, 323, 178, 1, 302, 74, 301, 104, 301, 74, 302, 1, 0, 335, 7, 350, 77, 350, 7, 335, 0, 49, 266, 89, 297, 10], [44, 333, 7, 335, 0, 1, 178, 323, 154, 323, 178, 1, 302, 74, 301, 104, 11, 308, 138, 308, 11, 104, 301, 74, 302, 1, 0, 335, 7, 350, 77, 350, 7, 335, 0, 49, 266, 89, 297, 10], [44, 333, 7, 335, 0, 1, 178, 323, 154, 323, 178, 1, 324, 119, 471, 21, 330, 139, 330, 21, 471, 119, 324, 1, 0, 335, 7, 350, 77, 350, 7, 335, 0, 49, 266, 89, 297, 10], [44, 333, 7, 335, 0, 1, 178, 323, 154, 323, 178, 1, 302, 74, 301, 104, 11, 312, 170, 312, 11, 104, 301, 74, 302, 1, 0, 335, 7, 350, 77, 350, 7, 335, 0, 49, 266, 89, 297, 10], [44, 333, 7, 335, 0, 1, 178, 323, 154, 323, 178, 1, 302, 74, 301, 104, 11, 313, 207, 313, 11, 104, 301, 74, 302, 1, 0, 335, 7, 350, 77, 350, 7, 335, 0, 49, 266, 89, 297, 10], [44, 333, 7, 335, 0, 1, 178, 323, 154, 323, 178, 1, 302, 74, 301, 104, 11, 307, 208, 307, 11, 104, 301, 74, 302, 1, 0, 335, 7, 350, 77, 350, 7, 335, 0, 49, 266, 89, 297, 10], [44, 333, 7, 335, 0, 1, 178, 323, 154, 323, 178, 1, 324, 119, 471, 21, 327, 209, 327, 21, 471, 119, 324, 1, 0, 335, 7, 350, 77, 350, 7, 335, 0, 49, 266, 89, 297, 10], [44, 333, 7, 335, 0, 1, 178, 323, 154, 323, 178, 1, 324, 119, 471, 21, 329, 210, 329, 21, 471, 119, 324, 1, 0, 335, 7, 350, 77, 350, 7, 335, 0, 49, 266, 89, 297, 10], [44, 333, 7, 335, 0, 1, 178, 323, 154, 323, 178, 1, 324, 119, 471, 21, 472, 211, 472, 21, 471, 119, 324, 1, 0, 335, 7, 350, 77, 350, 7, 335, 0, 49, 266, 89, 297, 10]]\n",
      "[[44, 333, 7, 335, 0, 1, 324, 119, 471, 21, 470, 107, 470, 21, 471, 119, 324, 1, 302, 74, 301, 104, 11, 309, 71, 309, 11, 104, 301, 74, 302, 1, 0, 49, 266, 89, 297, 10], [44, 333, 7, 335, 0, 1, 324, 119, 471, 21, 470, 107, 470, 21, 471, 119, 324, 1, 302, 74, 301, 104, 11, 306, 85, 306, 11, 104, 301, 74, 302, 1, 0, 49, 266, 89, 297, 10], [44, 333, 7, 335, 0, 1, 324, 119, 471, 21, 470, 107, 470, 21, 471, 119, 471, 21, 328, 86, 328, 21, 471, 119, 324, 1, 0, 49, 266, 89, 297, 10], [44, 333, 7, 335, 0, 1, 324, 119, 471, 21, 470, 107, 470, 21, 471, 119, 324, 1, 302, 74, 301, 104, 301, 74, 302, 1, 0, 49, 266, 89, 297, 10], [44, 333, 7, 335, 0, 1, 324, 119, 471, 21, 470, 107, 470, 21, 471, 119, 324, 1, 302, 74, 301, 104, 11, 308, 138, 308, 11, 104, 301, 74, 302, 1, 0, 49, 266, 89, 297, 10], [44, 333, 7, 335, 0, 1, 324, 119, 471, 21, 470, 107, 470, 21, 471, 119, 471, 21, 330, 139, 330, 21, 471, 119, 324, 1, 0, 49, 266, 89, 297, 10], [44, 333, 7, 335, 0, 1, 324, 119, 471, 21, 470, 107, 470, 21, 471, 119, 324, 1, 302, 74, 301, 104, 11, 312, 170, 312, 11, 104, 301, 74, 302, 1, 0, 49, 266, 89, 297, 10], [44, 333, 7, 335, 0, 1, 324, 119, 471, 21, 470, 107, 470, 21, 471, 119, 324, 1, 302, 74, 301, 104, 11, 313, 207, 313, 11, 104, 301, 74, 302, 1, 0, 49, 266, 89, 297, 10], [44, 333, 7, 335, 0, 1, 324, 119, 471, 21, 470, 107, 470, 21, 471, 119, 324, 1, 302, 74, 301, 104, 11, 307, 208, 307, 11, 104, 301, 74, 302, 1, 0, 49, 266, 89, 297, 10], [44, 333, 7, 335, 0, 1, 324, 119, 471, 21, 470, 107, 470, 21, 471, 119, 471, 21, 327, 209, 327, 21, 471, 119, 324, 1, 0, 49, 266, 89, 297, 10], [44, 333, 7, 335, 0, 1, 324, 119, 471, 21, 470, 107, 470, 21, 471, 119, 471, 21, 329, 210, 329, 21, 471, 119, 324, 1, 0, 49, 266, 89, 297, 10], [44, 333, 7, 335, 0, 1, 324, 119, 471, 21, 470, 107, 470, 21, 471, 119, 471, 21, 472, 211, 472, 21, 471, 119, 324, 1, 0, 49, 266, 89, 297, 10]]\n",
      "[[44, 333, 7, 335, 0, 1, 324, 119, 471, 21, 470, 107, 470, 21, 471, 119, 324, 1, 302, 74, 301, 104, 11, 309, 71, 309, 11, 104, 301, 74, 302, 1, 0, 338, 76, 337, 100, 337, 76, 338, 0, 49, 266, 89, 297, 10], [44, 333, 7, 335, 0, 1, 324, 119, 471, 21, 470, 107, 470, 21, 471, 119, 324, 1, 302, 74, 301, 104, 11, 306, 85, 306, 11, 104, 301, 74, 302, 1, 0, 338, 76, 337, 100, 337, 76, 338, 0, 49, 266, 89, 297, 10], [44, 333, 7, 335, 0, 1, 324, 119, 471, 21, 470, 107, 470, 21, 471, 119, 471, 21, 328, 86, 328, 21, 471, 119, 324, 1, 0, 338, 76, 337, 100, 337, 76, 338, 0, 49, 266, 89, 297, 10], [44, 333, 7, 335, 0, 1, 324, 119, 471, 21, 470, 107, 470, 21, 471, 119, 324, 1, 302, 74, 301, 104, 301, 74, 302, 1, 0, 338, 76, 337, 100, 337, 76, 338, 0, 49, 266, 89, 297, 10], [44, 333, 7, 335, 0, 1, 324, 119, 471, 21, 470, 107, 470, 21, 471, 119, 324, 1, 302, 74, 301, 104, 11, 308, 138, 308, 11, 104, 301, 74, 302, 1, 0, 338, 76, 337, 100, 337, 76, 338, 0, 49, 266, 89, 297, 10], [44, 333, 7, 335, 0, 1, 324, 119, 471, 21, 470, 107, 470, 21, 471, 119, 471, 21, 330, 139, 330, 21, 471, 119, 324, 1, 0, 338, 76, 337, 100, 337, 76, 338, 0, 49, 266, 89, 297, 10], [44, 333, 7, 335, 0, 1, 324, 119, 471, 21, 470, 107, 470, 21, 471, 119, 324, 1, 302, 74, 301, 104, 11, 312, 170, 312, 11, 104, 301, 74, 302, 1, 0, 338, 76, 337, 100, 337, 76, 338, 0, 49, 266, 89, 297, 10], [44, 333, 7, 335, 0, 1, 324, 119, 471, 21, 470, 107, 470, 21, 471, 119, 324, 1, 302, 74, 301, 104, 11, 313, 207, 313, 11, 104, 301, 74, 302, 1, 0, 338, 76, 337, 100, 337, 76, 338, 0, 49, 266, 89, 297, 10], [44, 333, 7, 335, 0, 1, 324, 119, 471, 21, 470, 107, 470, 21, 471, 119, 324, 1, 302, 74, 301, 104, 11, 307, 208, 307, 11, 104, 301, 74, 302, 1, 0, 338, 76, 337, 100, 337, 76, 338, 0, 49, 266, 89, 297, 10], [44, 333, 7, 335, 0, 1, 324, 119, 471, 21, 470, 107, 470, 21, 471, 119, 471, 21, 327, 209, 327, 21, 471, 119, 324, 1, 0, 338, 76, 337, 100, 337, 76, 338, 0, 49, 266, 89, 297, 10], [44, 333, 7, 335, 0, 1, 324, 119, 471, 21, 470, 107, 470, 21, 471, 119, 471, 21, 329, 210, 329, 21, 471, 119, 324, 1, 0, 338, 76, 337, 100, 337, 76, 338, 0, 49, 266, 89, 297, 10], [44, 333, 7, 335, 0, 1, 324, 119, 471, 21, 470, 107, 470, 21, 471, 119, 471, 21, 472, 211, 472, 21, 471, 119, 324, 1, 0, 338, 76, 337, 100, 337, 76, 338, 0, 49, 266, 89, 297, 10]]\n",
      "[[44, 333, 7, 335, 0, 1, 324, 119, 471, 21, 470, 107, 470, 21, 471, 119, 324, 1, 302, 74, 301, 104, 11, 309, 71, 309, 11, 104, 301, 74, 302, 1, 0, 335, 7, 350, 77, 350, 7, 335, 0, 49, 266, 89, 297, 10], [44, 333, 7, 335, 0, 1, 324, 119, 471, 21, 470, 107, 470, 21, 471, 119, 324, 1, 302, 74, 301, 104, 11, 306, 85, 306, 11, 104, 301, 74, 302, 1, 0, 335, 7, 350, 77, 350, 7, 335, 0, 49, 266, 89, 297, 10], [44, 333, 7, 335, 0, 1, 324, 119, 471, 21, 470, 107, 470, 21, 471, 119, 471, 21, 328, 86, 328, 21, 471, 119, 324, 1, 0, 335, 7, 350, 77, 350, 7, 335, 0, 49, 266, 89, 297, 10], [44, 333, 7, 335, 0, 1, 324, 119, 471, 21, 470, 107, 470, 21, 471, 119, 324, 1, 302, 74, 301, 104, 301, 74, 302, 1, 0, 335, 7, 350, 77, 350, 7, 335, 0, 49, 266, 89, 297, 10], [44, 333, 7, 335, 0, 1, 324, 119, 471, 21, 470, 107, 470, 21, 471, 119, 324, 1, 302, 74, 301, 104, 11, 308, 138, 308, 11, 104, 301, 74, 302, 1, 0, 335, 7, 350, 77, 350, 7, 335, 0, 49, 266, 89, 297, 10], [44, 333, 7, 335, 0, 1, 324, 119, 471, 21, 470, 107, 470, 21, 471, 119, 471, 21, 330, 139, 330, 21, 471, 119, 324, 1, 0, 335, 7, 350, 77, 350, 7, 335, 0, 49, 266, 89, 297, 10], [44, 333, 7, 335, 0, 1, 324, 119, 471, 21, 470, 107, 470, 21, 471, 119, 324, 1, 302, 74, 301, 104, 11, 312, 170, 312, 11, 104, 301, 74, 302, 1, 0, 335, 7, 350, 77, 350, 7, 335, 0, 49, 266, 89, 297, 10], [44, 333, 7, 335, 0, 1, 324, 119, 471, 21, 470, 107, 470, 21, 471, 119, 324, 1, 302, 74, 301, 104, 11, 313, 207, 313, 11, 104, 301, 74, 302, 1, 0, 335, 7, 350, 77, 350, 7, 335, 0, 49, 266, 89, 297, 10], [44, 333, 7, 335, 0, 1, 324, 119, 471, 21, 470, 107, 470, 21, 471, 119, 324, 1, 302, 74, 301, 104, 11, 307, 208, 307, 11, 104, 301, 74, 302, 1, 0, 335, 7, 350, 77, 350, 7, 335, 0, 49, 266, 89, 297, 10], [44, 333, 7, 335, 0, 1, 324, 119, 471, 21, 470, 107, 470, 21, 471, 119, 471, 21, 327, 209, 327, 21, 471, 119, 324, 1, 0, 335, 7, 350, 77, 350, 7, 335, 0, 49, 266, 89, 297, 10], [44, 333, 7, 335, 0, 1, 324, 119, 471, 21, 470, 107, 470, 21, 471, 119, 471, 21, 329, 210, 329, 21, 471, 119, 324, 1, 0, 335, 7, 350, 77, 350, 7, 335, 0, 49, 266, 89, 297, 10], [44, 333, 7, 335, 0, 1, 324, 119, 471, 21, 470, 107, 470, 21, 471, 119, 471, 21, 472, 211, 472, 21, 471, 119, 324, 1, 0, 335, 7, 350, 77, 350, 7, 335, 0, 49, 266, 89, 297, 10]]\n"
     ]
    }
   ],
   "source": [
    "print(all_real_medical_path_1)\n",
    "print(all_real_medical_path_2)\n",
    "print(all_real_medical_path_3)\n",
    "print(all_real_pediatric_path_1)\n",
    "print(all_real_pediatric_path_2)\n",
    "print(all_real_pediatric_path_3)"
   ]
  },
  {
   "cell_type": "code",
   "execution_count": 497,
   "metadata": {},
   "outputs": [
    {
     "name": "stdout",
     "output_type": "stream",
     "text": [
      "[44, 333, 7, 335, 0, 1, 152, 1, 302, 74, 301, 104, 11, 309, 71, 309, 11, 104, 301, 74, 302, 1, 0, 49, 266, 89, 297, 10]\n",
      "[44, 333, 7, 335, 0, 1, 152, 1, 302, 74, 301, 104, 11, 306, 85, 306, 11, 104, 301, 74, 302, 1, 0, 49, 266, 89, 297, 10]\n",
      "[44, 333, 7, 335, 0, 1, 152, 1, 324, 119, 471, 21, 328, 86, 328, 21, 471, 119, 324, 1, 0, 49, 266, 89, 297, 10]\n",
      "24\n",
      "24\n",
      "24\n",
      "12\n",
      "12\n",
      "12\n"
     ]
    }
   ],
   "source": [
    "print(all_real_medical_path_1[0])\n",
    "print(all_real_medical_path_1[1])\n",
    "print(all_real_medical_path_1[2])\n",
    "print(len(all_real_medical_path_1))\n",
    "print(len(all_real_medical_path_2))\n",
    "print(len(all_real_medical_path_3))\n",
    "print(len(all_real_pediatric_path_1))\n",
    "print(len(all_real_pediatric_path_2))\n",
    "print(len(all_real_pediatric_path_3))"
   ]
  },
  {
   "cell_type": "markdown",
   "metadata": {},
   "source": [
    "# DES starts"
   ]
  },
  {
   "cell_type": "markdown",
   "metadata": {},
   "source": [
    "### Initialize SimPy environment"
   ]
  },
  {
   "cell_type": "code",
   "execution_count": 498,
   "metadata": {},
   "outputs": [],
   "source": [
    "env = simpy.Environment()"
   ]
  },
  {
   "cell_type": "markdown",
   "metadata": {},
   "source": [
    "### Calculate each node's capacity (how many patients can it serve at one time)"
   ]
  },
  {
   "cell_type": "markdown",
   "metadata": {},
   "source": [
    "#### - waiting area and corridors' capacities are 1m² per person, all other nodes' capacites are 1."
   ]
  },
  {
   "cell_type": "code",
   "execution_count": 499,
   "metadata": {},
   "outputs": [
    {
     "name": "stdout",
     "output_type": "stream",
     "text": [
      "{0: 127, 1: 178, 2: 1, 3: 50, 4: 1, 5: 1, 6: 25, 7: 27, 8: 1, 9: 40, 10: 1, 11: 29, 12: 1, 13: 1, 14: 41, 15: 24, 16: 20, 17: 1, 18: 39, 19: 10, 20: 1, 21: 29, 22: 27, 23: 1, 24: 31, 25: 16, 26: 19, 27: 28, 28: 15, 29: 1, 30: 13, 31: 12, 32: 1, 33: 13, 34: 1, 35: 14, 36: 17, 37: 1, 38: 10, 39: 1, 40: 1, 41: 1, 42: 1, 43: 1, 44: 1, 45: 1, 46: 1, 47: 11, 48: 1, 49: 19, 50: 1, 51: 13, 52: 1, 53: 7, 54: 20, 55: 1, 56: 1, 57: 1, 58: 1, 59: 1, 60: 1, 61: 1, 62: 1, 63: 8, 64: 1, 65: 1, 66: 1, 67: 1, 68: 1, 69: 8, 70: 1, 71: 1, 72: 1, 73: 1, 74: 5, 75: 5, 76: 5, 77: 1, 78: 1, 79: 1, 80: 1, 81: 9, 82: 1, 83: 1, 84: 1, 85: 1, 86: 1, 87: 1, 88: 1, 89: 1, 90: 7, 91: 1, 92: 1, 93: 1, 94: 1, 95: 1, 96: 1, 97: 1, 98: 1, 99: 12, 100: 1, 101: 1, 102: 1, 103: 1, 104: 1, 105: 1, 106: 1, 107: 1, 108: 1, 109: 1, 110: 1, 111: 1, 112: 1, 113: 1, 114: 1, 115: 1, 116: 1, 117: 1, 118: 1, 119: 11, 120: 1, 121: 1, 122: 1, 123: 1, 124: 1, 125: 1, 126: 1, 127: 1, 128: 1, 129: 11, 130: 7, 131: 1, 132: 1, 133: 1, 134: 1, 135: 1, 136: 1, 137: 1, 138: 1, 139: 1, 140: 1, 141: 1, 142: 1, 143: 1, 144: 1, 145: 1, 146: 1, 147: 1, 148: 1, 149: 1, 150: 11, 151: 1, 152: 1, 153: 1, 154: 1, 155: 1, 156: 8, 157: 1, 158: 1, 159: 1, 160: 1, 161: 1, 162: 1, 163: 1, 164: 1, 165: 1, 166: 1, 167: 1, 168: 1, 169: 1, 170: 1, 171: 1, 172: 1, 173: 1, 174: 1, 175: 1, 176: 1, 177: 1, 178: 6, 179: 1, 180: 1, 181: 1, 182: 1, 183: 1, 184: 1, 185: 1, 186: 1, 187: 1, 188: 1, 189: 1, 190: 1, 191: 1, 192: 1, 193: 1, 194: 7, 195: 1, 196: 1, 197: 1, 198: 1, 199: 1, 200: 1, 201: 1, 202: 1, 203: 1, 204: 1, 205: 1, 206: 1, 207: 1, 208: 1, 209: 1, 210: 1, 211: 1, 212: 1, 213: 1, 214: 1, 215: 1, 216: 1, 217: 1, 218: 1, 219: 1, 220: 1, 221: 1, 222: 7, 223: 1, 224: 1, 225: 1, 226: 8, 227: 1, 228: 1, 229: 1, 230: 1, 231: 1, 232: 1, 233: 1, 234: 1, 235: 1, 236: 1, 237: 1, 238: 1, 239: 1, 240: 1, 241: 1, 242: 1, 243: 1, 244: 1, 245: 1, 246: 1, 247: 1, 248: 1, 249: 1, 250: 1, 251: 1, 252: 1, 253: 1, 254: 1, 255: 1, 256: 1, 257: 1, 258: 1, 259: 1, 260: 1, 261: 1, 262: 1, 263: 1, 264: 1, 265: 1, 266: 1, 267: 1, 268: 1, 269: 1, 270: 1, 271: 1, 272: 1, 273: 1, 274: 1, 275: 1, 276: 1, 277: 1, 278: 1, 279: 1, 280: 1, 281: 1, 282: 1, 283: 1, 284: 1, 285: 1, 286: 1, 287: 1, 288: 1, 289: 1, 290: 1, 291: 1, 292: 1, 293: 1, 294: 1, 295: 1, 296: 1, 297: 1, 298: 1, 299: 1, 300: 1, 301: 1, 302: 1, 303: 1, 304: 1, 305: 1, 306: 1, 307: 1, 308: 1, 309: 1, 310: 1, 311: 1, 312: 1, 313: 1, 314: 1, 315: 1, 316: 1, 317: 1, 318: 1, 319: 1, 320: 1, 321: 1, 322: 1, 323: 1, 324: 1, 325: 1, 326: 1, 327: 1, 328: 1, 329: 1, 330: 1, 331: 1, 332: 1, 333: 1, 334: 1, 335: 1, 336: 1, 337: 1, 338: 1, 339: 1, 340: 1, 341: 1, 342: 1, 343: 1, 344: 1, 345: 1, 346: 1, 347: 1, 348: 1, 349: 1, 350: 1, 351: 1, 352: 1, 353: 1, 354: 1, 355: 1, 356: 1, 357: 1, 358: 1, 359: 1, 360: 1, 361: 1, 362: 1, 363: 1, 364: 1, 365: 1, 366: 1, 367: 1, 368: 1, 369: 1, 370: 1, 371: 1, 372: 1, 373: 1, 374: 1, 375: 1, 376: 1, 377: 1, 378: 1, 379: 1, 380: 1, 381: 1, 382: 1, 383: 1, 384: 1, 385: 1, 386: 1, 387: 1, 388: 1, 389: 1, 390: 1, 391: 1, 392: 1, 393: 1, 394: 1, 395: 1, 396: 1, 397: 1, 398: 1, 399: 1, 400: 1, 401: 1, 402: 1, 403: 1, 404: 1, 405: 1, 406: 1, 407: 1, 408: 1, 409: 1, 410: 1, 411: 1, 412: 1, 413: 1, 414: 1, 415: 1, 416: 1, 417: 1, 418: 1, 419: 1, 420: 1, 421: 1, 422: 1, 423: 1, 424: 1, 425: 1, 426: 1, 427: 1, 428: 1, 429: 1, 430: 1, 431: 1, 432: 1, 433: 1, 434: 1, 435: 1, 436: 1, 437: 1, 438: 1, 439: 1, 440: 1, 441: 1, 442: 1, 443: 1, 444: 1, 445: 1, 446: 1, 447: 1, 448: 1, 449: 1, 450: 1, 451: 1, 452: 1, 453: 1, 454: 1, 455: 1, 456: 1, 457: 1, 458: 1, 459: 1, 460: 1, 461: 1, 462: 1, 463: 1, 464: 1, 465: 1, 466: 1, 467: 1, 468: 1, 469: 1, 470: 1, 471: 1, 472: 1, 473: 1, 474: 1, 475: 1, 476: 1, 477: 1, 478: 1, 479: 1, 480: 1, 481: 1, 482: 1, 483: 1, 484: 1, 485: 1, 486: 1, 487: 1, 488: 1, 489: 1, 490: 1, 491: 1, 492: 1, 493: 1, 494: 1, 495: 1, 496: 1, 497: 1, 498: 1, 499: 1, 500: 1, 501: 1}\n"
     ]
    }
   ],
   "source": [
    "\n",
    "def get_capacity(G):\n",
    "\n",
    "    # Extract nodes with 'name' attribute containing 'CORRIDOR' or 'WAITING'\n",
    "    extracted_nodes = [node for node in G.nodes(data=True) if 'CORRIDOR' in node[1]['name'] or 'WAITING' in node[1]['name']]\n",
    "\n",
    "    # Add 'capacity' attribute to each extracted node\n",
    "    for node in extracted_nodes:\n",
    "        node_index, node_data = node\n",
    "        node_data['capacity'] = int(float(node_data['area']))  # Convert to float first, then to int\n",
    "\n",
    "    # Create the capacities dictionary\n",
    "    capacities = {}\n",
    "\n",
    "    for node in G.nodes(data=True):\n",
    "        node_index, node_data = node\n",
    "        # If 'capacity' attribute exists, use it, otherwise assign 1\n",
    "        capacities[node_index] = node_data.get('capacity', 1)\n",
    "\n",
    "    return capacities\n",
    "\n",
    "capacities = get_capacity(G)\n",
    "print(capacities)"
   ]
  },
  {
   "cell_type": "code",
   "execution_count": 500,
   "metadata": {},
   "outputs": [],
   "source": [
    "# according to capacity, Create resources at nodes\n",
    "resources = {node: simpy.Resource(env, capacity=capacities[node]) for node in G.nodes}"
   ]
  },
  {
   "cell_type": "markdown",
   "metadata": {},
   "source": [
    "### Data tracking"
   ]
  },
  {
   "cell_type": "code",
   "execution_count": 501,
   "metadata": {},
   "outputs": [],
   "source": [
    "waiting_times = {node: [] for node in G.nodes}\n",
    "walking_distances = []  # Track walking distance for each patient\n",
    "patient_waiting_times = []  # Track total waiting time for each patient\n",
    "crowding = {node: [] for node in G.nodes} #crowdedness\n",
    "patients_in_node = {node: 0 for node in G.nodes}\n",
    "patient_travel_paths = {}  # Dictionary to store each patient's journey\n",
    "\n",
    "# Track occupancy at each node over time\n",
    "occupancy = {node: [] for node in G.nodes}"
   ]
  },
  {
   "cell_type": "markdown",
   "metadata": {},
   "source": [
    "### Function to calculate distance between two nodes"
   ]
  },
  {
   "cell_type": "code",
   "execution_count": 502,
   "metadata": {},
   "outputs": [],
   "source": [
    "def calculate_distance(node1, node2):\n",
    "    pos1 = np.array(G.nodes[node1]['coords'])\n",
    "    pos2 = np.array(G.nodes[node2]['coords'])\n",
    "    return np.linalg.norm(pos1 - pos2)"
   ]
  },
  {
   "cell_type": "markdown",
   "metadata": {},
   "source": [
    "### Function for creating Patient process (patient goes through patient path)"
   ]
  },
  {
   "cell_type": "code",
   "execution_count": 503,
   "metadata": {},
   "outputs": [],
   "source": [
    "def patient(env, patient_id, path):\n",
    "    total_walking_distance = 0\n",
    "    total_waiting_time = 0\n",
    "    journey = []  \n",
    "\n",
    "    for i, node in enumerate(path):\n",
    "        journey.append(node)  \n",
    "\n",
    "        # Calculate walking distance \n",
    "        if i > 0:\n",
    "            dist = calculate_distance(path[i-1], node)\n",
    "            total_walking_distance += dist\n",
    "\n",
    "        # calculate waiting time\n",
    "        if capacities[node] > 0:  \n",
    "            arrival_time = env.now\n",
    "            with resources[node].request() as req:\n",
    "                patients_in_node[node] += 1  # Update crowding\n",
    "                yield req\n",
    "                \n",
    "                waiting_time = env.now - arrival_time\n",
    "                total_waiting_time += waiting_time\n",
    "                waiting_times[node].append(waiting_time)\n",
    "\n",
    "        # simulate treatment (random service time: 15)\n",
    "                yield env.timeout(np.random.exponential(15))  \n",
    "\n",
    "        # calculate crowdedness (people density)\n",
    "                occupancy[node].append(patients_in_node[node])\n",
    "\n",
    "        crowding[node].append(patients_in_node[node] / float(G.nodes[node]['area']) if G.nodes[node]['area'] != 'NA' else 0)\n",
    "        patients_in_node[node] -= 1  # Patient leaves the node\n",
    "\n",
    "    # Record the walking distance, waiting time, and travel path for this patient\n",
    "    walking_distances.append(total_walking_distance)\n",
    "    patient_waiting_times.append(total_waiting_time)\n",
    "    patient_travel_paths[f'patient_{patient_id}'] = journey  \n"
   ]
  },
  {
   "cell_type": "markdown",
   "metadata": {},
   "source": [
    "### Function for choosing any available interaction room\n",
    "\n",
    "Since there are multiple interaction rooms for patient to choose, \n",
    "\n",
    "this function ensures that patient can choose any available room, so it saves waiting time."
   ]
  },
  {
   "cell_type": "code",
   "execution_count": 504,
   "metadata": {},
   "outputs": [],
   "source": [
    "# new code for checking which nodes are multiple choice nodes\n",
    "def get_path_node_info(all_path,G):\n",
    "\n",
    "    path_info = {}\n",
    "    for path_id, path in enumerate(all_path):\n",
    "        \n",
    "        node_info_dict = {}\n",
    "\n",
    "        for node in path:\n",
    "            node_info = G.nodes[node]\n",
    "            node_info_dict[node] = node_info\n",
    "\n",
    "        path_info['path_'+str(path_id)] = node_info_dict\n",
    "\n",
    "    #print(len(path_info))\n",
    "    return path_info\n",
    "\n",
    "m1_path_info = get_path_node_info(all_real_medical_path_1,G)\n",
    "m2_path_info = get_path_node_info(all_real_medical_path_2,G)\n",
    "m3_path_info = get_path_node_info(all_real_medical_path_3,G)\n",
    "p1_path_info = get_path_node_info(all_real_pediatric_path_1,G)\n",
    "p2_path_info = get_path_node_info(all_real_pediatric_path_2,G)\n",
    "p3_path_info = get_path_node_info(all_real_pediatric_path_3,G)"
   ]
  },
  {
   "cell_type": "code",
   "execution_count": 505,
   "metadata": {},
   "outputs": [],
   "source": [
    "def get_triage_and_interaction_station(path_node_info):\n",
    "\n",
    "    final_dict = {}\n",
    "    collected_path_and_triage_station = {}\n",
    "    for path_id, path_info in path_node_info.items():\n",
    "        \n",
    "        filtered_dict = {k: {'name': v['name']} for k, v in path_info.items() if 'WTS' in v['name'] or 'INTERACTION' in v['name']}\n",
    "        final_dict[path_id] = filtered_dict\n",
    "    \n",
    "    for path_name, stations in final_dict.items():\n",
    "        node_ids = list(stations.keys())\n",
    "        collected_node_ids = [node_ids[0], node_ids[-1]]\n",
    "        collected_path_and_triage_station[path_name]= collected_node_ids\n",
    "\n",
    "    return collected_path_and_triage_station\n",
    "\n",
    "medical_p1_triage_interaction = get_triage_and_interaction_station(m1_path_info)\n",
    "medical_p2_triage_interaction = get_triage_and_interaction_station(m2_path_info)\n",
    "medical_p3_triage_interaction = get_triage_and_interaction_station(m3_path_info)\n",
    "pediatric_p1_triage_interaction = get_triage_and_interaction_station(p1_path_info)\n",
    "pediatric_p2_triage_interaction = get_triage_and_interaction_station(p2_path_info)\n",
    "pediatric_p3_triage_interaction = get_triage_and_interaction_station(p3_path_info)"
   ]
  },
  {
   "cell_type": "code",
   "execution_count": 506,
   "metadata": {},
   "outputs": [],
   "source": [
    "def get_available_paths(resources,all_paths, triage_and_station):\n",
    "    available_paths = []\n",
    "    for path, values in triage_and_station.items():\n",
    "        if resources[(values[0])].count < resources[(values[0])].capacity and resources[(values[1])].count < resources[(values[1])].capacity:  \n",
    "            available_paths.append(all_paths[(int(path.split('_')[1]))])\n",
    "\n",
    "    return available_paths\n"
   ]
  },
  {
   "cell_type": "markdown",
   "metadata": {},
   "source": [
    "### Simulation input, e.g., path choices and the possibility of taking each path, this can also be turned into requiring path data input from users."
   ]
  },
  {
   "cell_type": "code",
   "execution_count": 507,
   "metadata": {},
   "outputs": [],
   "source": [
    "\n",
    "path_choices = ['medical_1', 'medical_2', 'medical_3', \n",
    "                        'pediatric_1', 'pediatric_2', 'pediatric_3']\n",
    "path_weights = [0.49, 0.05, 0.01, 0.39, 0.05, 0.01]\n",
    "\n",
    "all_paths = [all_real_medical_path_1,all_real_medical_path_2,all_real_medical_path_3,\n",
    "             all_real_pediatric_path_1,all_real_pediatric_path_2,all_real_pediatric_path_3]\n",
    "all_tria_and_interaction = [medical_p1_triage_interaction,medical_p2_triage_interaction,medical_p3_triage_interaction,\n",
    "                            pediatric_p1_triage_interaction,pediatric_p2_triage_interaction,pediatric_p3_triage_interaction]\n",
    "\n"
   ]
  },
  {
   "cell_type": "markdown",
   "metadata": {},
   "source": [
    "### Function for generating patients"
   ]
  },
  {
   "cell_type": "code",
   "execution_count": 508,
   "metadata": {},
   "outputs": [],
   "source": [
    "def generate_patients(env, num_patients,all_paths,all_tria_and_interaction,path_choices,path_weights):\n",
    "    for i in range(num_patients):\n",
    "        # patient choose a path based on probabilities\n",
    "        path_type_choice = random.choices(path_choices, weights=path_weights)[0]\n",
    "\n",
    "        # Find the index of the chosen path\n",
    "        path_index = path_choices.index(path_type_choice)\n",
    "        \n",
    "        # Get available paths for the chosen path\n",
    "        available_paths = get_available_paths(resources, all_paths[path_index], all_tria_and_interaction[path_index])\n",
    "        \n",
    "        if available_paths:\n",
    "            chosen_path = random.choice(available_paths)\n",
    "            env.process(patient(env, i, chosen_path))\n",
    "        else:\n",
    "            # If no paths available, the patient waits for some time before retrying\n",
    "            yield env.timeout(1)\n",
    "        \n",
    "        # Simulate random patient arrival time \n",
    "       \n",
    "\n",
    "        yield env.timeout(np.random.exponential(10))  # Random patient arrival time"
   ]
  },
  {
   "cell_type": "markdown",
   "metadata": {},
   "source": [
    "### Run the simulation & collect patient travel paths"
   ]
  },
  {
   "cell_type": "code",
   "execution_count": 509,
   "metadata": {},
   "outputs": [
    {
     "name": "stdout",
     "output_type": "stream",
     "text": [
      "patient_0, [44, 333, 7, 335, 0, 1, 324, 119, 471, 21, 470, 107, 470, 21, 471, 119, 324, 1, 302, 74, 301, 104, 11, 306, 85, 306, 11, 104, 301, 74, 302, 1, 0, 49, 266, 89, 297, 10]\n",
      "patient_1, [44, 333, 7, 335, 0, 1, 324, 119, 471, 21, 470, 107, 470, 21, 471, 119, 471, 21, 472, 211, 472, 21, 471, 119, 324, 1, 0, 49, 266, 89, 297, 10]\n",
      "patient_2, [44, 333, 7, 335, 0, 1, 152, 1, 302, 74, 301, 104, 11, 307, 208, 307, 11, 104, 301, 74, 302, 1, 0, 49, 266, 89, 297, 10]\n",
      "patient_7, [44, 333, 7, 335, 0, 1, 152, 1, 302, 74, 301, 104, 11, 309, 71, 309, 11, 104, 301, 74, 302, 1, 0, 49, 266, 89, 297, 10]\n"
     ]
    }
   ],
   "source": [
    "env.process(generate_patients(env, 10,all_paths,all_tria_and_interaction,path_choices,path_weights))  # Simulate the hospital with 20 patients\n",
    "env.run(until=720)  # Run the simulation for 1440 minutes\n",
    "\n",
    "# print all patient travel paths\n",
    "def extract_patient_number(key):\n",
    "    return int(key.split('_')[1])\n",
    "\n",
    "for key in sorted(patient_travel_paths.keys(), key=extract_patient_number):\n",
    "    print(f\"{key}, {patient_travel_paths[key]}\")"
   ]
  },
  {
   "cell_type": "markdown",
   "metadata": {},
   "source": [
    "# Assessing Difficulty in wayfinding \n",
    "### - by calculating extra walking distance"
   ]
  },
  {
   "cell_type": "markdown",
   "metadata": {},
   "source": [
    "### load the random patient paths"
   ]
  },
  {
   "cell_type": "code",
   "execution_count": 510,
   "metadata": {},
   "outputs": [],
   "source": [
    "with open('C:/Users/SID-DRW/OneDrive - Delft University of Technology/Documents/GitHub/HDES/Data/new_all_random_medical_path_1.pkl', 'rb') as f:\n",
    "    all_real_medical_random_path_1 = pickle.load(f)\n",
    "\n",
    "with open('C:/Users/SID-DRW/OneDrive - Delft University of Technology/Documents/GitHub/HDES/Data/new_all_random_medical_path_2.pkl', 'rb') as f:\n",
    "    all_real_medical_random_path_2 = pickle.load(f)\n",
    "\n",
    "with open('C:/Users/SID-DRW/OneDrive - Delft University of Technology/Documents/GitHub/HDES/Data/new_all_random_medical_path_3.pkl', 'rb') as f:\n",
    "    all_real_medical_random_path_3 = pickle.load(f)\n",
    "\n",
    "with open('C:/Users/SID-DRW/OneDrive - Delft University of Technology/Documents/GitHub/HDES/Data/new_all_random_pediatric_path_1.pkl', 'rb') as f:\n",
    "    all_real_pediatric_random_path_1 = pickle.load(f)\n",
    "\n",
    "with open('C:/Users/SID-DRW/OneDrive - Delft University of Technology/Documents/GitHub/HDES/Data/new_all_random_pediatric_path_2.pkl', 'rb') as f:\n",
    "    all_real_pediatric_random_path_2 = pickle.load(f)\n",
    "\n",
    "with open('C:/Users/SID-DRW/OneDrive - Delft University of Technology/Documents/GitHub/HDES/Data/new_all_random_pediatric_path_3.pkl', 'rb') as f:\n",
    "    all_real_pediatric_random_path_3 = pickle.load(f)"
   ]
  },
  {
   "cell_type": "markdown",
   "metadata": {},
   "source": [
    "### Calculate distance of patient path"
   ]
  },
  {
   "cell_type": "code",
   "execution_count": 511,
   "metadata": {},
   "outputs": [],
   "source": [
    "# Function for calulating total distance of the path\n",
    "\n",
    "import math\n",
    "\n",
    "def calculate_path_distance(path, G):\n",
    "    total_distance = 0.0\n",
    "\n",
    "    # Iterate through consecutive nodes in the path\n",
    "    for i in range(len(path) - 1):\n",
    "        node1 = path[i]\n",
    "        node2 = path[i + 1]\n",
    "        \n",
    "        # Get the 3D coordinates of both nodes\n",
    "        x1, y1, z1 = G.nodes[node1]['coords']\n",
    "        x2, y2, z2 = G.nodes[node2]['coords']\n",
    "        \n",
    "        # Calculate the Euclidean distance between node1 and node2\n",
    "        distance = math.sqrt((x2 - x1) ** 2 + (y2 - y1) ** 2 + (z2 - z1) ** 2)\n",
    "        \n",
    "        # Add the distance to the total distance\n",
    "        total_distance += distance\n",
    "\n",
    "    return total_distance\n"
   ]
  },
  {
   "cell_type": "code",
   "execution_count": 512,
   "metadata": {},
   "outputs": [],
   "source": [
    "# Function for calulating average distance of multiple paths\n",
    "\n",
    "def get_total_distance_allPath(all_path,G):\n",
    "    distances = []\n",
    "    for path in all_path:\n",
    "        single_distance = calculate_path_distance(path,G)\n",
    "        distances.append(single_distance)\n",
    "    final_total_distance = sum(distances)\n",
    "    average = final_total_distance / len(distances)\n",
    "\n",
    "    return average"
   ]
  },
  {
   "cell_type": "code",
   "execution_count": 513,
   "metadata": {},
   "outputs": [
    {
     "name": "stdout",
     "output_type": "stream",
     "text": [
      "24431.384940265634\n",
      "23822.884196410654\n",
      "28308.635505665923\n",
      "21568.505246506502\n",
      "38831.68177714813\n",
      "21568.505246506502\n"
     ]
    }
   ],
   "source": [
    "# Average distance of the random paths\n",
    "all_distance_m1 = get_total_distance_allPath(all_real_medical_random_path_1,G)\n",
    "print(all_distance_m1)\n",
    "\n",
    "all_distance_m2 = get_total_distance_allPath(all_real_medical_random_path_2,G)\n",
    "print(all_distance_m2)\n",
    "\n",
    "all_distance_m3 = get_total_distance_allPath(all_real_medical_random_path_3,G)\n",
    "print(all_distance_m3)\n",
    "\n",
    "all_distance_p1 = get_total_distance_allPath(all_real_pediatric_random_path_1,G)\n",
    "print(all_distance_p1)  \n",
    "\n",
    "all_distance_p2 = get_total_distance_allPath(all_real_pediatric_random_path_2,G)\n",
    "print(all_distance_p2) \n",
    "\n",
    "all_distance_p3 = get_total_distance_allPath(all_real_pediatric_random_path_1,G)\n",
    "print(all_distance_p3) "
   ]
  },
  {
   "cell_type": "code",
   "execution_count": 514,
   "metadata": {},
   "outputs": [
    {
     "name": "stdout",
     "output_type": "stream",
     "text": [
      "157.51595594963723\n",
      "179.45764113973368\n",
      "192.9740593324609\n",
      "172.62135514002588\n",
      "194.56304033012233\n",
      "208.07945852284956\n"
     ]
    }
   ],
   "source": [
    "# average distance of shortest paths\n",
    "\n",
    "all_shortest_distance_m1 = get_total_distance_allPath(all_real_medical_path_1,G)\n",
    "print(all_shortest_distance_m1)\n",
    "\n",
    "all_shortest_distance_m2 = get_total_distance_allPath(all_real_medical_path_2,G)\n",
    "print(all_shortest_distance_m2)\n",
    "\n",
    "all_shortest_distance_m3 = get_total_distance_allPath(all_real_medical_path_3,G)\n",
    "print(all_shortest_distance_m3)\n",
    "\n",
    "all_shortest_distance_p1 = get_total_distance_allPath(all_real_pediatric_path_1,G)\n",
    "print(all_shortest_distance_p1)\n",
    "\n",
    "all_shortest_distance_p2 = get_total_distance_allPath(all_real_pediatric_path_2,G)\n",
    "print(all_shortest_distance_p2)\n",
    "\n",
    "all_shortest_distance_p3 = get_total_distance_allPath(all_real_pediatric_path_3,G)\n",
    "print(all_shortest_distance_p3)"
   ]
  },
  {
   "cell_type": "markdown",
   "metadata": {},
   "source": [
    "### Extra walking distance"
   ]
  },
  {
   "cell_type": "code",
   "execution_count": 515,
   "metadata": {},
   "outputs": [],
   "source": [
    "def get_extra_walking_distance(random_d1,random_d2,random_d3,\n",
    "                               random_p1,random_p2,random_p3,\n",
    "                               shortest_d1,shortest_d2,shortest_d3,\n",
    "                               shortest_p1,shortest_p2,shortest_p3):\n",
    "    random_average_distance = 0.49*random_d1+0.05*random_d2+0.01*random_d3+0.39*random_p1+0.05*random_p2+0.01*random_p3\n",
    "    shortest_average_distance = 0.49*shortest_d1+0.05*shortest_d2+0.01*shortest_d3+0.39*shortest_p1+0.05*shortest_p2+0.01*shortest_p3\n",
    "\n",
    "    extra_distance = random_average_distance - shortest_average_distance\n",
    "\n",
    "    return extra_distance"
   ]
  },
  {
   "cell_type": "code",
   "execution_count": 516,
   "metadata": {},
   "outputs": [
    {
     "name": "stdout",
     "output_type": "stream",
     "text": [
      "23847.378656895384\n"
     ]
    }
   ],
   "source": [
    "extra_distance = get_extra_walking_distance(all_distance_m1,all_distance_m2,all_distance_m3,\n",
    "                                            all_distance_p1,all_distance_p2,all_distance_p3,\n",
    "                                            all_shortest_distance_m1,all_shortest_distance_m2,all_shortest_distance_m3,\n",
    "                                            all_shortest_distance_p1,all_shortest_distance_p2,all_shortest_distance_p3)\n",
    "\n",
    "print(extra_distance)"
   ]
  },
  {
   "cell_type": "markdown",
   "metadata": {},
   "source": [
    "# Evaluation mechanism of simulation results"
   ]
  },
  {
   "cell_type": "markdown",
   "metadata": {},
   "source": [
    "## Aggregating simulation results"
   ]
  },
  {
   "cell_type": "code",
   "execution_count": 517,
   "metadata": {},
   "outputs": [
    {
     "name": "stdout",
     "output_type": "stream",
     "text": [
      "Average patient walking distance: 168.17482525482637\n",
      "Average patient waiting time: 102.64097429122174\n",
      "Average people density at public areas: 0.0759929391574581\n",
      "Average extra walking distance: 23847.378656895384\n"
     ]
    }
   ],
   "source": [
    "# After simulation, analyze the collected data\n",
    "average_walking_distance = np.mean(walking_distances)\n",
    "average_patient_waiting_time = np.mean(patient_waiting_times)\n",
    "\n",
    "# people density at each node\n",
    "Average_crowding_at_each_node = {node: np.mean(crowding[node]) for node in crowding if crowding[node]}\n",
    "nodes = G.nodes(data=True)\n",
    "\n",
    "# people density at public nodes (waiting areas, corridors and stairs)\n",
    "keywords = ['WAITING', 'CORRIDOR', 'STAIR']\n",
    "\n",
    "filtered_node_ids = [\n",
    "    node_id for node_id, attributes in nodes \n",
    "    if any(keyword in attributes.get('name', '') for keyword in keywords)\n",
    "]\n",
    "\n",
    "filtered_crowding = {\n",
    "    node_id: Average_crowding_at_each_node[node_id] \n",
    "    for node_id in filtered_node_ids \n",
    "    if node_id in Average_crowding_at_each_node\n",
    "}\n",
    "\n",
    "# average people density at public areas (waiting areas, corridors and stairs)\n",
    "average_crowding = sum(filtered_crowding.values()) / len(filtered_crowding)\n",
    "\n",
    "#print(\"Average waiting times at each node:\", {node: np.mean(waiting_times[node]) for node in waiting_times if waiting_times[node]})\n",
    "print(\"Average patient walking distance:\", average_walking_distance)\n",
    "print(\"Average patient waiting time:\", average_patient_waiting_time)\n",
    "print(\"Average people density at public areas:\", average_crowding)\n",
    "print(\"Average extra walking distance:\", extra_distance)\n"
   ]
  },
  {
   "cell_type": "markdown",
   "metadata": {},
   "source": [
    "## Reletavizing simulation results"
   ]
  },
  {
   "cell_type": "markdown",
   "metadata": {},
   "source": [
    "### Relativizing average patient walking distance\n",
    "\n",
    "### Relative Patient Walking Distance = (Average Patient Walking Distance/ graph Total Distance)×100"
   ]
  },
  {
   "cell_type": "code",
   "execution_count": 518,
   "metadata": {},
   "outputs": [
    {
     "name": "stdout",
     "output_type": "stream",
     "text": [
      "Total Path Distance (hospital size): 1604.18\n",
      "Relative Walking Distance (% of hospital size): 10.48%\n"
     ]
    }
   ],
   "source": [
    "# Calculate the distance between each pair of connected nodes in the graph\n",
    "def calculate_total_path_distance(graph):\n",
    "    total_distance = 0\n",
    "    for u, v in graph.edges:\n",
    "        pos_u = np.array(graph.nodes[u]['coords'])\n",
    "        pos_v = np.array(graph.nodes[v]['coords'])\n",
    "        # Calculate Euclidean distance between nodes u and v\n",
    "        distance = np.linalg.norm(pos_u - pos_v)\n",
    "        total_distance += distance\n",
    "    return total_distance\n",
    "\n",
    "# Total path distance for the entire hospital layout\n",
    "total_path_distance = calculate_total_path_distance(G)\n",
    "\n",
    "# Calculate relative walking distance as a percentage of total path distance\n",
    "relative_walking_distance = (average_walking_distance / total_path_distance) * 100\n",
    "\n",
    "print(f\"Total Path Distance (hospital size): {total_path_distance:.2f}\")\n",
    "print(f\"Relative Walking Distance (% of hospital size): {relative_walking_distance:.2f}%\")\n"
   ]
  },
  {
   "cell_type": "markdown",
   "metadata": {},
   "source": [
    "### Relativizing average patient extra walking distance\n",
    "\n",
    "### Relative Patient Extra Walking Distance = (Average Patient Extra Walking Distance/ graph Total Distance)×100"
   ]
  },
  {
   "cell_type": "code",
   "execution_count": 519,
   "metadata": {},
   "outputs": [
    {
     "name": "stdout",
     "output_type": "stream",
     "text": [
      "Relative Patient Extra Walking Distance (% of hospital size): 1486.58%\n"
     ]
    }
   ],
   "source": [
    "relative_extra_walking_distance = (extra_distance / total_path_distance) * 100\n",
    "\n",
    "print(f\"Relative Patient Extra Walking Distance (% of hospital size): {relative_extra_walking_distance:.2f}%\")\n"
   ]
  },
  {
   "cell_type": "markdown",
   "metadata": {},
   "source": [
    "## Interpretating simulation results"
   ]
  }
 ],
 "metadata": {
  "kernelspec": {
   "display_name": "HDSS",
   "language": "python",
   "name": "python3"
  },
  "language_info": {
   "codemirror_mode": {
    "name": "ipython",
    "version": 3
   },
   "file_extension": ".py",
   "mimetype": "text/x-python",
   "name": "python",
   "nbconvert_exporter": "python",
   "pygments_lexer": "ipython3",
   "version": "3.11.5"
  }
 },
 "nbformat": 4,
 "nbformat_minor": 2
}
