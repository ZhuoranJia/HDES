{
 "cells": [
  {
   "cell_type": "markdown",
   "metadata": {},
   "source": [
    "# Determining patient paths using Four-Step Travle Model"
   ]
  },
  {
   "cell_type": "code",
   "execution_count": 756,
   "metadata": {},
   "outputs": [],
   "source": [
    "import networkx as nx\n",
    "import pickle\n",
    "import json\n",
    "import numpy as np"
   ]
  },
  {
   "cell_type": "markdown",
   "metadata": {},
   "source": [
    "## Data preparation before Four-Step model"
   ]
  },
  {
   "cell_type": "markdown",
   "metadata": {},
   "source": [
    "### Load the graph from the HCM & Set nodes' attributes"
   ]
  },
  {
   "cell_type": "code",
   "execution_count": 757,
   "metadata": {},
   "outputs": [],
   "source": [
    "fin_new = open(\"C:/Users/SID-DRW/OneDrive - Delft University of Technology/Desktop/new_boundaries_0204/GENERATING_GML/second_round/etreeGML.json\")\n",
    "j_new = json.loads(fin_new.read())"
   ]
  },
  {
   "cell_type": "code",
   "execution_count": 758,
   "metadata": {},
   "outputs": [],
   "source": [
    "with open('C:/Users/SID-DRW/OneDrive - Delft University of Technology/Documents/GitHub/HDSS_test/data/other data/nx_graph.pkl', 'rb') as f:\n",
    "    G_new = pickle.load(f)"
   ]
  },
  {
   "cell_type": "code",
   "execution_count": 759,
   "metadata": {},
   "outputs": [
    {
     "name": "stdout",
     "output_type": "stream",
     "text": [
      "{0: {'name': 'CENTRALWAITING1AC1', 'area': '127.0993141'}, 1: {'name': 'WAITING/ACTIVITYAREA1DC1', 'area': '178.2169708'}, 2: {'name': 'ROOF2R02', 'area': '578.7414997'}, 3: {'name': 'CORRIDOR1EC1', 'area': '50.950835'}, 4: {'name': 'ROOF3R01', 'area': '1729.774807'}, 5: {'name': 'MAINMECHANICALROOM2D05', 'area': '226.04322'}, 6: {'name': 'CORRIDOR2AC3', 'area': '25.4807999'}, 7: {'name': 'CORRIDOR1BC2', 'area': '27.31731525'}, 8: {'name': 'TECH.OFFICE2D18', 'area': '82.089156'}, 9: {'name': 'CORRIDOR1CC1', 'area': '40.23448'}, 10: {'name': 'PHARM.DISP.1A16', 'area': '65.22472'}, 11: {'name': 'CORRIDOR1DC3', 'area': '29.65476604'}, 12: {'name': 'PHYSICALEXAM1C18', 'area': '55.37747'}, 13: {'name': 'LAB1B04', 'area': '51.1950656'}, 14: {'name': 'CORRIDOR1BC4', 'area': '41.72148526'}, 15: {'name': 'CORRIDOR2BC3', 'area': '24.92304611'}, 16: {'name': 'CORRIDOR2BC5', 'area': '20.941674'}, 17: {'name': 'RECEIVING/STORAGE1E24', 'area': '115.1199912'}, 18: {'name': 'CORRIDOR2AC1', 'area': '39.02683601'}, 19: {'name': 'CORRIDOR1CC3', 'area': '10.608154'}, 20: {'name': 'PROVIDERCUBICLES1D16', 'area': '65.26142'}, 21: {'name': 'CORRIDOR1DC7', 'area': '29.82494475'}, 22: {'name': 'CORRIDOR2BC2', 'area': '27.59131613'}, 23: {'name': 'BMETWORKSTATION1E16', 'area': '46.7310228'}, 24: {'name': 'DENTALWAITING2A11', 'area': '31.7576639'}, 25: {'name': 'CORRIDOR2CC3', 'area': '16.08426'}, 26: {'name': 'CORRIDOR1AC5', 'area': '19.219196'}, 27: {'name': 'CORRIDOR2DC2', 'area': '28.37771404'}, 28: {'name': 'CORRIDOR1AC3', 'area': '15.00834681'}, 29: {'name': 'PROVIDERCUBICLES1D25', 'area': '65.19988'}, 30: {'name': 'CORRIDOR1DC6', 'area': '13.885884'}, 31: {'name': 'CORRIDOR2CC2', 'area': '12.3633'}, 32: {'name': 'PROSTH.LAB2C17', 'area': '28.58567199'}, 33: {'name': 'CORRIDOR2AC4', 'area': '13.3551'}, 34: {'name': 'M.STAFFTOILET2C07', 'area': '12.64593968'}, 35: {'name': 'CORRIDOR1DC4', 'area': '14.1001505'}, 36: {'name': 'CORRIDOR2CC1', 'area': '17.41818966'}, 37: {'name': 'TECH.WORKSTATION1E06', 'area': '35.87712'}, 38: {'name': 'CORRIDOR2CC4', 'area': '10.0491'}, 39: {'name': 'OPENTOBELOW2AC1-B', 'area': '74.36477597'}, 40: {'name': 'W.STAFFTOILET2C08', 'area': '11.81463896'}, 41: {'name': 'RMOANALYST1A02', 'area': '26.65783112'}, 42: {'name': 'OPT.EXAM/OFF.1C07', 'area': '16.30298113'}, 43: {'name': 'RECEPTION1B01', 'area': '8.8082864'}, 44: {'name': 'RECEPTION1B13', 'area': '21.46037404'}, 45: {'name': 'CONSULT.2C03', 'area': '31.93688966'}, 46: {'name': 'SYS.ANALYST2D04', 'area': '19.44117106'}, 47: {'name': 'CORRIDOR2BC4', 'area': '11.546946'}, 48: {'name': 'TEAMINTERACTION1D22', 'area': '22.55096041'}, 49: {'name': 'CORRIDOR1AC2', 'area': '19.09846713'}, 50: {'name': 'STAIR1CS3', 'area': '12.75474344'}, 51: {'name': 'CORRIDOR2AC2', 'area': '13.92585484'}, 52: {'name': 'LIBRARY/CONF.ROOM2A01', 'area': '24.92560559'}, 53: {'name': 'CORRIDOR2CC5', 'area': '7.417722'}, 54: {'name': 'CORRIDOR2DC1', 'area': '20.1438'}, 55: {'name': 'ADMIN2A14', 'area': '31.49841497'}, 56: {'name': \"IMMUNIZ'NROOM1D40\", 'area': '15.39988'}, 57: {'name': 'LOUNGE1A10', 'area': '9.519166011'}, 58: {'name': 'DIPCCLEAN2C12', 'area': '13.256738'}, 59: {'name': 'FUNDUSCAMERAROOM1C09', 'area': '13.77182871'}, 60: {'name': 'CENTRALMECH.RM.1E15', 'area': '27.1572756'}, 61: {'name': 'ELEC.ROOM1E19', 'area': '8.888087942'}, 62: {'name': 'BEEEQUIP.STORAGE1E23', 'area': '8.054825871'}, 63: {'name': 'CORRIDOR1EC4', 'area': '8.463390043'}, 64: {'name': 'CMDROFFICE2D11', 'area': '14.48541168'}, 65: {'name': 'SOIL.UTL./TRASH2B25', 'area': '6.7255'}, 66: {'name': 'STAFFLOUNGE1B10', 'area': '9.406536'}, 67: {'name': 'DEVELOPING2A13', 'area': '6.885029095'}, 68: {'name': 'X-RAY2A12', 'area': '10.34281402'}, 69: {'name': 'CORRIDOR1AC4', 'area': '8.799656433'}, 70: {'name': 'LOUNGE2C22', 'area': '10.32407253'}, 71: {'name': 'INTERACTIONSTATION1D11', 'area': '11.874652'}, 72: {'name': 'OHDTR#12A05', 'area': '10.44778121'}, 73: {'name': 'TRICAREOFFICE1A07', 'area': '7.969378'}, 74: {'name': 'CORRIDOR1DC2', 'area': '5.9337'}, 75: {'name': 'CORRIDOR1DC8', 'area': '5.878835248'}, 76: {'name': 'CORRIDOR1BC1', 'area': '5.0958'}, 77: {'name': 'RADIOGRAPHICROOM1B19', 'area': '28.23269032'}, 78: {'name': 'SEC.WAIT2D10', 'area': '15.66376'}, 79: {'name': 'RMODIR.2D16', 'area': '8.967280013'}, 80: {'name': 'OFFICE2B01', 'area': '8.597788478'}, 81: {'name': 'WAITING2B11', 'area': '9.524945901'}, 82: {'name': 'PHTECH2B18', 'area': '8.660007676'}, 83: {'name': 'ROOF2R01', 'area': '50.907749'}, 84: {'name': 'STAFFLOUNGE1E11', 'area': '13.65974'}, 85: {'name': 'INTERACTIONSTATION1D07', 'area': '11.74148202'}, 86: {'name': 'INTERACTIONSTATION1D32', 'area': '11.874652'}, 87: {'name': 'TOILET1D18', 'area': '7.3873646'}, 88: {'name': 'SPECIMENTOILET1B02', 'area': '4.903969'}, 89: {'name': 'COUNSELING1A15', 'area': '5.868032'}, 90: {'name': 'CORRIDOR1CC2', 'area': '7.569486'}, 91: {'name': 'RECEPTION1C02', 'area': '8.818636'}, 92: {'name': 'OPT.EXAM/OFF.1C10', 'area': '16.98138779'}, 93: {'name': 'GROUPIS1D21', 'area': '17.922534'}, 94: {'name': 'GROUPIS1D23', 'area': '17.917926'}, 95: {'name': 'SUPER1E08', 'area': '9.10116'}, 96: {'name': 'BIOMEDMAINT.ADMIN.1E18', 'area': '14.363332'}, 97: {'name': 'WORKROOM1E26', 'area': '18.345618'}, 98: {'name': 'ISOLATIONINTERACTIONSTATION1E33', 'area': '12.455744'}, 99: {'name': 'CORRIDOR1BC3', 'area': '12.42490275'}, 100: {'name': 'BLOODDRAW1B03', 'area': '8.906972'}, 101: {'name': 'COMM.ROOM2C15', 'area': '8.823256'}, 102: {'name': 'CONF.ROOM2D20', 'area': '29.35535247'}, 103: {'name': 'LIBRARY/CLASSROOM2D21', 'area': '26.44253621'}, 104: {'name': 'INTERACTIONSTATION1D02', 'area': '10.72076'}, 105: {'name': 'TRMTRM.DIRTYPROC.1D05', 'area': '13.43132609'}, 106: {'name': 'TRMTROOM1D38', 'area': '22.19852'}, 107: {'name': 'PEDIATRICWTSandMSRS1D31', 'area': '10.2185637'}, 108: {'name': 'CERAMICLAB2C16', 'area': '10.13784399'}, 109: {'name': 'GEN.DENT.DTR#102C14', 'area': '11.04397'}, 110: {'name': 'M.TOILET1A12', 'area': '9.146935978'}, 111: {'name': 'W.TOILET1A09', 'area': '9.817789575'}, 112: {'name': 'TOILET2D13', 'area': '4.183106411'}, 113: {'name': 'VISUALFIELD1C05', 'area': '10.1044896'}, 114: {'name': 'SCREENEYETEST1C08', 'area': '9.098656'}, 115: {'name': 'SL.LIN./TRASH1D01', 'area': '1.662334829'}, 116: {'name': 'SPECIMENCOLL.LAB1D12', 'area': '9.427521701'}, 117: {'name': 'MDISVIEW1D19', 'area': '5.115816'}, 118: {'name': 'ADMINWORKSTATN.1D27', 'area': '9.958312'}, 119: {'name': 'PEDIATRICWAITING1D33', 'area': '11.882572'}, 120: {'name': 'JAN.CL.1D39', 'area': '1.661435527'}, 121: {'name': 'ECGTEST1C16', 'area': '9.036384'}, 122: {'name': 'TRASH1E20', 'area': '7.87702632'}, 123: {'name': 'ADPEQUIPSPACE1E25', 'area': '10.5608804'}, 124: {'name': 'HK.SUPV.OFFICE1E29', 'area': '9.949552'}, 125: {'name': 'TECH.WORKROOM1B17', 'area': '23.03667979'}, 126: {'name': 'SUPEROFFICE2A02', 'area': '10.023352'}, 127: {'name': 'DIR.INFOMGR2D03', 'area': '8.723713418'}, 128: {'name': 'COMPUTERROOM2D04A', 'area': '32.0805114'}, 129: {'name': 'CORRIDOR2BC1', 'area': '11.92940427'}, 130: {'name': 'CORRIDOR2BC6', 'area': '7.968411354'}, 131: {'name': 'RECEPTION2B10', 'area': '14.181456'}, 132: {'name': 'ELECTRICAL2B13', 'area': '8.904336466'}, 133: {'name': 'RECS/FORMSSTORAGE2B14', 'area': '9.75661885'}, 134: {'name': 'STAIR2CS3', 'area': '14.20447105'}, 135: {'name': 'ROOF3R02', 'area': '11.15470799'}, 136: {'name': 'ROOF3R04', 'area': '11.14710324'}, 137: {'name': 'SCOPEWASH/DECON.1D06', 'area': '8.315512'}, 138: {'name': 'INTERACTIONSTATION1D13', 'area': '11.946412'}, 139: {'name': 'INTERACTIONSTATION1D36', 'area': '11.853436'}, 140: {'name': 'GEN.DENT.DTR#72C04', 'area': '10.32281388'}, 141: {'name': 'GEN.DENT.DTR#62C02', 'area': '10.9245084'}, 142: {'name': 'GEN.DENT.DTR#52A09', 'area': '10.39306421'}, 143: {'name': 'GEN.DENT.DTR#42A08', 'area': '10.7436992'}, 144: {'name': 'OHDTR#22A06', 'area': '11.00429787'}, 145: {'name': 'M.TOILET2C23', 'area': '7.66403357'}, 146: {'name': 'PATIENTADMIN.RECEPT.1A01', 'area': '19.016928'}, 147: {'name': 'TRICAREOFFICE1A03', 'area': '8.158517'}, 148: {'name': 'TRICAREOFFICE1A05', 'area': '8.297676'}, 149: {'name': 'TRICAREOFFICE1A06', 'area': '9.3277025'}, 150: {'name': 'WAITING1C01', 'area': '11.6366'}, 151: {'name': 'FITTING/DISP.1C04', 'area': '9.190686'}, 152: {'name': 'WTSandMEAS.ROOM1D15', 'area': '4.577276382'}, 153: {'name': 'APPMTS1D20', 'area': '10.95444'}, 154: {'name': 'WTSandMEAS.ROOM1D30', 'area': '8.495052'}, 155: {'name': 'COMM.ROOM1C13', 'area': '11.06492'}, 156: {'name': 'CORRIDOR1EC3', 'area': '8.0541'}, 157: {'name': 'DRESS1B09', 'area': '4.12526675'}, 158: {'name': 'STAIR1BS2', 'area': '14.83002112'}, 159: {'name': 'SEC.OFFICE2A03', 'area': '14.77873'}, 160: {'name': 'JAN.CL.2C05', 'area': '3.237088'}, 161: {'name': 'TRASH2C13', 'area': '4.988792'}, 162: {'name': 'COPY/FILE2D06', 'area': '11.1552'}, 163: {'name': 'ADMINOFFICE2D09', 'area': '13.31522'}, 164: {'name': 'OPSSQUADCMDR2D14', 'area': '12.7149854'}, 165: {'name': '1STSGT2D15', 'area': '9.925400952'}, 166: {'name': 'OFFICE2B19', 'area': '8.140704'}, 167: {'name': 'ROOF3R03', 'area': '58.0138357'}, 168: {'name': 'SOIL.LIN.1E30', 'area': '6.206734284'}, 169: {'name': 'DIPCDECON2C10', 'area': '10.249896'}, 170: {'name': 'INTERACTIONSTATION1D10', 'area': '11.88386249'}, 171: {'name': 'GEN.DENT.DTR#92C09', 'area': '10.4598151'}, 172: {'name': 'OHDTR#32A07', 'area': '10.9245084'}, 173: {'name': 'TOILET1C12', 'area': '5.458698'}, 174: {'name': 'STAFFTOILET1A13', 'area': '3.93738554'}, 175: {'name': 'STAFFTOILET1B11', 'area': '4.410432'}, 176: {'name': 'W.TOILET2C24', 'area': '8.496256046'}, 177: {'name': 'M.TOILET2B22', 'area': '4.440349511'}, 178: {'name': 'CORRIDOR1DC5', 'area': '6.073236'}, 179: {'name': 'CHIEFAEROMED.1C17', 'area': '8.99885'}, 180: {'name': 'AUDIO1C19', 'area': '10.400642'}, 181: {'name': 'ELEC.CL.1C11', 'area': '0.539759753'}, 182: {'name': 'HKEQUIP.STORAGE1E01', 'area': '8.966112'}, 183: {'name': 'JAN.CL.1E03', 'area': '3.468192'}, 184: {'name': 'CHIEFLOGOFFICE1E05', 'area': '9.1712'}, 185: {'name': 'CONF.LIBRARY1E07', 'area': '10.799832'}, 186: {'name': 'DISASTERSTOR.1E14', 'area': '21.141224'}, 187: {'name': 'HAZ.STOR.1E17', 'area': '8.6565728'}, 188: {'name': 'FAC.MGR.OFFICE1E28', 'area': '8.62789'}, 189: {'name': 'DRESS1B07', 'area': '3.897104'}, 190: {'name': 'SOIL.UTL.1B14', 'area': '3.427624'}, 191: {'name': 'COMM.ROOM1B21', 'area': '9.010952'}, 192: {'name': 'ELEC.ROOM1B23', 'area': '9.087384931'}, 193: {'name': 'STAIR1AS1', 'area': '13.57654'}, 194: {'name': 'DENTALWAITING2A10', 'area': '7.304909076'}, 195: {'name': 'X-RAYALCOVE2A12-A', 'area': '1.995578054'}, 196: {'name': 'HK2C11', 'area': '4.572256'}, 197: {'name': 'QA/HRDDIRECTOR2D08', 'area': '8.283076'}, 198: {'name': 'VEST.2D12', 'area': '2.326923795'}, 199: {'name': 'CREDENTIALSMGR2D17', 'area': '8.697743537'}, 200: {'name': 'READINESSNCOICOFFICE2D19', 'area': '9.96646744'}, 201: {'name': 'OFFICE/EXAM2B8', 'area': '11.735796'}, 202: {'name': 'COMM.ROOM2B12', 'area': '9.132201534'}, 203: {'name': 'PHSUPER2B21', 'area': '8.438141521'}, 204: {'name': 'MECH.YARD1F01', 'area': '78.91683985'}, 205: {'name': 'ELEVATORE1', 'area': '3.8493954'}, 206: {'name': 'CL.UTL./KITCHENET2B17', 'area': '8.257392'}, 207: {'name': 'INTERACTIONSTATION1D08', 'area': '11.94778834'}, 208: {'name': 'INTERACTIONSTATION1D09', 'area': '11.946412'}, 209: {'name': 'INTERACTIONSTATION1D28', 'area': '11.813064'}, 210: {'name': 'INTERACTIONSTATION1D34', 'area': '11.946412'}, 211: {'name': 'INTERACTIONSTATION1D35', 'area': '11.94641299'}, 212: {'name': 'M.TOILET1E10', 'area': '4.448202'}, 213: {'name': 'ISOLATIONTOILET1E12', 'area': '4.651448'}, 214: {'name': 'W.TOILET2B5', 'area': '4.130912'}, 215: {'name': 'TRICAREOFFICE1A04', 'area': '8.590244'}, 216: {'name': 'PHARM.OFFICE1A08', 'area': '9.510704'}, 217: {'name': 'SOIL.UTL./TRASH1C06', 'area': '4.6539024'}, 218: {'name': 'JAN.CL.1D17', 'area': '1.67125868'}, 219: {'name': 'RECORDS1D24', 'area': '10.95444'}, 220: {'name': 'HIST./INTV.1C14', 'area': '7.311094'}, 221: {'name': 'BENCHSTOCKSTORAGE1E27', 'area': '8.551708'}, 222: {'name': 'CORRIDOR1EC2', 'area': '7.27263'}, 223: {'name': 'CLEANSUP.andEQUIP.1B12', 'area': '3.302158225'}, 224: {'name': 'FILMVIEW1B15', 'area': '5.253263016'}, 225: {'name': 'JAN.CL.1B16', 'area': '3.427623616'}, 226: {'name': 'CORRIDOR2AC5', 'area': '8.38071'}, 227: {'name': 'DENTALSURGEONOFFICE2A04', 'area': '14.932054'}, 228: {'name': 'ELECTRICAL2C18', 'area': '9.076656'}, 229: {'name': 'CENTRALISSUE2C19', 'area': '19.802112'}, 230: {'name': 'SUPER2D07', 'area': '8.495886'}, 231: {'name': 'TECHOFFICE2B7', 'area': '9.236736'}, 232: {'name': 'WAIT/ERGOM2B15', 'area': '8.37408'}, 233: {'name': 'PHTECH2B16', 'area': '8.541769616'}, 234: {'name': 'BEETECH2B23', 'area': '9.9134105'}, 235: {'name': 'BEETECH2B24', 'area': '8.8244835'}, 236: {'name': 'STAIR2BS2', 'area': '14.39235334'}, 237: {'name': 'HKBREAKROOM1E04', 'area': '8.976312'}, 238: {'name': 'GEN.DENT.DTR#82C06', 'area': '10.9245084'}, 239: {'name': 'SPECIMENTOILET1D14', 'area': '4.184712'}, 240: {'name': 'PAT./STAFFTOILET1B05', 'area': '4.21724'}, 241: {'name': 'W.TOILET1E09', 'area': '4.448202'}, 242: {'name': 'TOILET1D26', 'area': '4.411232'}, 243: {'name': 'STAFFTOILET2B6', 'area': '5.012672'}, 244: {'name': 'JAN.1A11', 'area': '1.678622'}, 245: {'name': 'SUPER/NCOIC1A14', 'area': '6.74816'}, 246: {'name': 'JAN.CL.1C03', 'area': '3.546816'}, 247: {'name': 'PESADMIN.OFFICE1C15', 'area': '14.577996'}, 248: {'name': 'ELEV.EQUIP.1E02', 'area': '5.086272'}, 249: {'name': 'FLAMABLESTORAGE1E21', 'area': '4.8273352'}, 250: {'name': 'SEC.STORAGE1E22', 'area': '5.641926343'}, 251: {'name': 'LABOFFICE1B06', 'area': '9.3511146'}, 252: {'name': 'CENT.STO.1B08', 'area': '8.936512'}, 253: {'name': 'GASSTORAGE1E15-A', 'area': '1.6575762'}, 254: {'name': 'DTRSUPPORT2C01', 'area': '8.11544'}, 255: {'name': 'PARTSSTORAGE2D01', 'area': '8.250142'}, 256: {'name': 'DATA/ARCHIVESTORAGE2D02', 'area': '9.22564'}, 257: {'name': 'JAN.CL.2B2', 'area': '1.8928'}, 258: {'name': 'TECHOFFICE2B9', 'area': '9.169216'}, 259: {'name': 'JAN.CL.2B20', 'area': '2.82657667'}, 260: {'name': 'TOILET1D04', 'area': '4.58078'}, 261: {'name': 'CLEANU.1D03', 'area': '2.08844'}, 262: {'name': 'CLEANU.1D37', 'area': '2.088439519'}, 263: {'name': 'STAIR2AS1', 'area': '13.64399392'}}\n"
     ]
    }
   ],
   "source": [
    "# get name and area attributes\n",
    "\n",
    "def get_name_area_attributes(j_file):\n",
    "\n",
    "    result = {}\n",
    "\n",
    "    # Extract CellSpace information\n",
    "    cellspaces = j_file['PrimalSpaceFeatures']['CellSpace']\n",
    "    for i, (cell_id, cell_info) in enumerate(cellspaces.items()):\n",
    "        result[i] = {\n",
    "            'name': cell_info.get('name', 'NA'),\n",
    "            'area': cell_info['attributes'].get('area', 'NA')\n",
    "        }\n",
    "\n",
    "    return result\n",
    "\n",
    "name_area_attr = get_name_area_attributes(j_new)\n",
    "print(name_area_attr)"
   ]
  },
  {
   "cell_type": "code",
   "execution_count": 760,
   "metadata": {},
   "outputs": [
    {
     "name": "stdout",
     "output_type": "stream",
     "text": [
      "{0: {'name': 'CENTRALWAITING1AC1', 'area': '127.0993141'}, 1: {'name': 'WAITING/ACTIVITYAREA1DC1', 'area': '178.2169708'}, 2: {'name': 'ROOF2R02', 'area': '578.7414997'}, 3: {'name': 'CORRIDOR1EC1', 'area': '50.950835'}, 4: {'name': 'ROOF3R01', 'area': '1729.774807'}, 5: {'name': 'MAINMECHANICALROOM2D05', 'area': '226.04322'}, 6: {'name': 'CORRIDOR2AC3', 'area': '25.4807999'}, 7: {'name': 'CORRIDOR1BC2', 'area': '27.31731525'}, 8: {'name': 'TECH.OFFICE2D18', 'area': '82.089156'}, 9: {'name': 'CORRIDOR1CC1', 'area': '40.23448'}, 10: {'name': 'PHARM.DISP.1A16', 'area': '65.22472'}, 11: {'name': 'CORRIDOR1DC3', 'area': '29.65476604'}, 12: {'name': 'PHYSICALEXAM1C18', 'area': '55.37747'}, 13: {'name': 'LAB1B04', 'area': '51.1950656'}, 14: {'name': 'CORRIDOR1BC4', 'area': '41.72148526'}, 15: {'name': 'CORRIDOR2BC3', 'area': '24.92304611'}, 16: {'name': 'CORRIDOR2BC5', 'area': '20.941674'}, 17: {'name': 'RECEIVING/STORAGE1E24', 'area': '115.1199912'}, 18: {'name': 'CORRIDOR2AC1', 'area': '39.02683601'}, 19: {'name': 'CORRIDOR1CC3', 'area': '10.608154'}, 20: {'name': 'PROVIDERCUBICLES1D16', 'area': '65.26142'}, 21: {'name': 'CORRIDOR1DC7', 'area': '29.82494475'}, 22: {'name': 'CORRIDOR2BC2', 'area': '27.59131613'}, 23: {'name': 'BMETWORKSTATION1E16', 'area': '46.7310228'}, 24: {'name': 'DENTALWAITING2A11', 'area': '31.7576639'}, 25: {'name': 'CORRIDOR2CC3', 'area': '16.08426'}, 26: {'name': 'CORRIDOR1AC5', 'area': '19.219196'}, 27: {'name': 'CORRIDOR2DC2', 'area': '28.37771404'}, 28: {'name': 'CORRIDOR1AC3', 'area': '15.00834681'}, 29: {'name': 'PROVIDERCUBICLES1D25', 'area': '65.19988'}, 30: {'name': 'CORRIDOR1DC6', 'area': '13.885884'}, 31: {'name': 'CORRIDOR2CC2', 'area': '12.3633'}, 32: {'name': 'PROSTH.LAB2C17', 'area': '28.58567199'}, 33: {'name': 'CORRIDOR2AC4', 'area': '13.3551'}, 34: {'name': 'M.STAFFTOILET2C07', 'area': '12.64593968'}, 35: {'name': 'CORRIDOR1DC4', 'area': '14.1001505'}, 36: {'name': 'CORRIDOR2CC1', 'area': '17.41818966'}, 37: {'name': 'TECH.WORKSTATION1E06', 'area': '35.87712'}, 38: {'name': 'CORRIDOR2CC4', 'area': '10.0491'}, 39: {'name': 'OPENTOBELOW2AC1-B', 'area': '74.36477597'}, 40: {'name': 'W.STAFFTOILET2C08', 'area': '11.81463896'}, 41: {'name': 'RMOANALYST1A02', 'area': '26.65783112'}, 42: {'name': 'OPT.EXAM/OFF.1C07', 'area': '16.30298113'}, 43: {'name': 'RECEPTION1B01', 'area': '8.8082864'}, 44: {'name': 'RECEPTION1B13', 'area': '21.46037404'}, 45: {'name': 'CONSULT.2C03', 'area': '31.93688966'}, 46: {'name': 'SYS.ANALYST2D04', 'area': '19.44117106'}, 47: {'name': 'CORRIDOR2BC4', 'area': '11.546946'}, 48: {'name': 'TEAMINTERACTION1D22', 'area': '22.55096041'}, 49: {'name': 'CORRIDOR1AC2', 'area': '19.09846713'}, 50: {'name': 'STAIR1CS3', 'area': '12.75474344'}, 51: {'name': 'CORRIDOR2AC2', 'area': '13.92585484'}, 52: {'name': 'LIBRARY/CONF.ROOM2A01', 'area': '24.92560559'}, 53: {'name': 'CORRIDOR2CC5', 'area': '7.417722'}, 54: {'name': 'CORRIDOR2DC1', 'area': '20.1438'}, 55: {'name': 'ADMIN2A14', 'area': '31.49841497'}, 56: {'name': \"IMMUNIZ'NROOM1D40\", 'area': '15.39988'}, 57: {'name': 'LOUNGE1A10', 'area': '9.519166011'}, 58: {'name': 'DIPCCLEAN2C12', 'area': '13.256738'}, 59: {'name': 'FUNDUSCAMERAROOM1C09', 'area': '13.77182871'}, 60: {'name': 'CENTRALMECH.RM.1E15', 'area': '27.1572756'}, 61: {'name': 'ELEC.ROOM1E19', 'area': '8.888087942'}, 62: {'name': 'BEEEQUIP.STORAGE1E23', 'area': '8.054825871'}, 63: {'name': 'CORRIDOR1EC4', 'area': '8.463390043'}, 64: {'name': 'CMDROFFICE2D11', 'area': '14.48541168'}, 65: {'name': 'SOIL.UTL./TRASH2B25', 'area': '6.7255'}, 66: {'name': 'STAFFLOUNGE1B10', 'area': '9.406536'}, 67: {'name': 'DEVELOPING2A13', 'area': '6.885029095'}, 68: {'name': 'X-RAY2A12', 'area': '10.34281402'}, 69: {'name': 'CORRIDOR1AC4', 'area': '8.799656433'}, 70: {'name': 'LOUNGE2C22', 'area': '10.32407253'}, 71: {'name': 'INTERACTIONSTATION1D11', 'area': '11.874652'}, 72: {'name': 'OHDTR#12A05', 'area': '10.44778121'}, 73: {'name': 'TRICAREOFFICE1A07', 'area': '7.969378'}, 74: {'name': 'CORRIDOR1DC2', 'area': '5.9337'}, 75: {'name': 'CORRIDOR1DC8', 'area': '5.878835248'}, 76: {'name': 'CORRIDOR1BC1', 'area': '5.0958'}, 77: {'name': 'RADIOGRAPHICROOM1B19', 'area': '28.23269032'}, 78: {'name': 'SEC.WAIT2D10', 'area': '15.66376'}, 79: {'name': 'RMODIR.2D16', 'area': '8.967280013'}, 80: {'name': 'OFFICE2B01', 'area': '8.597788478'}, 81: {'name': 'WAITING2B11', 'area': '9.524945901'}, 82: {'name': 'PHTECH2B18', 'area': '8.660007676'}, 83: {'name': 'ROOF2R01', 'area': '50.907749'}, 84: {'name': 'STAFFLOUNGE1E11', 'area': '13.65974'}, 85: {'name': 'INTERACTIONSTATION1D07', 'area': '11.74148202'}, 86: {'name': 'INTERACTIONSTATION1D32', 'area': '11.874652'}, 87: {'name': 'TOILET1D18', 'area': '7.3873646'}, 88: {'name': 'SPECIMENTOILET1B02', 'area': '4.903969'}, 89: {'name': 'COUNSELING1A15', 'area': '5.868032'}, 90: {'name': 'CORRIDOR1CC2', 'area': '7.569486'}, 91: {'name': 'RECEPTION1C02', 'area': '8.818636'}, 92: {'name': 'OPT.EXAM/OFF.1C10', 'area': '16.98138779'}, 93: {'name': 'GROUPIS1D21', 'area': '17.922534'}, 94: {'name': 'GROUPIS1D23', 'area': '17.917926'}, 95: {'name': 'SUPER1E08', 'area': '9.10116'}, 96: {'name': 'BIOMEDMAINT.ADMIN.1E18', 'area': '14.363332'}, 97: {'name': 'WORKROOM1E26', 'area': '18.345618'}, 98: {'name': 'ISOLATIONINTERACTIONSTATION1E33', 'area': '12.455744'}, 99: {'name': 'CORRIDOR1BC3', 'area': '12.42490275'}, 100: {'name': 'BLOODDRAW1B03', 'area': '8.906972'}, 101: {'name': 'COMM.ROOM2C15', 'area': '8.823256'}, 102: {'name': 'CONF.ROOM2D20', 'area': '29.35535247'}, 103: {'name': 'LIBRARY/CLASSROOM2D21', 'area': '26.44253621'}, 104: {'name': 'INTERACTIONSTATION1D02', 'area': '10.72076'}, 105: {'name': 'TRMTRM.DIRTYPROC.1D05', 'area': '13.43132609'}, 106: {'name': 'TRMTROOM1D38', 'area': '22.19852'}, 107: {'name': 'PEDIATRICWTSandMSRS1D31', 'area': '10.2185637'}, 108: {'name': 'CERAMICLAB2C16', 'area': '10.13784399'}, 109: {'name': 'GEN.DENT.DTR#102C14', 'area': '11.04397'}, 110: {'name': 'M.TOILET1A12', 'area': '9.146935978'}, 111: {'name': 'W.TOILET1A09', 'area': '9.817789575'}, 112: {'name': 'TOILET2D13', 'area': '4.183106411'}, 113: {'name': 'VISUALFIELD1C05', 'area': '10.1044896'}, 114: {'name': 'SCREENEYETEST1C08', 'area': '9.098656'}, 115: {'name': 'SL.LIN./TRASH1D01', 'area': '1.662334829'}, 116: {'name': 'SPECIMENCOLL.LAB1D12', 'area': '9.427521701'}, 117: {'name': 'MDISVIEW1D19', 'area': '5.115816'}, 118: {'name': 'ADMINWORKSTATN.1D27', 'area': '9.958312'}, 119: {'name': 'PEDIATRICWAITING1D33', 'area': '11.882572'}, 120: {'name': 'JAN.CL.1D39', 'area': '1.661435527'}, 121: {'name': 'ECGTEST1C16', 'area': '9.036384'}, 122: {'name': 'TRASH1E20', 'area': '7.87702632'}, 123: {'name': 'ADPEQUIPSPACE1E25', 'area': '10.5608804'}, 124: {'name': 'HK.SUPV.OFFICE1E29', 'area': '9.949552'}, 125: {'name': 'TECH.WORKROOM1B17', 'area': '23.03667979'}, 126: {'name': 'SUPEROFFICE2A02', 'area': '10.023352'}, 127: {'name': 'DIR.INFOMGR2D03', 'area': '8.723713418'}, 128: {'name': 'COMPUTERROOM2D04A', 'area': '32.0805114'}, 129: {'name': 'CORRIDOR2BC1', 'area': '11.92940427'}, 130: {'name': 'CORRIDOR2BC6', 'area': '7.968411354'}, 131: {'name': 'RECEPTION2B10', 'area': '14.181456'}, 132: {'name': 'ELECTRICAL2B13', 'area': '8.904336466'}, 133: {'name': 'RECS/FORMSSTORAGE2B14', 'area': '9.75661885'}, 134: {'name': 'STAIR2CS3', 'area': '14.20447105'}, 135: {'name': 'ROOF3R02', 'area': '11.15470799'}, 136: {'name': 'ROOF3R04', 'area': '11.14710324'}, 137: {'name': 'SCOPEWASH/DECON.1D06', 'area': '8.315512'}, 138: {'name': 'INTERACTIONSTATION1D13', 'area': '11.946412'}, 139: {'name': 'INTERACTIONSTATION1D36', 'area': '11.853436'}, 140: {'name': 'GEN.DENT.DTR#72C04', 'area': '10.32281388'}, 141: {'name': 'GEN.DENT.DTR#62C02', 'area': '10.9245084'}, 142: {'name': 'GEN.DENT.DTR#52A09', 'area': '10.39306421'}, 143: {'name': 'GEN.DENT.DTR#42A08', 'area': '10.7436992'}, 144: {'name': 'OHDTR#22A06', 'area': '11.00429787'}, 145: {'name': 'M.TOILET2C23', 'area': '7.66403357'}, 146: {'name': 'PATIENTADMIN.RECEPT.1A01', 'area': '19.016928'}, 147: {'name': 'TRICAREOFFICE1A03', 'area': '8.158517'}, 148: {'name': 'TRICAREOFFICE1A05', 'area': '8.297676'}, 149: {'name': 'TRICAREOFFICE1A06', 'area': '9.3277025'}, 150: {'name': 'WAITING1C01', 'area': '11.6366'}, 151: {'name': 'FITTING/DISP.1C04', 'area': '9.190686'}, 152: {'name': 'WTSandMEAS.ROOM1D15', 'area': '4.577276382'}, 153: {'name': 'APPMTS1D20', 'area': '10.95444'}, 154: {'name': 'WTSandMEAS.ROOM1D30', 'area': '8.495052'}, 155: {'name': 'COMM.ROOM1C13', 'area': '11.06492'}, 156: {'name': 'CORRIDOR1EC3', 'area': '8.0541'}, 157: {'name': 'DRESS1B09', 'area': '4.12526675'}, 158: {'name': 'STAIR1BS2', 'area': '14.83002112'}, 159: {'name': 'SEC.OFFICE2A03', 'area': '14.77873'}, 160: {'name': 'JAN.CL.2C05', 'area': '3.237088'}, 161: {'name': 'TRASH2C13', 'area': '4.988792'}, 162: {'name': 'COPY/FILE2D06', 'area': '11.1552'}, 163: {'name': 'ADMINOFFICE2D09', 'area': '13.31522'}, 164: {'name': 'OPSSQUADCMDR2D14', 'area': '12.7149854'}, 165: {'name': '1STSGT2D15', 'area': '9.925400952'}, 166: {'name': 'OFFICE2B19', 'area': '8.140704'}, 167: {'name': 'ROOF3R03', 'area': '58.0138357'}, 168: {'name': 'SOIL.LIN.1E30', 'area': '6.206734284'}, 169: {'name': 'DIPCDECON2C10', 'area': '10.249896'}, 170: {'name': 'INTERACTIONSTATION1D10', 'area': '11.88386249'}, 171: {'name': 'GEN.DENT.DTR#92C09', 'area': '10.4598151'}, 172: {'name': 'OHDTR#32A07', 'area': '10.9245084'}, 173: {'name': 'TOILET1C12', 'area': '5.458698'}, 174: {'name': 'STAFFTOILET1A13', 'area': '3.93738554'}, 175: {'name': 'STAFFTOILET1B11', 'area': '4.410432'}, 176: {'name': 'W.TOILET2C24', 'area': '8.496256046'}, 177: {'name': 'M.TOILET2B22', 'area': '4.440349511'}, 178: {'name': 'CORRIDOR1DC5', 'area': '6.073236'}, 179: {'name': 'CHIEFAEROMED.1C17', 'area': '8.99885'}, 180: {'name': 'AUDIO1C19', 'area': '10.400642'}, 181: {'name': 'ELEC.CL.1C11', 'area': '0.539759753'}, 182: {'name': 'HKEQUIP.STORAGE1E01', 'area': '8.966112'}, 183: {'name': 'JAN.CL.1E03', 'area': '3.468192'}, 184: {'name': 'CHIEFLOGOFFICE1E05', 'area': '9.1712'}, 185: {'name': 'CONF.LIBRARY1E07', 'area': '10.799832'}, 186: {'name': 'DISASTERSTOR.1E14', 'area': '21.141224'}, 187: {'name': 'HAZ.STOR.1E17', 'area': '8.6565728'}, 188: {'name': 'FAC.MGR.OFFICE1E28', 'area': '8.62789'}, 189: {'name': 'DRESS1B07', 'area': '3.897104'}, 190: {'name': 'SOIL.UTL.1B14', 'area': '3.427624'}, 191: {'name': 'COMM.ROOM1B21', 'area': '9.010952'}, 192: {'name': 'ELEC.ROOM1B23', 'area': '9.087384931'}, 193: {'name': 'STAIR1AS1', 'area': '13.57654'}, 194: {'name': 'DENTALWAITING2A10', 'area': '7.304909076'}, 195: {'name': 'X-RAYALCOVE2A12-A', 'area': '1.995578054'}, 196: {'name': 'HK2C11', 'area': '4.572256'}, 197: {'name': 'QA/HRDDIRECTOR2D08', 'area': '8.283076'}, 198: {'name': 'VEST.2D12', 'area': '2.326923795'}, 199: {'name': 'CREDENTIALSMGR2D17', 'area': '8.697743537'}, 200: {'name': 'READINESSNCOICOFFICE2D19', 'area': '9.96646744'}, 201: {'name': 'OFFICE/EXAM2B8', 'area': '11.735796'}, 202: {'name': 'COMM.ROOM2B12', 'area': '9.132201534'}, 203: {'name': 'PHSUPER2B21', 'area': '8.438141521'}, 204: {'name': 'MECH.YARD1F01', 'area': '78.91683985'}, 205: {'name': 'ELEVATORE1', 'area': '3.8493954'}, 206: {'name': 'CL.UTL./KITCHENET2B17', 'area': '8.257392'}, 207: {'name': 'INTERACTIONSTATION1D08', 'area': '11.94778834'}, 208: {'name': 'INTERACTIONSTATION1D09', 'area': '11.946412'}, 209: {'name': 'INTERACTIONSTATION1D28', 'area': '11.813064'}, 210: {'name': 'INTERACTIONSTATION1D34', 'area': '11.946412'}, 211: {'name': 'INTERACTIONSTATION1D35', 'area': '11.94641299'}, 212: {'name': 'M.TOILET1E10', 'area': '4.448202'}, 213: {'name': 'ISOLATIONTOILET1E12', 'area': '4.651448'}, 214: {'name': 'W.TOILET2B5', 'area': '4.130912'}, 215: {'name': 'TRICAREOFFICE1A04', 'area': '8.590244'}, 216: {'name': 'PHARM.OFFICE1A08', 'area': '9.510704'}, 217: {'name': 'SOIL.UTL./TRASH1C06', 'area': '4.6539024'}, 218: {'name': 'JAN.CL.1D17', 'area': '1.67125868'}, 219: {'name': 'RECORDS1D24', 'area': '10.95444'}, 220: {'name': 'HIST./INTV.1C14', 'area': '7.311094'}, 221: {'name': 'BENCHSTOCKSTORAGE1E27', 'area': '8.551708'}, 222: {'name': 'CORRIDOR1EC2', 'area': '7.27263'}, 223: {'name': 'CLEANSUP.andEQUIP.1B12', 'area': '3.302158225'}, 224: {'name': 'FILMVIEW1B15', 'area': '5.253263016'}, 225: {'name': 'JAN.CL.1B16', 'area': '3.427623616'}, 226: {'name': 'CORRIDOR2AC5', 'area': '8.38071'}, 227: {'name': 'DENTALSURGEONOFFICE2A04', 'area': '14.932054'}, 228: {'name': 'ELECTRICAL2C18', 'area': '9.076656'}, 229: {'name': 'CENTRALISSUE2C19', 'area': '19.802112'}, 230: {'name': 'SUPER2D07', 'area': '8.495886'}, 231: {'name': 'TECHOFFICE2B7', 'area': '9.236736'}, 232: {'name': 'WAIT/ERGOM2B15', 'area': '8.37408'}, 233: {'name': 'PHTECH2B16', 'area': '8.541769616'}, 234: {'name': 'BEETECH2B23', 'area': '9.9134105'}, 235: {'name': 'BEETECH2B24', 'area': '8.8244835'}, 236: {'name': 'STAIR2BS2', 'area': '14.39235334'}, 237: {'name': 'HKBREAKROOM1E04', 'area': '8.976312'}, 238: {'name': 'GEN.DENT.DTR#82C06', 'area': '10.9245084'}, 239: {'name': 'SPECIMENTOILET1D14', 'area': '4.184712'}, 240: {'name': 'PAT./STAFFTOILET1B05', 'area': '4.21724'}, 241: {'name': 'W.TOILET1E09', 'area': '4.448202'}, 242: {'name': 'TOILET1D26', 'area': '4.411232'}, 243: {'name': 'STAFFTOILET2B6', 'area': '5.012672'}, 244: {'name': 'JAN.1A11', 'area': '1.678622'}, 245: {'name': 'SUPER/NCOIC1A14', 'area': '6.74816'}, 246: {'name': 'JAN.CL.1C03', 'area': '3.546816'}, 247: {'name': 'PESADMIN.OFFICE1C15', 'area': '14.577996'}, 248: {'name': 'ELEV.EQUIP.1E02', 'area': '5.086272'}, 249: {'name': 'FLAMABLESTORAGE1E21', 'area': '4.8273352'}, 250: {'name': 'SEC.STORAGE1E22', 'area': '5.641926343'}, 251: {'name': 'LABOFFICE1B06', 'area': '9.3511146'}, 252: {'name': 'CENT.STO.1B08', 'area': '8.936512'}, 253: {'name': 'GASSTORAGE1E15-A', 'area': '1.6575762'}, 254: {'name': 'DTRSUPPORT2C01', 'area': '8.11544'}, 255: {'name': 'PARTSSTORAGE2D01', 'area': '8.250142'}, 256: {'name': 'DATA/ARCHIVESTORAGE2D02', 'area': '9.22564'}, 257: {'name': 'JAN.CL.2B2', 'area': '1.8928'}, 258: {'name': 'TECHOFFICE2B9', 'area': '9.169216'}, 259: {'name': 'JAN.CL.2B20', 'area': '2.82657667'}, 260: {'name': 'TOILET1D04', 'area': '4.58078'}, 261: {'name': 'CLEANU.1D03', 'area': '2.08844'}, 262: {'name': 'CLEANU.1D37', 'area': '2.088439519'}, 263: {'name': 'STAIR2AS1', 'area': '13.64399392'}, 264: {'name': 'NA', 'area': 'NA'}, 265: {'name': 'NA', 'area': 'NA'}, 266: {'name': 'NA', 'area': 'NA'}, 267: {'name': 'NA', 'area': 'NA'}, 268: {'name': 'NA', 'area': 'NA'}, 269: {'name': 'NA', 'area': 'NA'}, 270: {'name': 'NA', 'area': 'NA'}, 271: {'name': 'NA', 'area': 'NA'}, 272: {'name': 'NA', 'area': 'NA'}, 273: {'name': 'NA', 'area': 'NA'}, 274: {'name': 'NA', 'area': 'NA'}, 275: {'name': 'NA', 'area': 'NA'}, 276: {'name': 'NA', 'area': 'NA'}, 277: {'name': 'NA', 'area': 'NA'}, 278: {'name': 'NA', 'area': 'NA'}, 279: {'name': 'NA', 'area': 'NA'}, 280: {'name': 'NA', 'area': 'NA'}, 281: {'name': 'NA', 'area': 'NA'}, 282: {'name': 'NA', 'area': 'NA'}, 283: {'name': 'NA', 'area': 'NA'}, 284: {'name': 'NA', 'area': 'NA'}, 285: {'name': 'NA', 'area': 'NA'}, 286: {'name': 'NA', 'area': 'NA'}, 287: {'name': 'NA', 'area': 'NA'}, 288: {'name': 'NA', 'area': 'NA'}, 289: {'name': 'NA', 'area': 'NA'}, 290: {'name': 'NA', 'area': 'NA'}, 291: {'name': 'NA', 'area': 'NA'}, 292: {'name': 'NA', 'area': 'NA'}, 293: {'name': 'NA', 'area': 'NA'}, 294: {'name': 'NA', 'area': 'NA'}, 295: {'name': 'NA', 'area': 'NA'}, 296: {'name': 'NA', 'area': 'NA'}, 297: {'name': 'NA', 'area': 'NA'}, 298: {'name': 'NA', 'area': 'NA'}, 299: {'name': 'NA', 'area': 'NA'}, 300: {'name': 'NA', 'area': 'NA'}, 301: {'name': 'NA', 'area': 'NA'}, 302: {'name': 'NA', 'area': 'NA'}, 303: {'name': 'NA', 'area': 'NA'}, 304: {'name': 'NA', 'area': 'NA'}, 305: {'name': 'NA', 'area': 'NA'}, 306: {'name': 'NA', 'area': 'NA'}, 307: {'name': 'NA', 'area': 'NA'}, 308: {'name': 'NA', 'area': 'NA'}, 309: {'name': 'NA', 'area': 'NA'}, 310: {'name': 'NA', 'area': 'NA'}, 311: {'name': 'NA', 'area': 'NA'}, 312: {'name': 'NA', 'area': 'NA'}, 313: {'name': 'NA', 'area': 'NA'}, 314: {'name': 'NA', 'area': 'NA'}, 315: {'name': 'NA', 'area': 'NA'}, 316: {'name': 'NA', 'area': 'NA'}, 317: {'name': 'NA', 'area': 'NA'}, 318: {'name': 'NA', 'area': 'NA'}, 319: {'name': 'NA', 'area': 'NA'}, 320: {'name': 'NA', 'area': 'NA'}, 321: {'name': 'NA', 'area': 'NA'}, 322: {'name': 'NA', 'area': 'NA'}, 323: {'name': 'NA', 'area': 'NA'}, 324: {'name': 'NA', 'area': 'NA'}, 325: {'name': 'NA', 'area': 'NA'}, 326: {'name': 'NA', 'area': 'NA'}, 327: {'name': 'NA', 'area': 'NA'}, 328: {'name': 'NA', 'area': 'NA'}, 329: {'name': 'NA', 'area': 'NA'}, 330: {'name': 'NA', 'area': 'NA'}, 331: {'name': 'NA', 'area': 'NA'}, 332: {'name': 'NA', 'area': 'NA'}, 333: {'name': 'NA', 'area': 'NA'}, 334: {'name': 'NA', 'area': 'NA'}, 335: {'name': 'NA', 'area': 'NA'}, 336: {'name': 'NA', 'area': 'NA'}, 337: {'name': 'NA', 'area': 'NA'}, 338: {'name': 'NA', 'area': 'NA'}, 339: {'name': 'NA', 'area': 'NA'}, 340: {'name': 'NA', 'area': 'NA'}, 341: {'name': 'NA', 'area': 'NA'}, 342: {'name': 'NA', 'area': 'NA'}, 343: {'name': 'NA', 'area': 'NA'}, 344: {'name': 'NA', 'area': 'NA'}, 345: {'name': 'NA', 'area': 'NA'}, 346: {'name': 'NA', 'area': 'NA'}, 347: {'name': 'NA', 'area': 'NA'}, 348: {'name': 'NA', 'area': 'NA'}, 349: {'name': 'NA', 'area': 'NA'}, 350: {'name': 'NA', 'area': 'NA'}, 351: {'name': 'NA', 'area': 'NA'}, 352: {'name': 'NA', 'area': 'NA'}, 353: {'name': 'NA', 'area': 'NA'}, 354: {'name': 'NA', 'area': 'NA'}, 355: {'name': 'NA', 'area': 'NA'}, 356: {'name': 'NA', 'area': 'NA'}, 357: {'name': 'NA', 'area': 'NA'}, 358: {'name': 'NA', 'area': 'NA'}, 359: {'name': 'NA', 'area': 'NA'}, 360: {'name': 'NA', 'area': 'NA'}, 361: {'name': 'NA', 'area': 'NA'}, 362: {'name': 'NA', 'area': 'NA'}, 363: {'name': 'NA', 'area': 'NA'}, 364: {'name': 'NA', 'area': 'NA'}, 365: {'name': 'NA', 'area': 'NA'}, 366: {'name': 'NA', 'area': 'NA'}, 367: {'name': 'NA', 'area': 'NA'}, 368: {'name': 'NA', 'area': 'NA'}, 369: {'name': 'NA', 'area': 'NA'}, 370: {'name': 'NA', 'area': 'NA'}, 371: {'name': 'NA', 'area': 'NA'}, 372: {'name': 'NA', 'area': 'NA'}, 373: {'name': 'NA', 'area': 'NA'}, 374: {'name': 'NA', 'area': 'NA'}, 375: {'name': 'NA', 'area': 'NA'}, 376: {'name': 'NA', 'area': 'NA'}, 377: {'name': 'NA', 'area': 'NA'}, 378: {'name': 'NA', 'area': 'NA'}, 379: {'name': 'NA', 'area': 'NA'}, 380: {'name': 'NA', 'area': 'NA'}, 381: {'name': 'NA', 'area': 'NA'}, 382: {'name': 'NA', 'area': 'NA'}, 383: {'name': 'NA', 'area': 'NA'}, 384: {'name': 'NA', 'area': 'NA'}, 385: {'name': 'NA', 'area': 'NA'}, 386: {'name': 'NA', 'area': 'NA'}, 387: {'name': 'NA', 'area': 'NA'}, 388: {'name': 'NA', 'area': 'NA'}, 389: {'name': 'NA', 'area': 'NA'}, 390: {'name': 'NA', 'area': 'NA'}, 391: {'name': 'NA', 'area': 'NA'}, 392: {'name': 'NA', 'area': 'NA'}, 393: {'name': 'NA', 'area': 'NA'}, 394: {'name': 'NA', 'area': 'NA'}, 395: {'name': 'NA', 'area': 'NA'}, 396: {'name': 'NA', 'area': 'NA'}, 397: {'name': 'NA', 'area': 'NA'}, 398: {'name': 'NA', 'area': 'NA'}, 399: {'name': 'NA', 'area': 'NA'}, 400: {'name': 'NA', 'area': 'NA'}, 401: {'name': 'NA', 'area': 'NA'}, 402: {'name': 'NA', 'area': 'NA'}, 403: {'name': 'NA', 'area': 'NA'}, 404: {'name': 'NA', 'area': 'NA'}, 405: {'name': 'NA', 'area': 'NA'}, 406: {'name': 'NA', 'area': 'NA'}, 407: {'name': 'NA', 'area': 'NA'}, 408: {'name': 'NA', 'area': 'NA'}, 409: {'name': 'NA', 'area': 'NA'}, 410: {'name': 'NA', 'area': 'NA'}, 411: {'name': 'NA', 'area': 'NA'}, 412: {'name': 'NA', 'area': 'NA'}, 413: {'name': 'NA', 'area': 'NA'}, 414: {'name': 'NA', 'area': 'NA'}, 415: {'name': 'NA', 'area': 'NA'}, 416: {'name': 'NA', 'area': 'NA'}, 417: {'name': 'NA', 'area': 'NA'}, 418: {'name': 'NA', 'area': 'NA'}, 419: {'name': 'NA', 'area': 'NA'}, 420: {'name': 'NA', 'area': 'NA'}, 421: {'name': 'NA', 'area': 'NA'}, 422: {'name': 'NA', 'area': 'NA'}, 423: {'name': 'NA', 'area': 'NA'}, 424: {'name': 'NA', 'area': 'NA'}, 425: {'name': 'NA', 'area': 'NA'}, 426: {'name': 'NA', 'area': 'NA'}, 427: {'name': 'NA', 'area': 'NA'}, 428: {'name': 'NA', 'area': 'NA'}, 429: {'name': 'NA', 'area': 'NA'}, 430: {'name': 'NA', 'area': 'NA'}, 431: {'name': 'NA', 'area': 'NA'}, 432: {'name': 'NA', 'area': 'NA'}, 433: {'name': 'NA', 'area': 'NA'}, 434: {'name': 'NA', 'area': 'NA'}, 435: {'name': 'NA', 'area': 'NA'}, 436: {'name': 'NA', 'area': 'NA'}, 437: {'name': 'NA', 'area': 'NA'}, 438: {'name': 'NA', 'area': 'NA'}, 439: {'name': 'NA', 'area': 'NA'}, 440: {'name': 'NA', 'area': 'NA'}, 441: {'name': 'NA', 'area': 'NA'}, 442: {'name': 'NA', 'area': 'NA'}, 443: {'name': 'NA', 'area': 'NA'}, 444: {'name': 'NA', 'area': 'NA'}, 445: {'name': 'NA', 'area': 'NA'}, 446: {'name': 'NA', 'area': 'NA'}, 447: {'name': 'NA', 'area': 'NA'}, 448: {'name': 'NA', 'area': 'NA'}, 449: {'name': 'NA', 'area': 'NA'}, 450: {'name': 'NA', 'area': 'NA'}, 451: {'name': 'NA', 'area': 'NA'}, 452: {'name': 'NA', 'area': 'NA'}, 453: {'name': 'NA', 'area': 'NA'}, 454: {'name': 'NA', 'area': 'NA'}, 455: {'name': 'NA', 'area': 'NA'}, 456: {'name': 'NA', 'area': 'NA'}, 457: {'name': 'NA', 'area': 'NA'}, 458: {'name': 'NA', 'area': 'NA'}, 459: {'name': 'NA', 'area': 'NA'}, 460: {'name': 'NA', 'area': 'NA'}, 461: {'name': 'NA', 'area': 'NA'}, 462: {'name': 'NA', 'area': 'NA'}, 463: {'name': 'NA', 'area': 'NA'}, 464: {'name': 'NA', 'area': 'NA'}, 465: {'name': 'NA', 'area': 'NA'}, 466: {'name': 'NA', 'area': 'NA'}, 467: {'name': 'NA', 'area': 'NA'}, 468: {'name': 'NA', 'area': 'NA'}, 469: {'name': 'NA', 'area': 'NA'}, 470: {'name': 'NA', 'area': 'NA'}, 471: {'name': 'NA', 'area': 'NA'}, 472: {'name': 'NA', 'area': 'NA'}, 473: {'name': 'NA', 'area': 'NA'}, 474: {'name': 'NA', 'area': 'NA'}, 475: {'name': 'NA', 'area': 'NA'}, 476: {'name': 'NA', 'area': 'NA'}, 477: {'name': 'NA', 'area': 'NA'}, 478: {'name': 'NA', 'area': 'NA'}, 479: {'name': 'NA', 'area': 'NA'}, 480: {'name': 'NA', 'area': 'NA'}, 481: {'name': 'NA', 'area': 'NA'}, 482: {'name': 'NA', 'area': 'NA'}, 483: {'name': 'NA', 'area': 'NA'}, 484: {'name': 'NA', 'area': 'NA'}, 485: {'name': 'NA', 'area': 'NA'}, 486: {'name': 'NA', 'area': 'NA'}, 487: {'name': 'NA', 'area': 'NA'}, 488: {'name': 'NA', 'area': 'NA'}, 489: {'name': 'NA', 'area': 'NA'}, 490: {'name': 'NA', 'area': 'NA'}, 491: {'name': 'NA', 'area': 'NA'}, 492: {'name': 'NA', 'area': 'NA'}, 493: {'name': 'NA', 'area': 'NA'}, 494: {'name': 'NA', 'area': 'NA'}, 495: {'name': 'NA', 'area': 'NA'}, 496: {'name': 'NA', 'area': 'NA'}, 497: {'name': 'NA', 'area': 'NA'}, 498: {'name': 'NA', 'area': 'NA'}, 499: {'name': 'NA', 'area': 'NA'}, 500: {'name': 'NA', 'area': 'NA'}, 501: {'name': 'NA', 'area': 'NA'}}\n"
     ]
    }
   ],
   "source": [
    "def enlarge_name_area_arrt(old_attr,G):\n",
    "    default_value = {'name': 'NA', 'area': 'NA'}\n",
    "    current_max_key = max(old_attr.keys())\n",
    "\n",
    "    for i in range(1, (len(G.nodes)-len(old_attr)+1)):\n",
    "        old_attr[current_max_key + i] = default_value\n",
    "\n",
    "    return old_attr\n",
    "\n",
    "\n",
    "new_arrt = enlarge_name_area_arrt(name_area_attr,G_new)\n",
    "print(new_arrt)"
   ]
  },
  {
   "cell_type": "code",
   "execution_count": 761,
   "metadata": {},
   "outputs": [
    {
     "name": "stdout",
     "output_type": "stream",
     "text": [
      "[(0, {'coords': [-8.052733, 30.98757, 0.0], 'name': 'CENTRALWAITING1AC1', 'area': '127.0993141'}), (1, {'coords': [-33.151512, 31.68331, 0.0], 'name': 'WAITING/ACTIVITYAREA1DC1', 'area': '178.2169708'}), (2, {'coords': [-40.878929, 24.653619, 4.57], 'name': 'ROOF2R02', 'area': '578.7414997'}), (3, {'coords': [-36.12081, 11.009619, 0.0], 'name': 'CORRIDOR1EC1', 'area': '50.950835'}), (4, {'coords': [-20.182727, 35.317, 9.25], 'name': 'ROOF3R01', 'area': '1729.774807'}), (5, {'coords': [-38.358625, 31.718344, 4.57], 'name': 'MAINMECHANICALROOM2D05', 'area': '226.04322'}), (6, {'coords': [-13.218816, 45.343605, 4.57], 'name': 'CORRIDOR2AC3', 'area': '25.4807999'}), (7, {'coords': [-8.011654, 18.634846, 0.0], 'name': 'CORRIDOR1BC2', 'area': '27.31731525'}), (8, {'coords': [-34.381143, 16.815643, 4.57], 'name': 'TECH.OFFICE2D18', 'area': '82.089156'}), (9, {'coords': [-32.874889, 48.775556, 0.0], 'name': 'CORRIDOR1CC1', 'area': '40.23448'}), (10, {'coords': [-10.367429, 41.196086, 0.0], 'name': 'PHARM.DISP.1A16', 'area': '65.22472'}), (11, {'coords': [-29.201833, 39.5815, 0.0], 'name': 'CORRIDOR1DC3', 'area': '29.65476604'}), (12, {'coords': [-46.988, 49.9023, 0.0], 'name': 'PHYSICALEXAM1C18', 'area': '55.37747'}), (13, {'coords': [-2.754696, 20.201783, 0.0], 'name': 'LAB1B04', 'area': '51.1950656'}), (14, {'coords': [-18.58013, 16.250043, 0.0], 'name': 'CORRIDOR1BC4', 'area': '41.72148526'}), (15, {'coords': [-8.870143, 14.058571, 4.57], 'name': 'CORRIDOR2BC3', 'area': '24.92304611'}), (16, {'coords': [-7.718875, 23.449688, 4.57], 'name': 'CORRIDOR2BC5', 'area': '20.941674'}), (17, {'coords': [-33.65305, 4.5675, 0.0], 'name': 'RECEIVING/STORAGE1E24', 'area': '115.1199912'}), (18, {'coords': [-16.913182, 33.221182, 4.57], 'name': 'CORRIDOR2AC1', 'area': '39.02683601'}), (19, {'coords': [-38.923, 51.940632, 0.0], 'name': 'CORRIDOR1CC3', 'area': '10.608154'}), (20, {'coords': [-46.027696, 42.53887, 0.0], 'name': 'PROVIDERCUBICLES1D16', 'area': '65.26142'}), (21, {'coords': [-29.8276, 23.890267, 0.0], 'name': 'CORRIDOR1DC7', 'area': '29.82494475'}), (22, {'coords': [-18.96581, 16.334762, 4.57], 'name': 'CORRIDOR2BC2', 'area': '27.59131613'}), (23, {'coords': [-49.61719, 6.209429, 0.0], 'name': 'BMETWORKSTATION1E16', 'area': '46.7310228'}), (24, {'coords': [-13.247158, 40.047, 4.57], 'name': 'DENTALWAITING2A11', 'area': '31.7576639'}), (25, {'coords': [-32.295938, 45.570625, 4.57], 'name': 'CORRIDOR2CC3', 'area': '16.08426'}), (26, {'coords': [-3.646385, 43.071308, 0.0], 'name': 'CORRIDOR1AC5', 'area': '19.219196'}), (27, {'coords': [-32.497727, 25.710364, 4.57], 'name': 'CORRIDOR2DC2', 'area': '28.37771404'}), (28, {'coords': [-19.432133, 47.098467, 0.0], 'name': 'CORRIDOR1AC3', 'area': '15.00834681'}), (29, {'coords': [-45.633222, 20.826556, 0.0], 'name': 'PROVIDERCUBICLES1D25', 'area': '65.19988'}), (30, {'coords': [-39.475875, 22.02, 0.0], 'name': 'CORRIDOR1DC6', 'area': '13.885884'}), (31, {'coords': [-23.700182, 45.648909, 4.57], 'name': 'CORRIDOR2CC2', 'area': '12.3633'}), (32, {'coords': [-45.267125, 44.341, 4.57], 'name': 'PROSTH.LAB2C17', 'area': '28.58567199'}), (33, {'coords': [-5.44175, 42.380188, 4.57], 'name': 'CORRIDOR2AC4', 'area': '13.3551'}), (34, {'coords': [-28.042235, 41.716765, 4.57], 'name': 'M.STAFFTOILET2C07', 'area': '12.64593968'}), (35, {'coords': [-39.35925, 39.824313, 0.0], 'name': 'CORRIDOR1DC4', 'area': '14.1001505'}), (36, {'coords': [-32.299824, 38.999941, 4.57], 'name': 'CORRIDOR2CC1', 'area': '17.41818966'}), (37, {'coords': [-27.755333, 16.959667, 0.0], 'name': 'TECH.WORKSTATION1E06', 'area': '35.87712'}), (38, {'coords': [-37.689286, 47.313857, 4.57], 'name': 'CORRIDOR2CC4', 'area': '10.0491'}), (39, {'coords': [-24.047125, 31.700062, 4.57], 'name': 'OPENTOBELOW2AC1-B', 'area': '74.36477597'}), (40, {'coords': [-30.411529, 40.804765, 4.57], 'name': 'W.STAFFTOILET2C08', 'area': '11.81463896'}), (41, {'coords': [-0.5892, 39.268667, 0.0], 'name': 'RMOANALYST1A02', 'area': '26.65783112'}), (42, {'coords': [-23.006133, 45.815333, 0.0], 'name': 'OPT.EXAM/OFF.1C07', 'area': '16.30298113'}), (43, {'coords': [-5.644667, 27.900833, 0.0], 'name': 'RECEPTION1B01', 'area': '8.8082864'}), (44, {'coords': [-12.052429, 26.930929, 0.0], 'name': 'RECEPTION1B13', 'area': '21.46037404'}), (45, {'coords': [-25.400111, 40.155333, 4.57], 'name': 'CONSULT.2C03', 'area': '31.93688966'}), (46, {'coords': [-25.1758, 26.228, 4.57], 'name': 'SYS.ANALYST2D04', 'area': '19.44117106'}), (47, {'coords': [-4.1686, 17.839, 4.57], 'name': 'CORRIDOR2BC4', 'area': '11.546946'}), (48, {'coords': [-50.405286, 31.695, 0.0], 'name': 'TEAMINTERACTION1D22', 'area': '22.55096041'}), (49, {'coords': [-18.318833, 37.4765, 0.0], 'name': 'CORRIDOR1AC2', 'area': '19.09846713'}), (50, {'coords': [-37.02975, 52.694583, 0.0], 'name': 'STAIR1CS3', 'area': '12.75474344'}), (51, {'coords': [-19.665455, 39.366, 4.57], 'name': 'CORRIDOR2AC2', 'area': '13.92585484'}), (52, {'coords': [-2.027385, 36.018692, 4.57], 'name': 'LIBRARY/CONF.ROOM2A01', 'area': '24.92560559'}), (53, {'coords': [-41.2031, 45.916, 4.57], 'name': 'CORRIDOR2CC5', 'area': '7.417722'}), (54, {'coords': [-24.311286, 20.173, 4.57], 'name': 'CORRIDOR2DC1', 'area': '20.1438'}), (55, {'coords': [-8.286091, 37.625, 4.57], 'name': 'ADMIN2A14', 'area': '31.49841497'}), (56, {'coords': [-21.782167, 26.059083, 0.0], 'name': \"IMMUNIZ'NROOM1D40\", 'area': '15.39988'}), (57, {'coords': [-13.0135, 45.2969, 0.0], 'name': 'LOUNGE1A10', 'area': '9.519166011'}), (58, {'coords': [-39.246462, 43.972462, 4.57], 'name': 'DIPCCLEAN2C12', 'area': '13.256738'}), (59, {'coords': [-33.740727, 55.345909, 0.0], 'name': 'FUNDUSCAMERAROOM1C09', 'area': '13.77182871'}), (60, {'coords': [-50.656615, 14.759154, 0.0], 'name': 'CENTRALMECH.RM.1E15', 'area': '27.1572756'}), (61, {'coords': [-45.749636, 8.656091, 0.0], 'name': 'ELEC.ROOM1E19', 'area': '8.888087942'}), (62, {'coords': [-40.247636, 9.624636, 0.0], 'name': 'BEEEQUIP.STORAGE1E23', 'area': '8.054825871'}), (63, {'coords': [-43.2494, 7.5681, 0.0], 'name': 'CORRIDOR1EC4', 'area': '8.463390043'}), (64, {'coords': [-44.861846, 11.400538, 4.57], 'name': 'CMDROFFICE2D11', 'area': '14.48541168'}), (65, {'coords': [-7.263455, 18.988, 4.57], 'name': 'SOIL.UTL./TRASH2B25', 'area': '6.7255'}), (66, {'coords': [-6.3226, 11.5366, 0.0], 'name': 'STAFFLOUNGE1B10', 'area': '9.406536'}), (67, {'coords': [-7.110833, 43.922833, 4.57], 'name': 'DEVELOPING2A13', 'area': '6.885029095'}), (68, {'coords': [-10.119556, 43.238, 4.57], 'name': 'X-RAY2A12', 'area': '10.34281402'}), (69, {'coords': [-15.609875, 43.135, 0.0], 'name': 'CORRIDOR1AC4', 'area': '8.799656433'}), (70, {'coords': [-28.9929, 35.8551, 4.57], 'name': 'LOUNGE2C22', 'area': '10.32407253'}), (71, {'coords': [-33.864182, 43.985455, 0.0], 'name': 'INTERACTIONSTATION1D11', 'area': '11.874652'}), (72, {'coords': [-5.986, 48.978222, 4.57], 'name': 'OHDTR#12A05', 'area': '10.44778121'}), (73, {'coords': [-5.691455, 49.490727, 0.0], 'name': 'TRICAREOFFICE1A07', 'area': '7.969378'}), (74, {'coords': [-25.431, 37.180625, 0.0], 'name': 'CORRIDOR1DC2', 'area': '5.9337'}), (75, {'coords': [-25.306222, 26.165333, 0.0], 'name': 'CORRIDOR1DC8', 'area': '5.878835248'}), (76, {'coords': [-2.815, 25.908333, 0.0], 'name': 'CORRIDOR1BC1', 'area': '5.0958'}), (77, {'coords': [-13.2105, 17.674, 0.0], 'name': 'RADIOGRAPHICROOM1B19', 'area': '28.23269032'}), (78, {'coords': [-45.97225, 15.262, 4.57], 'name': 'SEC.WAIT2D10', 'area': '15.66376'}), (79, {'coords': [-39.9008, 11.2542, 4.57], 'name': 'RMODIR.2D16', 'area': '8.967280013'}), (80, {'coords': [-1.2352, 21.9609, 4.57], 'name': 'OFFICE2B01', 'area': '8.597788478'}), (81, {'coords': [-14.275786, 26.320571, 4.57], 'name': 'WAITING2B11', 'area': '9.524945901'}), (82, {'coords': [-6.5698, 10.5716, 4.57], 'name': 'PHTECH2B18', 'area': '8.660007676'}), (83, {'coords': [-30.33975, 51.81525, 4.57], 'name': 'ROOF2R01', 'area': '50.907749'}), (84, {'coords': [-36.600222, 16.390889, 0.0], 'name': 'STAFFLOUNGE1E11', 'area': '13.65974'}), (85, {'coords': [-27.1206, 43.1494, 0.0], 'name': 'INTERACTIONSTATION1D07', 'area': '11.74148202'}), (86, {'coords': [-33.862222, 19.563556, 0.0], 'name': 'INTERACTIONSTATION1D32', 'area': '11.874652'}), (87, {'coords': [-42.126, 38.572, 0.0], 'name': 'TOILET1D18', 'area': '7.3873646'}), (88, {'coords': [-0.668222, 27.102444, 0.0], 'name': 'SPECIMENTOILET1B02', 'area': '4.903969'}), (89, {'coords': [-14.23525, 36.361, 0.0], 'name': 'COUNSELING1A15', 'area': '5.868032'}), (90, {'coords': [-30.745, 52.292, 0.0], 'name': 'CORRIDOR1CC2', 'area': '7.569486'}), (91, {'coords': [-33.5271, 45.8367, 0.0], 'name': 'RECEPTION1C02', 'area': '8.818636'}), (92, {'coords': [-27.8641, 45.8308, 0.0], 'name': 'OPT.EXAM/OFF.1C10', 'area': '16.98138779'}), (93, {'coords': [-49.315667, 35.790444, 0.0], 'name': 'GROUPIS1D21', 'area': '17.922534'}), (94, {'coords': [-49.315667, 27.597778, 0.0], 'name': 'GROUPIS1D23', 'area': '17.917926'}), (95, {'coords': [-33.248889, 17.9, 0.0], 'name': 'SUPER1E08', 'area': '9.10116'}), (96, {'coords': [-45.3307, 5.8668, 0.0], 'name': 'BIOMEDMAINT.ADMIN.1E18', 'area': '14.363332'}), (97, {'coords': [-23.087714, 4.630571, 0.0], 'name': 'WORKROOM1E26', 'area': '18.345618'}), (98, {'coords': [-41.651375, 16.592, 0.0], 'name': 'ISOLATIONINTERACTIONSTATION1E33', 'area': '12.455744'}), (99, {'coords': [-12.722571, 13.504, 0.0], 'name': 'CORRIDOR1BC3', 'area': '12.42490275'}), (100, {'coords': [-4.930444, 24.156444, 0.0], 'name': 'BLOODDRAW1B03', 'area': '8.906972'}), (101, {'coords': [-41.763, 43.9742, 4.57], 'name': 'COMM.ROOM2C15', 'area': '8.823256'}), (102, {'coords': [-23.361111, 11.560667, 4.57], 'name': 'CONF.ROOM2D20', 'area': '29.35535247'}), (103, {'coords': [-23.6252, 18.0676, 4.57], 'name': 'LIBRARY/CLASSROOM2D21', 'area': '26.44253621'}), (104, {'coords': [-21.877, 36.6011, 0.0], 'name': 'INTERACTIONSTATION1D02', 'area': '10.72076'}), (105, {'coords': [-21.880857, 43.038429, 0.0], 'name': 'TRMTRM.DIRTYPROC.1D05', 'area': '13.43132609'}), (106, {'coords': [-23.69575, 20.163125, 0.0], 'name': 'TRMTROOM1D38', 'area': '22.19852'}), (107, {'coords': [-34.496778, 27.453556, 0.0], 'name': 'PEDIATRICWTSandMSRS1D31', 'area': '10.2185637'}), (108, {'coords': [-46.15825, 48.90775, 4.57], 'name': 'CERAMICLAB2C16', 'area': '10.13784399'}), (109, {'coords': [-41.719889, 48.296, 4.57], 'name': 'GEN.DENT.DTR#102C14', 'area': '11.04397'}), (110, {'coords': [-15.6655, 45.397875, 0.0], 'name': 'M.TOILET1A12', 'area': '9.146935978'}), (111, {'coords': [-16.7328, 49.3246, 0.0], 'name': 'W.TOILET1A09', 'area': '9.817789575'}), (112, {'coords': [-42.222286, 12.509714, 4.57], 'name': 'TOILET2D13', 'area': '4.183106411'}), (113, {'coords': [-27.91925, 54.856, 0.0], 'name': 'VISUALFIELD1C05', 'area': '10.1044896'}), (114, {'coords': [-33.290857, 50.798857, 0.0], 'name': 'SCREENEYETEST1C08', 'area': '9.098656'}), (115, {'coords': [-26.54875, 35.759, 0.0], 'name': 'SL.LIN./TRASH1D01', 'area': '1.662334829'}), (116, {'coords': [-34.712286, 36.388286, 0.0], 'name': 'SPECIMENCOLL.LAB1D12', 'area': '9.427521701'}), (117, {'coords': [-41.522333, 36.027444, 0.0], 'name': 'MDISVIEW1D19', 'area': '5.115816'}), (118, {'coords': [-41.6175, 26.583, 0.0], 'name': 'ADMINWORKSTATN.1D27', 'area': '9.958312'}), (119, {'coords': [-32.602, 27.220857, 0.0], 'name': 'PEDIATRICWAITING1D33', 'area': '11.882572'}), (120, {'coords': [-26.54925, 27.631, 0.0], 'name': 'JAN.CL.1D39', 'area': '1.661435527'}), (121, {'coords': [-46.916, 55.47775, 0.0], 'name': 'ECGTEST1C16', 'area': '9.036384'}), (122, {'coords': [-39.947444, 0.883111, 0.0], 'name': 'TRASH1E20', 'area': '7.87702632'}), (123, {'coords': [-25.686, 8.523625, 0.0], 'name': 'ADPEQUIPSPACE1E25', 'area': '10.5608804'}), (124, {'coords': [-21.04875, 9.05525, 0.0], 'name': 'HK.SUPV.OFFICE1E29', 'area': '9.949552'}), (125, {'coords': [-12.598, 22.125111, 0.0], 'name': 'TECH.WORKROOM1B17', 'area': '23.03667979'}), (126, {'coords': [-1.092, 41.549, 4.57], 'name': 'SUPEROFFICE2A02', 'area': '10.023352'}), (127, {'coords': [-22.027, 27.79275, 4.57], 'name': 'DIR.INFOMGR2D03', 'area': '8.723713418'}), (128, {'coords': [-29.339875, 25.753, 4.57], 'name': 'COMPUTERROOM2D04A', 'area': '32.0805114'}), (129, {'coords': [-18.078857, 25.056286, 4.57], 'name': 'CORRIDOR2BC1', 'area': '11.92940427'}), (130, {'coords': [-15.074571, 24.263143, 4.57], 'name': 'CORRIDOR2BC6', 'area': '7.968411354'}), (131, {'coords': [-13.608667, 20.050889, 4.57], 'name': 'RECEPTION2B10', 'area': '14.181456'}), (132, {'coords': [-16.19, 16.411778, 4.57], 'name': 'ELECTRICAL2B13', 'area': '8.904336466'}), (133, {'coords': [-14.263, 17.086375, 4.57], 'name': 'RECS/FORMSSTORAGE2B14', 'area': '9.75661885'}), (134, {'coords': [-36.999375, 51.59575, 4.57], 'name': 'STAIR2CS3', 'area': '14.20447105'}), (135, {'coords': [-9.068333, 35.3225, 9.25], 'name': 'ROOF3R02', 'area': '11.15470799'}), (136, {'coords': [-9.068333, 28.068, 9.25], 'name': 'ROOF3R04', 'area': '11.14710324'}), (137, {'coords': [-25.332, 43.011286, 0.0], 'name': 'SCOPEWASH/DECON.1D06', 'area': '8.315512'}), (138, {'coords': [-37.730571, 43.023143, 0.0], 'name': 'INTERACTIONSTATION1D13', 'area': '11.946412'}), (139, {'coords': [-27.130143, 19.859857, 0.0], 'name': 'INTERACTIONSTATION1D36', 'area': '11.853436'}), (140, {'coords': [-26.551429, 48.708857, 4.57], 'name': 'GEN.DENT.DTR#72C04', 'area': '10.32281388'}), (141, {'coords': [-22.953, 49.024333, 4.57], 'name': 'GEN.DENT.DTR#62C02', 'area': '10.9245084'}), (142, {'coords': [-19.683429, 48.708857, 4.57], 'name': 'GEN.DENT.DTR#52A09', 'area': '10.39306421'}), (143, {'coords': [-15.805667, 49.024333, 4.57], 'name': 'GEN.DENT.DTR#42A08', 'area': '10.7436992'}), (144, {'coords': [-8.9916, 48.845, 4.57], 'name': 'OHDTR#22A06', 'area': '11.00429787'}), (145, {'coords': [-21.576, 36.700714, 4.57], 'name': 'M.TOILET2C23', 'area': '7.66403357'}), (146, {'coords': [-5.977125, 36.54725, 0.0], 'name': 'PATIENTADMIN.RECEPT.1A01', 'area': '19.016928'}), (147, {'coords': [-5.86175, 43.34725, 0.0], 'name': 'TRICAREOFFICE1A03', 'area': '8.158517'}), (148, {'coords': [-6.047714, 45.285143, 0.0], 'name': 'TRICAREOFFICE1A05', 'area': '8.297676'}), (149, {'coords': [-1.4605, 49.30275, 0.0], 'name': 'TRICAREOFFICE1A06', 'area': '9.3277025'}), (150, {'coords': [-36.118625, 45.71325, 0.0], 'name': 'WAITING1C01', 'area': '11.6366'}), (151, {'coords': [-27.879714, 50.847429, 0.0], 'name': 'FITTING/DISP.1C04', 'area': '9.190686'}), (152, {'coords': [-37.99225, 36.03225, 0.0], 'name': 'WTSandMEAS.ROOM1D15', 'area': '4.577276382'}), (153, {'coords': [-44.681143, 36.530857, 0.0], 'name': 'APPMTS1D20', 'area': '10.95444'}), (154, {'coords': [-37.992857, 26.295714, 0.0], 'name': 'WTSandMEAS.ROOM1D30', 'area': '8.495052'}), (155, {'coords': [-41.36075, 47.0035, 0.0], 'name': 'COMM.ROOM1C13', 'area': '11.06492'}), (156, {'coords': [-39.575, 14.381667, 0.0], 'name': 'CORRIDOR1EC3', 'area': '8.0541'}), (157, {'coords': [-6.335333, 18.8, 0.0], 'name': 'DRESS1B09', 'area': '4.12526675'}), (158, {'coords': [-15.444857, 11.165143, 0.0], 'name': 'STAIR1BS2', 'area': '14.83002112'}), (159, {'coords': [-1.6254, 44.1696, 4.57], 'name': 'SEC.OFFICE2A03', 'area': '14.77873'}), (160, {'coords': [-26.108857, 44.238571, 4.57], 'name': 'JAN.CL.2C05', 'area': '3.237088'}), (161, {'coords': [-39.118, 48.401286, 4.57], 'name': 'TRASH2C13', 'area': '4.988792'}), (162, {'coords': [-34.779, 19.536333, 4.57], 'name': 'COPY/FILE2D06', 'area': '11.1552'}), (163, {'coords': [-45.318857, 19.262286, 4.57], 'name': 'ADMINOFFICE2D09', 'area': '13.31522'}), (164, {'coords': [-35.6455, 10.99725, 4.57], 'name': 'OPSSQUADCMDR2D14', 'area': '12.7149854'}), (165, {'coords': [-32.831286, 11.553, 4.57], 'name': '1STSGT2D15', 'area': '9.925400952'}), (166, {'coords': [-6.551714, 16.628857, 4.57], 'name': 'OFFICE2B19', 'area': '8.140704'}), (167, {'coords': [-1.239769, 31.535846, 9.25], 'name': 'ROOF3R03', 'area': '58.0138357'}), (168, {'coords': [-40.424333, 6.484333, 0.0], 'name': 'SOIL.LIN.1E30', 'area': '6.206734284'}), (169, {'coords': [-34.705667, 43.663, 4.57], 'name': 'DIPCDECON2C10', 'area': '10.249896'}), (170, {'coords': [-32.440333, 36.314333, 0.0], 'name': 'INTERACTIONSTATION1D10', 'area': '11.88386249'}), (171, {'coords': [-33.237667, 49.024333, 4.57], 'name': 'GEN.DENT.DTR#92C09', 'area': '10.4598151'}), (172, {'coords': [-13.098, 48.845, 4.57], 'name': 'OHDTR#32A07', 'area': '10.9245084'}), (173, {'coords': [-41.079571, 54.928857, 0.0], 'name': 'TOILET1C12', 'area': '5.458698'}), (174, {'coords': [-13.586857, 41.400571, 0.0], 'name': 'STAFFTOILET1A13', 'area': '3.93738554'}), (175, {'coords': [-6.293667, 16.9, 0.0], 'name': 'STAFFTOILET1B11', 'area': '4.410432'}), (176, {'coords': [-21.979, 40.054, 4.57], 'name': 'W.TOILET2C24', 'area': '8.496256046'}), (177, {'coords': [-1.049714, 13.585, 4.57], 'name': 'M.TOILET2B22', 'area': '4.440349511'}), (178, {'coords': [-39.869, 27.261, 0.0], 'name': 'CORRIDOR1DC5', 'area': '6.073236'}), (179, {'coords': [-50.870333, 45.851, 0.0], 'name': 'CHIEFAEROMED.1C17', 'area': '8.99885'}), (180, {'coords': [-50.758667, 55.175, 0.0], 'name': 'AUDIO1C19', 'area': '10.400642'}), (181, {'coords': [-38.44, 53.448, 0.0], 'name': 'ELEC.CL.1C11', 'area': '0.539759753'}), (182, {'coords': [-21.536667, 13.681333, 0.0], 'name': 'HKEQUIP.STORAGE1E01', 'area': '8.966112'}), (183, {'coords': [-21.001, 18.093667, 0.0], 'name': 'JAN.CL.1E03', 'area': '3.468192'}), (184, {'coords': [-23.844667, 16.737333, 0.0], 'name': 'CHIEFLOGOFFICE1E05', 'area': '9.1712'}), (185, {'coords': [-33.5, 14.0176, 0.0], 'name': 'CONF.LIBRARY1E07', 'area': '10.799832'}), (186, {'coords': [-45.358, 16.014, 0.0], 'name': 'DISASTERSTOR.1E14', 'area': '21.141224'}), (187, {'coords': [-46.045333, 0.878, 0.0], 'name': 'HAZ.STOR.1E17', 'area': '8.6565728'}), (188, {'coords': [-21.036333, 0.932667, 0.0], 'name': 'FAC.MGR.OFFICE1E28', 'area': '8.62789'}), (189, {'coords': [-6.121333, 20.7, 0.0], 'name': 'DRESS1B07', 'area': '3.897104'}), (190, {'coords': [-9.4916, 11.548, 0.0], 'name': 'SOIL.UTL.1B14', 'area': '3.427624'}), (191, {'coords': [-16.188, 20.2535, 0.0], 'name': 'COMM.ROOM1B21', 'area': '9.010952'}), (192, {'coords': [-16.391333, 16.5845, 0.0], 'name': 'ELEC.ROOM1B23', 'area': '9.087384931'}), (193, {'coords': [-16.190333, 39.463333, 0.0], 'name': 'STAIR1AS1', 'area': '13.57654'}), (194, {'coords': [-16.7602, 44.1664, 4.57], 'name': 'DENTALWAITING2A10', 'area': '7.304909076'}), (195, {'coords': [-11.026714, 44.360714, 4.57], 'name': 'X-RAYALCOVE2A12-A', 'area': '1.995578054'}), (196, {'coords': [-35.9655, 48.3685, 4.57], 'name': 'HK2C11', 'area': '4.572256'}), (197, {'coords': [-41.336, 19.536333, 4.57], 'name': 'QA/HRDDIRECTOR2D08', 'area': '8.283076'}), (198, {'coords': [-42.06225, 10.35125, 4.57], 'name': 'VEST.2D12', 'area': '2.326923795'}), (199, {'coords': [-30.445667, 12.294, 4.57], 'name': 'CREDENTIALSMGR2D17', 'area': '8.697743537'}), (200, {'coords': [-27.187333, 11.238333, 4.57], 'name': 'READINESSNCOICOFFICE2D19', 'area': '9.96646744'}), (201, {'coords': [-10.254667, 20.061, 4.57], 'name': 'OFFICE/EXAM2B8', 'area': '11.735796'}), (202, {'coords': [-16.280857, 20.562, 4.57], 'name': 'COMM.ROOM2B12', 'area': '9.132201534'}), (203, {'coords': [-1.366857, 12.06, 4.57], 'name': 'PHSUPER2B21', 'area': '8.438141521'}), (204, {'coords': [-35.172, -4.533833, 0.0], 'name': 'MECH.YARD1F01', 'area': '78.91683985'}), (205, {'coords': [-16.5825, 26.6645, 0.0], 'name': 'ELEVATORE1', 'area': '3.8493954'}), (206, {'coords': [-9.056, 16.7196, 4.57], 'name': 'CL.UTL./KITCHENET2B17', 'area': '8.257392'}), (207, {'coords': [-28.5, 36.8616, 0.0], 'name': 'INTERACTIONSTATION1D08', 'area': '11.94778834'}), (208, {'coords': [-30.817667, 43.407667, 0.0], 'name': 'INTERACTIONSTATION1D09', 'area': '11.946412'}), (209, {'coords': [-37.3884, 21.0496, 0.0], 'name': 'INTERACTIONSTATION1D28', 'area': '11.813064'}), (210, {'coords': [-30.92, 20.2404, 0.0], 'name': 'INTERACTIONSTATION1D34', 'area': '11.946412'}), (211, {'coords': [-28.5, 26.5284, 0.0], 'name': 'INTERACTIONSTATION1D35', 'area': '11.94641299'}), (212, {'coords': [-37.9312, 13.1716, 0.0], 'name': 'M.TOILET1E10', 'area': '4.448202'}), (213, {'coords': [-41.566, 12.8396, 0.0], 'name': 'ISOLATIONTOILET1E12', 'area': '4.651448'}), (214, {'coords': [-5.9388, 21.479, 4.57], 'name': 'W.TOILET2B5', 'area': '4.130912'}), (215, {'coords': [-1.6732, 45.236, 0.0], 'name': 'TRICAREOFFICE1A04', 'area': '8.590244'}), (216, {'coords': [-12.3592, 48.5726, 0.0], 'name': 'PHARM.OFFICE1A08', 'area': '9.510704'}), (217, {'coords': [-30.2352, 55.1638, 0.0], 'name': 'SOIL.UTL./TRASH1C06', 'area': '4.6539024'}), (218, {'coords': [-41.608667, 40.38, 0.0], 'name': 'JAN.CL.1D17', 'area': '1.67125868'}), (219, {'coords': [-45.465667, 27.246333, 0.0], 'name': 'RECORDS1D24', 'area': '10.95444'}), (220, {'coords': [-43.69, 55.034, 0.0], 'name': 'HIST./INTV.1C14', 'area': '7.311094'}), (221, {'coords': [-24.88, 1.0672, 0.0], 'name': 'BENCHSTOCKSTORAGE1E27', 'area': '8.551708'}), (222, {'coords': [-23.365, 8.1295, 0.0], 'name': 'CORRIDOR1EC2', 'area': '7.27263'}), (223, {'coords': [-8.0516, 11.053, 0.0], 'name': 'CLEANSUP.andEQUIP.1B12', 'area': '3.302158225'}), (224, {'coords': [-10.8016, 24.5436, 0.0], 'name': 'FILMVIEW1B15', 'area': '5.253263016'}), (225, {'coords': [-11.06, 11.046, 0.0], 'name': 'JAN.CL.1B16', 'area': '3.427623616'}), (226, {'coords': [-8.4076, 40.5824, 4.57], 'name': 'CORRIDOR2AC5', 'area': '8.38071'}), (227, {'coords': [-2.4264, 47.862, 4.57], 'name': 'DENTALSURGEONOFFICE2A04', 'area': '14.932054'}), (228, {'coords': [-41.738, 40.356, 4.57], 'name': 'ELECTRICAL2C18', 'area': '9.076656'}), (229, {'coords': [-36.8764, 40.22, 4.57], 'name': 'CENTRALISSUE2C19', 'area': '19.802112'}), (230, {'coords': [-39.120333, 19.536333, 4.57], 'name': 'SUPER2D07', 'area': '8.495886'}), (231, {'coords': [-8.399667, 27.067667, 4.57], 'name': 'TECHOFFICE2B7', 'area': '9.236736'}), (232, {'coords': [-11.6236, 16.7196, 4.57], 'name': 'WAIT/ERGOM2B15', 'area': '8.37408'}), (233, {'coords': [-10.3104, 11.046, 4.57], 'name': 'PHTECH2B16', 'area': '8.541769616'}), (234, {'coords': [-1.7532, 16.1426, 4.57], 'name': 'BEETECH2B23', 'area': '9.9134105'}), (235, {'coords': [-1.3134, 19.502, 4.57], 'name': 'BEETECH2B24', 'area': '8.8244835'}), (236, {'coords': [-15.1056, 11.714, 4.57], 'name': 'STAIR2BS2', 'area': '14.39235334'}), (237, {'coords': [-24.343, 13.67, 0.0], 'name': 'HKBREAKROOM1E04', 'area': '8.976312'}), (238, {'coords': [-29.773, 48.576, 4.57], 'name': 'GEN.DENT.DTR#82C06', 'area': '10.9245084'}), (239, {'coords': [-37.268, 37.86, 0.0], 'name': 'SPECIMENTOILET1D14', 'area': '4.184712'}), (240, {'coords': [-6.267, 22.465, 0.0], 'name': 'PAT./STAFFTOILET1B05', 'area': '4.21724'}), (241, {'coords': [-35.7205, 13.435, 0.0], 'name': 'W.TOILET1E09', 'area': '4.448202'}), (242, {'coords': [-41.87, 23.437, 0.0], 'name': 'TOILET1D26', 'area': '4.411232'}), (243, {'coords': [-8.177, 21.514, 4.57], 'name': 'STAFFTOILET2B6', 'area': '5.012672'}), (244, {'coords': [-11.245, 46.4045, 0.0], 'name': 'JAN.1A11', 'area': '1.678622'}), (245, {'coords': [-13.569333, 39.415667, 0.0], 'name': 'SUPER/NCOIC1A14', 'area': '6.74816'}), (246, {'coords': [-31.637, 46.507, 0.0], 'name': 'JAN.CL.1C03', 'area': '3.546816'}), (247, {'coords': [-45.0195, 46.967, 0.0], 'name': 'PESADMIN.OFFICE1C15', 'area': '14.577996'}), (248, {'coords': [-21.37, 16.292, 0.0], 'name': 'ELEV.EQUIP.1E02', 'area': '5.086272'}), (249, {'coords': [-41.055, 4.195, 0.0], 'name': 'FLAMABLESTORAGE1E21', 'area': '4.8273352'}), (250, {'coords': [-39.26, 4.195, 0.0], 'name': 'SEC.STORAGE1E22', 'area': '5.641926343'}), (251, {'coords': [-1.103, 12.127, 0.0], 'name': 'LABOFFICE1B06', 'area': '9.3511146'}), (252, {'coords': [-3.71, 12.127, 0.0], 'name': 'CENT.STO.1B08', 'area': '8.936512'}), (253, {'coords': [-51.7445, 14.345, 0.0], 'name': 'GASSTORAGE1E15-A', 'area': '1.6575762'}), (254, {'coords': [-21.5275, 43.257, 4.57], 'name': 'DTRSUPPORT2C01', 'area': '8.11544'}), (255, {'coords': [-22.198, 22.369, 4.57], 'name': 'PARTSSTORAGE2D01', 'area': '8.250142'}), (256, {'coords': [-22.198, 24.804, 4.57], 'name': 'DATA/ARCHIVESTORAGE2D02', 'area': '9.22564'}), (257, {'coords': [-0.9755, 24.034, 4.57], 'name': 'JAN.CL.2B2', 'area': '1.8928'}), (258, {'coords': [-10.972, 26.496, 4.57], 'name': 'TECHOFFICE2B9', 'area': '9.169216'}), (259, {'coords': [-4.175, 11.4975, 4.57], 'name': 'JAN.CL.2B20', 'area': '2.82657667'}), (260, {'coords': [-21.2905, 39.48, 0.0], 'name': 'TOILET1D04', 'area': '4.58078'}), (261, {'coords': [-26.5408, 38.0568, 0.0], 'name': 'CLEANU.1D03', 'area': '2.08844'}), (262, {'coords': [-26.656, 25.522, 0.0], 'name': 'CLEANU.1D37', 'area': '2.088439519'}), (263, {'coords': [-16.6625, 39.646, 4.57], 'name': 'STAIR2AS1', 'area': '13.64399392'}), (264, {'coords': [-38.658, 53.448, 0.0], 'name': 'NA', 'area': 'NA'}), (265, {'coords': [-12.859, 44.052, 0.0], 'name': 'NA', 'area': 'NA'}), (266, {'coords': [-15.258, 37.058, 0.0], 'name': 'NA', 'area': 'NA'}), (267, {'coords': [-37.122, 44.982, 4.57], 'name': 'NA', 'area': 'NA'}), (268, {'coords': [-33.488, 30.159, 4.57], 'name': 'NA', 'area': 'NA'}), (269, {'coords': [-9.432, 12.718, 0.0], 'name': 'NA', 'area': 'NA'}), (270, {'coords': [-31.662, 50.501, 0.0], 'name': 'NA', 'area': 'NA'}), (271, {'coords': [-3.693, 34.842, 0.0], 'name': 'NA', 'area': 'NA'}), (272, {'coords': [-7.112, 19.335, 0.0], 'name': 'NA', 'area': 'NA'}), (273, {'coords': [-42.509, 11.156, 4.57], 'name': 'NA', 'area': 'NA'}), (274, {'coords': [-49.012, 53.202, 0.0], 'name': 'NA', 'area': 'NA'}), (275, {'coords': [-47.813, 53.202, 0.0], 'name': 'NA', 'area': 'NA'}), (276, {'coords': [-44.613, 53.202, 0.0], 'name': 'NA', 'area': 'NA'}), (277, {'coords': [-40.475, 53.781, 0.0], 'name': 'NA', 'area': 'NA'}), (278, {'coords': [-40.475, 52.642, 0.0], 'name': 'NA', 'area': 'NA'}), (279, {'coords': [-37.693, 50.837, 0.0], 'name': 'NA', 'area': 'NA'}), (280, {'coords': [-31.662, 53.161, 0.0], 'name': 'NA', 'area': 'NA'}), (281, {'coords': [-29.828, 53.331, 0.0], 'name': 'NA', 'area': 'NA'}), (282, {'coords': [-27.228, 49.922, 0.0], 'name': 'NA', 'area': 'NA'}), (283, {'coords': [-31.043, 54.349, 0.0], 'name': 'NA', 'area': 'NA'}), (284, {'coords': [-32.887, 48.088, 0.0], 'name': 'NA', 'area': 'NA'}), (285, {'coords': [-27.768, 48.088, 0.0], 'name': 'NA', 'area': 'NA'}), (286, {'coords': [-22.918, 48.088, 0.0], 'name': 'NA', 'area': 'NA'}), (287, {'coords': [-21.118, 48.707, 0.0], 'name': 'NA', 'area': 'NA'}), (288, {'coords': [-18.058, 48.685, 0.0], 'name': 'NA', 'area': 'NA'}), (289, {'coords': [-18.058, 45.722, 0.0], 'name': 'NA', 'area': 'NA'}), (290, {'coords': [-10.732, 48.216, 0.0], 'name': 'NA', 'area': 'NA'}), (291, {'coords': [-10.732, 46.231, 0.0], 'name': 'NA', 'area': 'NA'}), (292, {'coords': [-4.362, 47.791, 0.0], 'name': 'NA', 'area': 'NA'}), (293, {'coords': [-2.978, 47.591, 0.0], 'name': 'NA', 'area': 'NA'}), (294, {'coords': [-2.978, 44.631, 0.0], 'name': 'NA', 'area': 'NA'}), (295, {'coords': [-4.362, 44.781, 0.0], 'name': 'NA', 'area': 'NA'}), (296, {'coords': [-4.362, 41.871, 0.0], 'name': 'NA', 'area': 'NA'}), (297, {'coords': [-12.622, 37.058, 0.0], 'name': 'NA', 'area': 'NA'}), (298, {'coords': [-14.679, 42.218, 0.0], 'name': 'NA', 'area': 'NA'}), (299, {'coords': [-18.058, 43.432, 0.0], 'name': 'NA', 'area': 'NA'}), (300, {'coords': [-19.293, 42.218, 0.0], 'name': 'NA', 'area': 'NA'}), (301, {'coords': [-24.308, 37.392, 0.0], 'name': 'NA', 'area': 'NA'}), (302, {'coords': [-24.908, 35.418, 0.0], 'name': 'NA', 'area': 'NA'}), (303, {'coords': [-23.133, 40.722, 0.0], 'name': 'NA', 'area': 'NA'}), (304, {'coords': [-24.332, 40.722, 0.0], 'name': 'NA', 'area': 'NA'}), (305, {'coords': [-23.752, 42.281, 0.0], 'name': 'NA', 'area': 'NA'}), (306, {'coords': [-28.569, 40.722, 0.0], 'name': 'NA', 'area': 'NA'}), (307, {'coords': [-29.768, 40.722, 0.0], 'name': 'NA', 'area': 'NA'}), (308, {'coords': [-36.108, 40.722, 0.0], 'name': 'NA', 'area': 'NA'}), (309, {'coords': [-34.909, 40.722, 0.0], 'name': 'NA', 'area': 'NA'}), (310, {'coords': [-36.112, 38.308, 0.0], 'name': 'NA', 'area': 'NA'}), (311, {'coords': [-34.152, 38.888, 0.0], 'name': 'NA', 'area': 'NA'}), (312, {'coords': [-30.982, 38.888, 0.0], 'name': 'NA', 'area': 'NA'}), (313, {'coords': [-29.783, 38.888, 0.0], 'name': 'NA', 'area': 'NA'}), (314, {'coords': [-39.278, 36.439, 0.0], 'name': 'NA', 'area': 'NA'}), (315, {'coords': [-42.669, 34.842, 0.0], 'name': 'NA', 'area': 'NA'}), (316, {'coords': [-43.868, 34.842, 0.0], 'name': 'NA', 'area': 'NA'}), (317, {'coords': [-47.788, 44.802, 0.0], 'name': 'NA', 'area': 'NA'}), (318, {'coords': [-48.767, 45.381, 0.0], 'name': 'NA', 'area': 'NA'}), (319, {'coords': [-46.213, 49.132, 0.0], 'name': 'NA', 'area': 'NA'}), (320, {'coords': [-48.563, 34.062, 0.0], 'name': 'NA', 'area': 'NA'}), (321, {'coords': [-48.563, 29.328, 0.0], 'name': 'NA', 'area': 'NA'}), (322, {'coords': [-47.788, 28.548, 0.0], 'name': 'NA', 'area': 'NA'}), (323, {'coords': [-38.658, 26.525, 0.0], 'name': 'NA', 'area': 'NA'}), (324, {'coords': [-32.763, 28.548, 0.0], 'name': 'NA', 'area': 'NA'}), (325, {'coords': [-40.492, 23.101, 0.0], 'name': 'NA', 'area': 'NA'}), (326, {'coords': [-40.492, 21.902, 0.0], 'name': 'NA', 'area': 'NA'}), (327, {'coords': [-36.102, 22.668, 0.0], 'name': 'NA', 'area': 'NA'}), (328, {'coords': [-34.903, 22.668, 0.0], 'name': 'NA', 'area': 'NA'}), (329, {'coords': [-29.762, 22.668, 0.0], 'name': 'NA', 'area': 'NA'}), (330, {'coords': [-28.563, 22.668, 0.0], 'name': 'NA', 'area': 'NA'}), (331, {'coords': [-25.393, 22.668, 0.0], 'name': 'NA', 'area': 'NA'}), (332, {'coords': [-24.308, 26.323, 0.0], 'name': 'NA', 'area': 'NA'}), (333, {'coords': [-9.352, 26.597, 0.0], 'name': 'NA', 'area': 'NA'}), (334, {'coords': [-9.352, 25.398, 0.0], 'name': 'NA', 'area': 'NA'}), (335, {'coords': [-8.137, 27.582, 0.0], 'name': 'NA', 'area': 'NA'}), (336, {'coords': [-3.732, 26.581, 0.0], 'name': 'NA', 'area': 'NA'}), (337, {'coords': [-3.732, 25.382, 0.0], 'name': 'NA', 'area': 'NA'}), (338, {'coords': [-2.517, 27.582, 0.0], 'name': 'NA', 'area': 'NA'}), (339, {'coords': [-1.898, 25.947, 0.0], 'name': 'NA', 'area': 'NA'}), (340, {'coords': [-3.112, 24.478, 0.0], 'name': 'NA', 'area': 'NA'}), (341, {'coords': [-7.518, 22.127, 0.0], 'name': 'NA', 'area': 'NA'}), (342, {'coords': [-7.518, 20.471, 0.0], 'name': 'NA', 'area': 'NA'}), (343, {'coords': [-5.361, 15.902, 0.0], 'name': 'NA', 'area': 'NA'}), (344, {'coords': [-1.832, 14.068, 0.0], 'name': 'NA', 'area': 'NA'}), (345, {'coords': [-4.388, 14.068, 0.0], 'name': 'NA', 'area': 'NA'}), (346, {'coords': [-5.587, 14.068, 0.0], 'name': 'NA', 'area': 'NA'}), (347, {'coords': [-6.518, 14.687, 0.0], 'name': 'NA', 'area': 'NA'}), (348, {'coords': [-16.618, 13.89, 0.0], 'name': 'NA', 'area': 'NA'}), (349, {'coords': [-17.768, 12.118, 0.0], 'name': 'NA', 'area': 'NA'}), (350, {'coords': [-9.352, 18.811, 0.0], 'name': 'NA', 'area': 'NA'}), (351, {'coords': [-9.352, 21.943, 0.0], 'name': 'NA', 'area': 'NA'}), (352, {'coords': [-17.768, 15.111, 0.0], 'name': 'NA', 'area': 'NA'}), (353, {'coords': [-17.768, 19.302, 0.0], 'name': 'NA', 'area': 'NA'}), (354, {'coords': [-19.892, 15.911, 0.0], 'name': 'NA', 'area': 'NA'}), (355, {'coords': [-22.229, 12.042, 0.0], 'name': 'NA', 'area': 'NA'}), (356, {'coords': [-23.468, 12.042, 0.0], 'name': 'NA', 'area': 'NA'}), (357, {'coords': [-22.448, 9.588, 0.0], 'name': 'NA', 'area': 'NA'}), (358, {'coords': [-20.892, 10.827, 0.0], 'name': 'NA', 'area': 'NA'}), (359, {'coords': [-23.663, 5.972, 0.0], 'name': 'NA', 'area': 'NA'}), (360, {'coords': [-27.028, 7.031, 0.0], 'name': 'NA', 'area': 'NA'}), (361, {'coords': [-23.612, 2.842, 0.0], 'name': 'NA', 'area': 'NA'}), (362, {'coords': [-22.413, 2.842, 0.0], 'name': 'NA', 'area': 'NA'}), (363, {'coords': [-38.317, 5.278, 0.0], 'name': 'NA', 'area': 'NA'}), (364, {'coords': [-39.883, 10.225, 0.0], 'name': 'NA', 'area': 'NA'}), (365, {'coords': [-38.079, 12.042, 0.0], 'name': 'NA', 'area': 'NA'}), (366, {'coords': [-35.392, 12.042, 0.0], 'name': 'NA', 'area': 'NA'}), (367, {'coords': [-41.092, 13.998, 0.0], 'name': 'NA', 'area': 'NA'}), (368, {'coords': [-38.658, 15.427, 0.0], 'name': 'NA', 'area': 'NA'}), (369, {'coords': [-40.492, 17.822, 0.0], 'name': 'NA', 'area': 'NA'}), (370, {'coords': [-31.532, 16.207, 0.0], 'name': 'NA', 'area': 'NA'}), (371, {'coords': [-31.532, 15.008, 0.0], 'name': 'NA', 'area': 'NA'}), (372, {'coords': [-32.112, 12.042, 0.0], 'name': 'NA', 'area': 'NA'}), (373, {'coords': [-30.913, 12.042, 0.0], 'name': 'NA', 'area': 'NA'}), (374, {'coords': [-39.873, 16.752, 0.0], 'name': 'NA', 'area': 'NA'}), (375, {'coords': [-46.153, 12.042, 0.0], 'name': 'NA', 'area': 'NA'}), (376, {'coords': [-48.128, 10.225, 0.0], 'name': 'NA', 'area': 'NA'}), (377, {'coords': [-46.213, 10.225, 0.0], 'name': 'NA', 'area': 'NA'}), (378, {'coords': [-47.388, 6.428, 0.0], 'name': 'NA', 'area': 'NA'}), (379, {'coords': [-26.142, 27.352, 0.0], 'name': 'NA', 'area': 'NA'}), (380, {'coords': [-24.908, 27.972, 0.0], 'name': 'NA', 'area': 'NA'}), (381, {'coords': [-39.769, 46.816, 4.57], 'name': 'NA', 'area': 'NA'}), (382, {'coords': [-37.603, 49.956, 4.57], 'name': 'NA', 'area': 'NA'}), (383, {'coords': [-39.022, 45.602, 4.57], 'name': 'NA', 'area': 'NA'}), (384, {'coords': [-43.538, 45.816, 4.57], 'name': 'NA', 'area': 'NA'}), (385, {'coords': [-41.468, 45.016, 4.57], 'name': 'NA', 'area': 'NA'}), (386, {'coords': [-25.432, 44.982, 4.57], 'name': 'NA', 'area': 'NA'}), (387, {'coords': [-27.708, 44.982, 4.57], 'name': 'NA', 'area': 'NA'}), (388, {'coords': [-27.122, 46.197, 4.57], 'name': 'NA', 'area': 'NA'}), (389, {'coords': [-23.372, 44.982, 4.57], 'name': 'NA', 'area': 'NA'}), (390, {'coords': [-20.848, 44.982, 4.57], 'name': 'NA', 'area': 'NA'}), (391, {'coords': [-18.678, 43.977, 4.57], 'name': 'NA', 'area': 'NA'}), (392, {'coords': [-2.349, 46.326, 4.57], 'name': 'NA', 'area': 'NA'}), (393, {'coords': [-4.208, 43.352, 4.57], 'name': 'NA', 'area': 'NA'}), (394, {'coords': [-2.689, 42.732, 4.57], 'name': 'NA', 'area': 'NA'}), (395, {'coords': [-8.192, 44.038, 4.57], 'name': 'NA', 'area': 'NA'}), (396, {'coords': [-10.442, 44.363, 4.57], 'name': 'NA', 'area': 'NA'}), (397, {'coords': [-12.478, 44.982, 4.57], 'name': 'NA', 'area': 'NA'}), (398, {'coords': [-10.943, 40.697, 4.57], 'name': 'NA', 'area': 'NA'}), (399, {'coords': [-4.208, 39.509, 4.57], 'name': 'NA', 'area': 'NA'}), (400, {'coords': [-4.828, 38.882, 4.57], 'name': 'NA', 'area': 'NA'}), (401, {'coords': [-21.233, 37.136, 4.57], 'name': 'NA', 'area': 'NA'}), (402, {'coords': [-31.548, 36.683, 4.57], 'name': 'NA', 'area': 'NA'}), (403, {'coords': [-34.778, 44.982, 4.57], 'name': 'NA', 'area': 'NA'}), (404, {'coords': [-33.382, 40.477, 4.57], 'name': 'NA', 'area': 'NA'}), (405, {'coords': [-42.939, 38.456, 4.57], 'name': 'NA', 'area': 'NA'}), (406, {'coords': [-32.763, 34.796, 4.57], 'name': 'NA', 'area': 'NA'}), (407, {'coords': [-43.668, 17.952, 4.57], 'name': 'NA', 'area': 'NA'}), (408, {'coords': [-32.763, 18.286, 4.57], 'name': 'NA', 'area': 'NA'}), (409, {'coords': [-33.382, 19.732, 4.57], 'name': 'NA', 'area': 'NA'}), (410, {'coords': [-27.003, 21.796, 4.57], 'name': 'NA', 'area': 'NA'}), (411, {'coords': [-24.753, 21.216, 4.57], 'name': 'NA', 'area': 'NA'}), (412, {'coords': [-24.133, 22.943, 4.57], 'name': 'NA', 'area': 'NA'}), (413, {'coords': [-24.133, 24.142, 4.57], 'name': 'NA', 'area': 'NA'}), (414, {'coords': [-24.133, 26.666, 4.57], 'name': 'NA', 'area': 'NA'}), (415, {'coords': [-19.273, 22.912, 4.57], 'name': 'NA', 'area': 'NA'}), (416, {'coords': [-16.768, 24.927, 4.57], 'name': 'NA', 'area': 'NA'}), (417, {'coords': [-12.948, 23.532, 4.57], 'name': 'NA', 'area': 'NA'}), (418, {'coords': [-12.393, 22.912, 4.57], 'name': 'NA', 'area': 'NA'}), (419, {'coords': [-11.772, 24.746, 4.57], 'name': 'NA', 'area': 'NA'}), (420, {'coords': [-9.808, 22.912, 4.57], 'name': 'NA', 'area': 'NA'}), (421, {'coords': [-8.609, 22.912, 4.57], 'name': 'NA', 'area': 'NA'}), (422, {'coords': [-7.271, 24.746, 4.57], 'name': 'NA', 'area': 'NA'}), (423, {'coords': [-6.072, 24.746, 4.57], 'name': 'NA', 'area': 'NA'}), (424, {'coords': [-5.262, 20.696, 4.57], 'name': 'NA', 'area': 'NA'}), (425, {'coords': [-4.048, 21.339, 4.57], 'name': 'NA', 'area': 'NA'}), (426, {'coords': [-3.428, 22.743, 4.57], 'name': 'NA', 'area': 'NA'}), (427, {'coords': [-3.232, 24.746, 4.57], 'name': 'NA', 'area': 'NA'}), (428, {'coords': [-1.748, 24.127, 4.57], 'name': 'NA', 'area': 'NA'}), (429, {'coords': [-3.428, 18.485, 4.57], 'name': 'NA', 'area': 'NA'}), (430, {'coords': [-5.262, 19.497, 4.57], 'name': 'NA', 'area': 'NA'}), (431, {'coords': [-3.428, 15.546, 4.57], 'name': 'NA', 'area': 'NA'}), (432, {'coords': [-5.262, 16.603, 4.57], 'name': 'NA', 'area': 'NA'}), (433, {'coords': [-2.402, 13.366, 4.57], 'name': 'NA', 'area': 'NA'}), (434, {'coords': [-2.957, 12.718, 4.57], 'name': 'NA', 'area': 'NA'}), (435, {'coords': [-4.259, 12.718, 4.57], 'name': 'NA', 'area': 'NA'}), (436, {'coords': [-9.709, 14.586, 4.57], 'name': 'NA', 'area': 'NA'}), (437, {'coords': [-12.233, 14.586, 4.57], 'name': 'NA', 'area': 'NA'}), (438, {'coords': [-13.432, 14.586, 4.57], 'name': 'NA', 'area': 'NA'}), (439, {'coords': [-17.768, 15.166, 4.57], 'name': 'NA', 'area': 'NA'}), (440, {'coords': [-17.768, 19.342, 4.57], 'name': 'NA', 'area': 'NA'}), (441, {'coords': [-43.048, 15.797, 4.57], 'name': 'NA', 'area': 'NA'}), (442, {'coords': [-43.668, 13.642, 4.57], 'name': 'NA', 'area': 'NA'}), (443, {'coords': [-40.429, 13.642, 4.57], 'name': 'NA', 'area': 'NA'}), (444, {'coords': [-37.663, 13.642, 4.57], 'name': 'NA', 'area': 'NA'}), (445, {'coords': [-32.027, 13.642, 4.57], 'name': 'NA', 'area': 'NA'}), (446, {'coords': [-29.497, 13.642, 4.57], 'name': 'NA', 'area': 'NA'}), (447, {'coords': [-28.298, 13.642, 4.57], 'name': 'NA', 'area': 'NA'}), (448, {'coords': [-19.892, 14.191, 4.57], 'name': 'NA', 'area': 'NA'}), (449, {'coords': [-16.768, 13.366, 4.57], 'name': 'NA', 'area': 'NA'}), (450, {'coords': [-17.768, 10.862, 4.57], 'name': 'NA', 'area': 'NA'}), (451, {'coords': [-8.978, 12.718, 4.57], 'name': 'NA', 'area': 'NA'}), (452, {'coords': [-7.779, 12.718, 4.57], 'name': 'NA', 'area': 'NA'}), (453, {'coords': [-14.258, 35.812, 4.57], 'name': 'NA', 'area': 'NA'}), (454, {'coords': [-18.627, 37.136, 4.57], 'name': 'NA', 'area': 'NA'}), (455, {'coords': [-26.002, 14.262, 4.57], 'name': 'NA', 'area': 'NA'}), (456, {'coords': [-36.985, -0.247, 0.0], 'name': 'NA', 'area': 'NA'}), (457, {'coords': [-19.892, 17.831, 0.0], 'name': 'NA', 'area': 'NA'}), (458, {'coords': [-20.228, 26.53, 0.0], 'name': 'NA', 'area': 'NA'}), (459, {'coords': [-31.587, 48.088, 0.0], 'name': 'NA', 'area': 'NA'}), (460, {'coords': [-26.142, 36.037, 0.0], 'name': 'NA', 'area': 'NA'}), (461, {'coords': [-39.873, 24.996, 0.0], 'name': 'NA', 'area': 'NA'}), (462, {'coords': [-47.247, 31.729, 4.57], 'name': 'NA', 'area': 'NA'}), (463, {'coords': [-25.838, 16.017, 0.0], 'name': 'NA', 'area': 'NA'}), (464, {'coords': [-40.475, 41.487, 0.0], 'name': 'NA', 'area': 'NA'}), (465, {'coords': [-40.475, 37.521, 0.0], 'name': 'NA', 'area': 'NA'}), (466, {'coords': [-47.788, 34.842, 0.0], 'name': 'NA', 'area': 'NA'}), (467, {'coords': [-40.475, 48.512, 0.0], 'name': 'NA', 'area': 'NA'}), (468, {'coords': [-43.848, 28.548, 0.0], 'name': 'NA', 'area': 'NA'}), (469, {'coords': [-42.669, 28.548, 0.0], 'name': 'NA', 'area': 'NA'}), (470, {'coords': [-34.152, 24.502, 0.0], 'name': 'NA', 'area': 'NA'}), (471, {'coords': [-32.953, 24.502, 0.0], 'name': 'NA', 'area': 'NA'}), (472, {'coords': [-27.811, 24.502, 0.0], 'name': 'NA', 'area': 'NA'}), (473, {'coords': [-8.137, 12.718, 0.0], 'name': 'NA', 'area': 'NA'}), (474, {'coords': [-10.852, 12.718, 0.0], 'name': 'NA', 'area': 'NA'}), (475, {'coords': [-19.273, 25.745, 0.0], 'name': 'NA', 'area': 'NA'}), (476, {'coords': [-41.978, 7.117, 0.0], 'name': 'NA', 'area': 'NA'}), (477, {'coords': [-45.012, 46.816, 4.57], 'name': 'NA', 'area': 'NA'}), (478, {'coords': [-35.508, 46.816, 4.57], 'name': 'NA', 'area': 'NA'}), (479, {'coords': [-32.098, 46.816, 4.57], 'name': 'NA', 'area': 'NA'}), (480, {'coords': [-28.688, 46.816, 4.57], 'name': 'NA', 'area': 'NA'}), (481, {'coords': [-25.378, 46.816, 4.57], 'name': 'NA', 'area': 'NA'}), (482, {'coords': [-31.548, 43.663, 4.57], 'name': 'NA', 'area': 'NA'}), (483, {'coords': [-21.213, 38.576, 4.57], 'name': 'NA', 'area': 'NA'}), (484, {'coords': [-42.469, 18.286, 4.57], 'name': 'NA', 'area': 'NA'}), (485, {'coords': [-37.782, 18.286, 4.57], 'name': 'NA', 'area': 'NA'}), (486, {'coords': [-36.123, 18.286, 4.57], 'name': 'NA', 'area': 'NA'}), (487, {'coords': [-20.848, 19.382, 4.57], 'name': 'NA', 'area': 'NA'}), (488, {'coords': [-24.983, 19.382, 4.57], 'name': 'NA', 'area': 'NA'}), (489, {'coords': [-40.475, 40.275, 0.0], 'name': 'NA', 'area': 'NA'}), (490, {'coords': [-39.378, 55.421, 0.0], 'name': 'NA', 'area': 'NA'}), (491, {'coords': [-41.907, 1.812, 0.0], 'name': 'NA', 'area': 'NA'}), (492, {'coords': [-41.907, 3.151, 0.0], 'name': 'NA', 'area': 'NA'}), (493, {'coords': [-51.183, 11.482, 0.0], 'name': 'NA', 'area': 'NA'}), (494, {'coords': [-43.035, 5.786, 0.0], 'name': 'NA', 'area': 'NA'}), (495, {'coords': [-43.951, 0.524, 0.0], 'name': 'NA', 'area': 'NA'}), (496, {'coords': [-52.147, 13.985, 0.0], 'name': 'NA', 'area': 'NA'}), (497, {'coords': [-52.147, 16.805, 0.0], 'name': 'NA', 'area': 'NA'}), (498, {'coords': [-18.688, 49.976, 0.0], 'name': 'NA', 'area': 'NA'}), (499, {'coords': [-3.538, 49.976, 0.0], 'name': 'NA', 'area': 'NA'}), (500, {'coords': [-27.688, 38.922, 4.57], 'name': 'NA', 'area': 'NA'}), (501, {'coords': [-30.989, 38.922, 4.57], 'name': 'NA', 'area': 'NA'})]\n",
      "[(0, 271, {}), (0, 335, {}), (0, 338, {}), (1, 302, {}), (1, 314, {}), (1, 315, {}), (1, 316, {}), (1, 320, {}), (1, 321, {}), (1, 322, {}), (1, 324, {}), (1, 380, {}), (1, 466, {}), (1, 468, {}), (1, 469, {}), (2, 462, {}), (3, 355, {}), (3, 356, {}), (3, 358, {}), (3, 364, {}), (3, 365, {}), (3, 366, {}), (3, 372, {}), (3, 373, {}), (3, 375, {}), (3, 376, {}), (3, 377, {}), (3, 493, {}), (5, 268, {}), (5, 405, {}), (5, 462, {}), (6, 391, {}), (6, 397, {}), (7, 272, {}), (7, 333, {}), (7, 334, {}), (7, 335, {}), (7, 341, {}), (7, 342, {}), (7, 347, {}), (7, 350, {}), (7, 351, {}), (7, 473, {}), (8, 408, {}), (8, 441, {}), (8, 443, {}), (8, 444, {}), (8, 445, {}), (8, 446, {}), (8, 447, {}), (8, 455, {}), (8, 484, {}), (8, 485, {}), (8, 486, {}), (9, 282, {}), (9, 284, {}), (9, 285, {}), (9, 286, {}), (9, 287, {}), (9, 459, {}), (9, 467, {}), (10, 265, {}), (10, 290, {}), (10, 291, {}), (10, 297, {}), (11, 303, {}), (11, 304, {}), (11, 306, {}), (11, 307, {}), (11, 308, {}), (11, 309, {}), (11, 311, {}), (11, 312, {}), (11, 313, {}), (12, 274, {}), (12, 275, {}), (12, 276, {}), (12, 278, {}), (12, 317, {}), (12, 318, {}), (12, 319, {}), (13, 340, {}), (13, 343, {}), (13, 344, {}), (13, 345, {}), (13, 346, {}), (13, 347, {}), (14, 348, {}), (14, 349, {}), (14, 352, {}), (14, 353, {}), (14, 354, {}), (14, 358, {}), (14, 457, {}), (14, 475, {}), (15, 433, {}), (15, 434, {}), (15, 435, {}), (15, 436, {}), (15, 437, {}), (15, 438, {}), (15, 449, {}), (15, 451, {}), (15, 452, {}), (16, 417, {}), (16, 418, {}), (16, 419, {}), (16, 420, {}), (16, 421, {}), (16, 422, {}), (16, 423, {}), (16, 425, {}), (16, 426, {}), (16, 427, {}), (16, 428, {}), (17, 360, {}), (17, 363, {}), (17, 456, {}), (18, 453, {}), (18, 454, {}), (19, 264, {}), (19, 277, {}), (19, 278, {}), (19, 279, {}), (19, 490, {}), (20, 317, {}), (20, 464, {}), (21, 327, {}), (21, 328, {}), (21, 329, {}), (21, 330, {}), (21, 331, {}), (21, 470, {}), (21, 471, {}), (21, 472, {}), (22, 415, {}), (22, 439, {}), (22, 440, {}), (22, 448, {}), (22, 449, {}), (22, 450, {}), (23, 376, {}), (23, 378, {}), (24, 397, {}), (24, 398, {}), (24, 453, {}), (25, 387, {}), (25, 388, {}), (25, 403, {}), (25, 478, {}), (25, 479, {}), (25, 480, {}), (26, 271, {}), (26, 292, {}), (26, 293, {}), (26, 294, {}), (26, 295, {}), (26, 296, {}), (26, 499, {}), (27, 268, {}), (27, 406, {}), (27, 408, {}), (27, 409, {}), (28, 287, {}), (28, 288, {}), (28, 289, {}), (28, 299, {}), (28, 300, {}), (28, 498, {}), (29, 326, {}), (30, 325, {}), (30, 326, {}), (30, 369, {}), (30, 374, {}), (30, 461, {}), (31, 386, {}), (31, 388, {}), (31, 389, {}), (31, 390, {}), (31, 481, {}), (32, 384, {}), (32, 477, {}), (33, 393, {}), (33, 399, {}), (33, 400, {}), (34, 387, {}), (34, 500, {}), (35, 314, {}), (35, 464, {}), (35, 465, {}), (35, 489, {}), (36, 402, {}), (36, 404, {}), (36, 406, {}), (36, 482, {}), (37, 370, {}), (37, 371, {}), (37, 373, {}), (37, 463, {}), (38, 267, {}), (38, 382, {}), (38, 383, {}), (40, 482, {}), (40, 501, {}), (42, 286, {}), (43, 336, {}), (44, 333, {}), (45, 389, {}), (46, 410, {}), (46, 411, {}), (46, 412, {}), (46, 413, {}), (46, 414, {}), (47, 424, {}), (47, 425, {}), (47, 429, {}), (47, 430, {}), (47, 431, {}), (47, 432, {}), (48, 320, {}), (48, 321, {}), (49, 266, {}), (49, 300, {}), (50, 264, {}), (50, 134, {}), (50, 279, {}), (51, 391, {}), (51, 401, {}), (51, 454, {}), (51, 483, {}), (52, 399, {}), (53, 381, {}), (53, 383, {}), (53, 384, {}), (53, 385, {}), (54, 411, {}), (54, 487, {}), (54, 488, {}), (55, 400, {}), (56, 332, {}), (56, 458, {}), (57, 265, {}), (58, 267, {}), (59, 280, {}), (60, 497, {}), (61, 377, {}), (62, 364, {}), (63, 476, {}), (63, 494, {}), (64, 442, {}), (65, 430, {}), (66, 346, {}), (67, 395, {}), (68, 395, {}), (68, 396, {}), (69, 265, {}), (69, 298, {}), (69, 299, {}), (70, 402, {}), (71, 309, {}), (73, 292, {}), (74, 301, {}), (74, 302, {}), (74, 460, {}), (75, 332, {}), (75, 379, {}), (75, 380, {}), (76, 336, {}), (76, 337, {}), (76, 338, {}), (76, 339, {}), (76, 340, {}), (77, 350, {}), (78, 407, {}), (78, 441, {}), (78, 442, {}), (79, 443, {}), (80, 426, {}), (82, 452, {}), (84, 368, {}), (85, 306, {}), (86, 328, {}), (87, 465, {}), (88, 339, {}), (89, 266, {}), (89, 297, {}), (90, 270, {}), (90, 280, {}), (90, 281, {}), (90, 283, {}), (91, 284, {}), (92, 285, {}), (93, 466, {}), (94, 322, {}), (95, 370, {}), (96, 378, {}), (97, 359, {}), (97, 361, {}), (97, 362, {}), (98, 367, {}), (98, 369, {}), (99, 269, {}), (99, 348, {}), (99, 474, {}), (100, 337, {}), (101, 385, {}), (102, 448, {}), (102, 455, {}), (103, 487, {}), (103, 488, {}), (104, 301, {}), (105, 303, {}), (105, 305, {}), (106, 331, {}), (107, 470, {}), (108, 477, {}), (110, 289, {}), (111, 288, {}), (112, 273, {}), (113, 281, {}), (114, 270, {}), (115, 460, {}), (116, 310, {}), (116, 311, {}), (117, 315, {}), (118, 469, {}), (119, 324, {}), (119, 471, {}), (120, 379, {}), (121, 275, {}), (122, 491, {}), (123, 360, {}), (124, 357, {}), (125, 351, {}), (126, 394, {}), (127, 414, {}), (128, 410, {}), (129, 415, {}), (129, 416, {}), (130, 416, {}), (130, 417, {}), (131, 418, {}), (132, 439, {}), (133, 438, {}), (134, 382, {}), (137, 304, {}), (137, 305, {}), (138, 308, {}), (139, 330, {}), (140, 481, {}), (145, 401, {}), (147, 296, {}), (148, 295, {}), (149, 293, {}), (151, 282, {}), (153, 316, {}), (154, 323, {}), (155, 467, {}), (156, 368, {}), (156, 374, {}), (157, 272, {}), (158, 349, {}), (158, 236, {}), (159, 392, {}), (159, 393, {}), (159, 394, {}), (160, 386, {}), (161, 381, {}), (162, 409, {}), (162, 486, {}), (163, 407, {}), (164, 444, {}), (165, 445, {}), (166, 432, {}), (168, 476, {}), (169, 403, {}), (170, 312, {}), (171, 479, {}), (173, 277, {}), (174, 298, {}), (175, 343, {}), (176, 483, {}), (177, 433, {}), (178, 323, {}), (178, 461, {}), (179, 318, {}), (180, 274, {}), (181, 264, {}), (182, 355, {}), (183, 457, {}), (184, 463, {}), (185, 371, {}), (185, 372, {}), (186, 375, {}), (187, 495, {}), (188, 362, {}), (189, 342, {}), (190, 269, {}), (191, 353, {}), (192, 352, {}), (193, 266, {}), (193, 263, {}), (195, 396, {}), (196, 478, {}), (197, 484, {}), (198, 273, {}), (199, 446, {}), (200, 447, {}), (201, 420, {}), (202, 440, {}), (203, 434, {}), (204, 456, {}), (206, 436, {}), (207, 313, {}), (208, 307, {}), (209, 327, {}), (210, 329, {}), (211, 472, {}), (212, 365, {}), (213, 367, {}), (214, 424, {}), (215, 294, {}), (216, 290, {}), (217, 283, {}), (218, 489, {}), (219, 468, {}), (220, 276, {}), (221, 361, {}), (222, 357, {}), (222, 359, {}), (223, 473, {}), (224, 334, {}), (225, 474, {}), (226, 398, {}), (227, 392, {}), (228, 405, {}), (229, 404, {}), (230, 485, {}), (231, 422, {}), (232, 437, {}), (233, 451, {}), (234, 431, {}), (235, 429, {}), (236, 449, {}), (236, 450, {}), (237, 356, {}), (238, 480, {}), (239, 310, {}), (240, 341, {}), (241, 366, {}), (242, 325, {}), (243, 421, {}), (244, 291, {}), (246, 459, {}), (247, 319, {}), (248, 354, {}), (249, 492, {}), (250, 363, {}), (251, 344, {}), (252, 345, {}), (253, 496, {}), (254, 390, {}), (255, 412, {}), (256, 413, {}), (257, 428, {}), (258, 419, {}), (259, 435, {}), (263, 454, {})]\n"
     ]
    }
   ],
   "source": [
    "nx.set_node_attributes(G_new,new_arrt)\n",
    "print(G_new.nodes(data=True))\n",
    "print(G_new.edges(data=True))"
   ]
  },
  {
   "cell_type": "markdown",
   "metadata": {},
   "source": [
    "### Load the hospital hierarchical structure from the HCM"
   ]
  },
  {
   "cell_type": "code",
   "execution_count": 762,
   "metadata": {},
   "outputs": [
    {
     "data": {
      "text/plain": [
       "{'Department$A': ['CENTRALWAITING1AC1',\n",
       "  'CORRIDOR2AC3',\n",
       "  'PHARM.DISP.1A16',\n",
       "  'CORRIDOR2AC1',\n",
       "  'DENTALWAITING2A11',\n",
       "  'CORRIDOR1AC5',\n",
       "  'CORRIDOR1AC3',\n",
       "  'CORRIDOR2AC4',\n",
       "  'RMOANALYST1A02',\n",
       "  'CORRIDOR1AC2',\n",
       "  'CORRIDOR2AC2',\n",
       "  'LIBRARY/CONF.ROOM2A01',\n",
       "  'ADMIN2A14',\n",
       "  'LOUNGE1A10',\n",
       "  'DEVELOPING2A13',\n",
       "  'X-RAY2A12',\n",
       "  'CORRIDOR1AC4',\n",
       "  'OHDTR#12A05',\n",
       "  'TRICAREOFFICE1A07',\n",
       "  'COUNSELING1A15',\n",
       "  'M.TOILET1A12',\n",
       "  'W.TOILET1A09',\n",
       "  'SUPEROFFICE2A02',\n",
       "  'GEN.DENT.DTR#52A09',\n",
       "  'GEN.DENT.DTR#42A08',\n",
       "  'OHDTR#22A06',\n",
       "  'PATIENTADMIN.RECEPT.1A01',\n",
       "  'TRICAREOFFICE1A03',\n",
       "  'TRICAREOFFICE1A05',\n",
       "  'TRICAREOFFICE1A06',\n",
       "  'SEC.OFFICE2A03',\n",
       "  'OHDTR#32A07',\n",
       "  'STAFFTOILET1A13',\n",
       "  'STAIR1AS1',\n",
       "  'DENTALWAITING2A10',\n",
       "  'TRICAREOFFICE1A04',\n",
       "  'PHARM.OFFICE1A08',\n",
       "  'CORRIDOR2AC5',\n",
       "  'DENTALSURGEONOFFICE2A04',\n",
       "  'JAN.1A11',\n",
       "  'SUPER/NCOIC1A14',\n",
       "  'STAIR2AS1',\n",
       "  'OPENTOBELOW2AC1-B',\n",
       "  'X-RAYALCOVE2A12-A'],\n",
       " 'Department$D': ['WAITING/ACTIVITYAREA1DC1',\n",
       "  'MAINMECHANICALROOM2D05',\n",
       "  'TECH.OFFICE2D18',\n",
       "  'CORRIDOR1DC3',\n",
       "  'PROVIDERCUBICLES1D16',\n",
       "  'CORRIDOR1DC7',\n",
       "  'CORRIDOR2DC2',\n",
       "  'PROVIDERCUBICLES1D25',\n",
       "  'CORRIDOR1DC6',\n",
       "  'CORRIDOR1DC4',\n",
       "  'SYS.ANALYST2D04',\n",
       "  'TEAMINTERACTION1D22',\n",
       "  'CORRIDOR2DC1',\n",
       "  \"IMMUNIZ'NROOM1D40\",\n",
       "  'CMDROFFICE2D11',\n",
       "  'INTERACTIONSTATION1D11',\n",
       "  'CORRIDOR1DC2',\n",
       "  'CORRIDOR1DC8',\n",
       "  'SEC.WAIT2D10',\n",
       "  'RMODIR.2D16',\n",
       "  'INTERACTIONSTATION1D07',\n",
       "  'INTERACTIONSTATION1D32',\n",
       "  'TOILET1D18',\n",
       "  'GROUPIS1D21',\n",
       "  'GROUPIS1D23',\n",
       "  'CONF.ROOM2D20',\n",
       "  'LIBRARY/CLASSROOM2D21',\n",
       "  'INTERACTIONSTATION1D02',\n",
       "  'TRMTRM.DIRTYPROC.1D05',\n",
       "  'TRMTROOM1D38',\n",
       "  'PEDIATRICWTSandMSRS1D31',\n",
       "  'TOILET2D13',\n",
       "  'SL.LIN./TRASH1D01',\n",
       "  'SPECIMENCOLL.LAB1D12',\n",
       "  'MDISVIEW1D19',\n",
       "  'ADMINWORKSTATN.1D27',\n",
       "  'PEDIATRICWAITING1D33',\n",
       "  'JAN.CL.1D39',\n",
       "  'DIR.INFOMGR2D03',\n",
       "  'SCOPEWASH/DECON.1D06',\n",
       "  'INTERACTIONSTATION1D13',\n",
       "  'INTERACTIONSTATION1D36',\n",
       "  'WTSandMEAS.ROOM1D15',\n",
       "  'APPMTS1D20',\n",
       "  'WTSandMEAS.ROOM1D30',\n",
       "  'COPY/FILE2D06',\n",
       "  'ADMINOFFICE2D09',\n",
       "  'OPSSQUADCMDR2D14',\n",
       "  '1STSGT2D15',\n",
       "  'INTERACTIONSTATION1D10',\n",
       "  'CORRIDOR1DC5',\n",
       "  'QA/HRDDIRECTOR2D08',\n",
       "  'VEST.2D12',\n",
       "  'CREDENTIALSMGR2D17',\n",
       "  'READINESSNCOICOFFICE2D19',\n",
       "  'INTERACTIONSTATION1D08',\n",
       "  'INTERACTIONSTATION1D09',\n",
       "  'INTERACTIONSTATION1D28',\n",
       "  'INTERACTIONSTATION1D34',\n",
       "  'INTERACTIONSTATION1D35',\n",
       "  'JAN.CL.1D17',\n",
       "  'RECORDS1D24',\n",
       "  'SUPER2D07',\n",
       "  'SPECIMENTOILET1D14',\n",
       "  'TOILET1D26',\n",
       "  'PARTSSTORAGE2D01',\n",
       "  'DATA/ARCHIVESTORAGE2D02',\n",
       "  'TOILET1D04',\n",
       "  'CLEANU.1D03',\n",
       "  'CLEANU.1D37',\n",
       "  'COMPUTERROOM2D04A'],\n",
       " 'Department$R': ['ROOF2R02',\n",
       "  'ROOF3R01',\n",
       "  'ROOF2R01',\n",
       "  'ROOF3R02',\n",
       "  'ROOF3R04',\n",
       "  'ROOF3R03',\n",
       "  'ELEVATORE1'],\n",
       " 'Department$E': ['CORRIDOR1EC1',\n",
       "  'RECEIVING/STORAGE1E24',\n",
       "  'BMETWORKSTATION1E16',\n",
       "  'TECH.WORKSTATION1E06',\n",
       "  'CENTRALMECH.RM.1E15',\n",
       "  'ELEC.ROOM1E19',\n",
       "  'BEEEQUIP.STORAGE1E23',\n",
       "  'CORRIDOR1EC4',\n",
       "  'STAFFLOUNGE1E11',\n",
       "  'SUPER1E08',\n",
       "  'BIOMEDMAINT.ADMIN.1E18',\n",
       "  'WORKROOM1E26',\n",
       "  'ISOLATIONINTERACTIONSTATION1E33',\n",
       "  'TRASH1E20',\n",
       "  'ADPEQUIPSPACE1E25',\n",
       "  'HK.SUPV.OFFICE1E29',\n",
       "  'CORRIDOR1EC3',\n",
       "  'SOIL.LIN.1E30',\n",
       "  'HKEQUIP.STORAGE1E01',\n",
       "  'JAN.CL.1E03',\n",
       "  'CHIEFLOGOFFICE1E05',\n",
       "  'CONF.LIBRARY1E07',\n",
       "  'DISASTERSTOR.1E14',\n",
       "  'HAZ.STOR.1E17',\n",
       "  'FAC.MGR.OFFICE1E28',\n",
       "  'M.TOILET1E10',\n",
       "  'ISOLATIONTOILET1E12',\n",
       "  'BENCHSTOCKSTORAGE1E27',\n",
       "  'CORRIDOR1EC2',\n",
       "  'HKBREAKROOM1E04',\n",
       "  'W.TOILET1E09',\n",
       "  'ELEV.EQUIP.1E02',\n",
       "  'FLAMABLESTORAGE1E21',\n",
       "  'SEC.STORAGE1E22',\n",
       "  'GASSTORAGE1E15-A'],\n",
       " 'Department$B': ['CORRIDOR1BC2',\n",
       "  'LAB1B04',\n",
       "  'CORRIDOR1BC4',\n",
       "  'CORRIDOR2BC3',\n",
       "  'CORRIDOR2BC5',\n",
       "  'CORRIDOR2BC2',\n",
       "  'RECEPTION1B01',\n",
       "  'RECEPTION1B13',\n",
       "  'CORRIDOR2BC4',\n",
       "  'SOIL.UTL./TRASH2B25',\n",
       "  'STAFFLOUNGE1B10',\n",
       "  'CORRIDOR1BC1',\n",
       "  'RADIOGRAPHICROOM1B19',\n",
       "  'OFFICE2B01',\n",
       "  'WAITING2B11',\n",
       "  'PHTECH2B18',\n",
       "  'SPECIMENTOILET1B02',\n",
       "  'CORRIDOR1BC3',\n",
       "  'BLOODDRAW1B03',\n",
       "  'TECH.WORKROOM1B17',\n",
       "  'CORRIDOR2BC1',\n",
       "  'CORRIDOR2BC6',\n",
       "  'RECEPTION2B10',\n",
       "  'ELECTRICAL2B13',\n",
       "  'RECS/FORMSSTORAGE2B14',\n",
       "  'DRESS1B09',\n",
       "  'STAIR1BS2',\n",
       "  'OFFICE2B19',\n",
       "  'STAFFTOILET1B11',\n",
       "  'M.TOILET2B22',\n",
       "  'DRESS1B07',\n",
       "  'SOIL.UTL.1B14',\n",
       "  'COMM.ROOM1B21',\n",
       "  'ELEC.ROOM1B23',\n",
       "  'COMM.ROOM2B12',\n",
       "  'PHSUPER2B21',\n",
       "  'CL.UTL./KITCHENET2B17',\n",
       "  'CLEANSUP.andEQUIP.1B12',\n",
       "  'FILMVIEW1B15',\n",
       "  'JAN.CL.1B16',\n",
       "  'WAIT/ERGOM2B15',\n",
       "  'PHTECH2B16',\n",
       "  'BEETECH2B23',\n",
       "  'BEETECH2B24',\n",
       "  'STAIR2BS2',\n",
       "  'PAT./STAFFTOILET1B05',\n",
       "  'LABOFFICE1B06',\n",
       "  'CENT.STO.1B08',\n",
       "  'JAN.CL.2B20',\n",
       "  'OFFICE/EXAM2B8',\n",
       "  'W.TOILET2B5',\n",
       "  'TECHOFFICE2B7',\n",
       "  'STAFFTOILET2B6',\n",
       "  'JAN.CL.2B2',\n",
       "  'TECHOFFICE2B9'],\n",
       " 'Department$C': ['CORRIDOR1CC1',\n",
       "  'PHYSICALEXAM1C18',\n",
       "  'CORRIDOR1CC3',\n",
       "  'CORRIDOR2CC3',\n",
       "  'CORRIDOR2CC2',\n",
       "  'PROSTH.LAB2C17',\n",
       "  'M.STAFFTOILET2C07',\n",
       "  'CORRIDOR2CC1',\n",
       "  'CORRIDOR2CC4',\n",
       "  'W.STAFFTOILET2C08',\n",
       "  'OPT.EXAM/OFF.1C07',\n",
       "  'CONSULT.2C03',\n",
       "  'STAIR1CS3',\n",
       "  'CORRIDOR2CC5',\n",
       "  'DIPCCLEAN2C12',\n",
       "  'FUNDUSCAMERAROOM1C09',\n",
       "  'LOUNGE2C22',\n",
       "  'CORRIDOR1CC2',\n",
       "  'RECEPTION1C02',\n",
       "  'OPT.EXAM/OFF.1C10',\n",
       "  'COMM.ROOM2C15',\n",
       "  'CERAMICLAB2C16',\n",
       "  'GEN.DENT.DTR#102C14',\n",
       "  'VISUALFIELD1C05',\n",
       "  'SCREENEYETEST1C08',\n",
       "  'ECGTEST1C16',\n",
       "  'STAIR2CS3',\n",
       "  'GEN.DENT.DTR#72C04',\n",
       "  'GEN.DENT.DTR#62C02',\n",
       "  'M.TOILET2C23',\n",
       "  'WAITING1C01',\n",
       "  'FITTING/DISP.1C04',\n",
       "  'COMM.ROOM1C13',\n",
       "  'JAN.CL.2C05',\n",
       "  'TRASH2C13',\n",
       "  'DIPCDECON2C10',\n",
       "  'GEN.DENT.DTR#92C09',\n",
       "  'TOILET1C12',\n",
       "  'W.TOILET2C24',\n",
       "  'CHIEFAEROMED.1C17',\n",
       "  'AUDIO1C19',\n",
       "  'ELEC.CL.1C11',\n",
       "  'HK2C11',\n",
       "  'SOIL.UTL./TRASH1C06',\n",
       "  'HIST./INTV.1C14',\n",
       "  'ELECTRICAL2C18',\n",
       "  'CENTRALISSUE2C19',\n",
       "  'GEN.DENT.DTR#82C06',\n",
       "  'JAN.CL.1C03',\n",
       "  'PESADMIN.OFFICE1C15',\n",
       "  'DTRSUPPORT2C01'],\n",
       " 'Department$F': ['MECH.YARD1F01']}"
      ]
     },
     "execution_count": 762,
     "metadata": {},
     "output_type": "execute_result"
    }
   ],
   "source": [
    "with open('C:/Users/SID-DRW/OneDrive - Delft University of Technology/Documents/GitHub/HDES/Data/departments.json', 'r') as json_file:\n",
    "    hospital_depatments = json.load(json_file)\n",
    "\n",
    "\n",
    "hospital_depatments"
   ]
  },
  {
   "cell_type": "markdown",
   "metadata": {},
   "source": [
    "# Four-Step Travel Model "
   ]
  },
  {
   "cell_type": "markdown",
   "metadata": {},
   "source": [
    "## Steps 1 & 2: trip generation and trip distribution"
   ]
  },
  {
   "cell_type": "markdown",
   "metadata": {},
   "source": [
    "### The aim of the first two steps of Four-Step Travel Model (i.e., trip generation and trip distribution) are for determining the number of individuals arriving at each part of the hospital (nodes) and where they need to go, and identifying the flow of people moving between various locations within the hospital, respectively. For this research, we already have data available for these two aims (Source: [Improving the performance of hospitals](https://journals.open.tudelft.nl/abe/article/view/6428)). Hence, we will use the available data directly and skip the first two steps."
   ]
  },
  {
   "cell_type": "markdown",
   "metadata": {},
   "source": [
    "## Step 3: Mode Choice"
   ]
  },
  {
   "cell_type": "markdown",
   "metadata": {},
   "source": [
    "### The third step of Four-Step Travel Model (mode choice) is for determining people's travel modes. In this research, we assume all patients' travel mode in the hospital is walking."
   ]
  },
  {
   "cell_type": "markdown",
   "metadata": {},
   "source": [
    "## Step 4: Route Assignment"
   ]
  },
  {
   "cell_type": "markdown",
   "metadata": {},
   "source": [
    "### In this step, we determine the patient paths based on shortest distance."
   ]
  },
  {
   "cell_type": "markdown",
   "metadata": {},
   "source": [
    "### Original patient trip data. Source: [Improving the performance of hospitals](https://journals.open.tudelft.nl/abe/article/view/6428)"
   ]
  },
  {
   "cell_type": "code",
   "execution_count": 763,
   "metadata": {},
   "outputs": [],
   "source": [
    "origianl_medical_path_1 = ['registration','triage','waiting','diaganosis','medicine']\n",
    "origianl_medical_path_2 = ['registration','triage','waiting','diaganosis','waiting','clinical-checkups','medicine']\n",
    "origianl_medical_path_3 = ['registration','triage','waiting','diaganosis','waiting','imaging','medicine']\n",
    "\n",
    "original_pediatric_path_1 = ['registration','triage','waiting','diaganosis','medicine']\n",
    "original_pediatric_path_1 = ['registration','triage','waiting','diaganosis','waiting','clinical-checkups','medicine']\n",
    "original_pediatric_path_1 = ['registration','triage','waiting','diaganosis','waiting','imaging','medicine']\n"
   ]
  },
  {
   "cell_type": "markdown",
   "metadata": {},
   "source": [
    "### According to each 'station' in the original patient trip, find the corresponding room in the hosptial structure data."
   ]
  },
  {
   "cell_type": "code",
   "execution_count": 776,
   "metadata": {},
   "outputs": [
    {
     "name": "stdout",
     "output_type": "stream",
     "text": [
      "['RECEPTION1B01', 'RECEPTION1B13', 'RECEPTION2B10', 'RECEPTION1C02']\n"
     ]
    }
   ],
   "source": [
    "# finding registration\n",
    "def get_recptions(hospital_depatments):\n",
    "     \n",
    "    recptions = []\n",
    "\n",
    "    for department, rooms in hospital_depatments.items():\n",
    "        for room in rooms:\n",
    "            if \"RECEPTION\" in room:\n",
    "                    recptions.append(room)\n",
    "\n",
    "    return recptions\n",
    "\n",
    "recptions = get_recptions(hospital_depatments)\n",
    "print(recptions)"
   ]
  },
  {
   "cell_type": "code",
   "execution_count": 765,
   "metadata": {},
   "outputs": [
    {
     "name": "stdout",
     "output_type": "stream",
     "text": [
      "['PEDIATRICWTSandMSRS1D31', 'WTSandMEAS.ROOM1D15', 'WTSandMEAS.ROOM1D30']\n"
     ]
    }
   ],
   "source": [
    "# finding triage\n",
    "def get_triage_rooms(hospital_depatments):\n",
    "     \n",
    "    triage_rooms = []\n",
    "\n",
    "    for department, rooms in hospital_depatments.items():\n",
    "        for room in rooms:\n",
    "            if \"WTS\" in room:\n",
    "                    triage_rooms.append(room)\n",
    "\n",
    "    return triage_rooms\n",
    "\n",
    "triage_rooms = get_triage_rooms(hospital_depatments)\n",
    "print(triage_rooms)"
   ]
  },
  {
   "cell_type": "code",
   "execution_count": 766,
   "metadata": {},
   "outputs": [
    {
     "name": "stdout",
     "output_type": "stream",
     "text": [
      "['CENTRALWAITING1AC1', 'DENTALWAITING2A11', 'DENTALWAITING2A10', 'WAITING/ACTIVITYAREA1DC1', 'PEDIATRICWAITING1D33', 'WAITING2B11', 'WAITING1C01']\n"
     ]
    }
   ],
   "source": [
    "# finding waiting area\n",
    "def get_waiting_area(hospital_depatments):\n",
    "     \n",
    "    waiting_areas = []\n",
    "\n",
    "    for department, rooms in hospital_depatments.items():\n",
    "        for room in rooms:\n",
    "            if \"WAITING\" in room:\n",
    "                    waiting_areas.append(room)\n",
    "\n",
    "    return waiting_areas\n",
    "\n",
    "waiting_areas = get_waiting_area(hospital_depatments)\n",
    "print(waiting_areas)"
   ]
  },
  {
   "cell_type": "code",
   "execution_count": 767,
   "metadata": {},
   "outputs": [
    {
     "name": "stdout",
     "output_type": "stream",
     "text": [
      "['INTERACTIONSTATION1D11', 'INTERACTIONSTATION1D07', 'INTERACTIONSTATION1D32', 'INTERACTIONSTATION1D02', 'INTERACTIONSTATION1D13', 'INTERACTIONSTATION1D36', 'INTERACTIONSTATION1D10', 'INTERACTIONSTATION1D08', 'INTERACTIONSTATION1D09', 'INTERACTIONSTATION1D28', 'INTERACTIONSTATION1D34', 'INTERACTIONSTATION1D35']\n",
      "12\n"
     ]
    }
   ],
   "source": [
    "# finding diagnosis rooms(interaction stations)\n",
    "def get_interaction_rooms(hospital_depatments):\n",
    "\n",
    "    interaction_stations = []\n",
    "\n",
    "    # Iterate through each department and each value\n",
    "    for department, values in hospital_depatments.items():\n",
    "        for value in values:\n",
    "            if value.startswith(\"INTERACTIONSTATION\"):\n",
    "                interaction_stations.append(value)\n",
    "\n",
    "    return interaction_stations\n",
    "\n",
    "interaction_stations = get_interaction_rooms(hospital_depatments)\n",
    "print(interaction_stations)\n",
    "print(len(interaction_stations))"
   ]
  },
  {
   "cell_type": "code",
   "execution_count": 768,
   "metadata": {},
   "outputs": [
    {
     "name": "stdout",
     "output_type": "stream",
     "text": [
      "['BLOODDRAW1B03']\n"
     ]
    }
   ],
   "source": [
    "# finding clinical-checkup\n",
    "def get_clinical_checkup(hospital_depatments):\n",
    "     \n",
    "    clinical_checkups = []\n",
    "\n",
    "    for department, rooms in hospital_depatments.items():\n",
    "        for room in rooms:\n",
    "            if \"BLOODDRAW\" in room:\n",
    "                    clinical_checkups.append(room)\n",
    "\n",
    "    return clinical_checkups\n",
    "\n",
    "clinical_checkups = get_clinical_checkup(hospital_depatments)\n",
    "print(clinical_checkups)"
   ]
  },
  {
   "cell_type": "code",
   "execution_count": 769,
   "metadata": {},
   "outputs": [
    {
     "name": "stdout",
     "output_type": "stream",
     "text": [
      "['RADIOGRAPHICROOM1B19']\n"
     ]
    }
   ],
   "source": [
    "# find imaging room\n",
    "def get_imaging(hospital_depatments):\n",
    "     \n",
    "    imagings = []\n",
    "\n",
    "    for department, rooms in hospital_depatments.items():\n",
    "        for room in rooms:\n",
    "            if \"RADIO\" in room:\n",
    "                    imagings.append(room)\n",
    "\n",
    "    return imagings\n",
    "\n",
    "imagings = get_imaging(hospital_depatments)\n",
    "print(imagings)"
   ]
  },
  {
   "cell_type": "code",
   "execution_count": 770,
   "metadata": {},
   "outputs": [
    {
     "name": "stdout",
     "output_type": "stream",
     "text": [
      "['PHARM.DISP.1A16', 'PHARM.OFFICE1A08']\n"
     ]
    }
   ],
   "source": [
    "# finding pharmacy\n",
    "\n",
    "def get_pharmacy(hospital_depatments):\n",
    "     \n",
    "    pharmacies = []\n",
    "\n",
    "    for department, rooms in hospital_depatments.items():\n",
    "        for room in rooms:\n",
    "            if \"PHARM\" in room:\n",
    "                    pharmacies.append(room)\n",
    "\n",
    "    return pharmacies\n",
    "\n",
    "pharmacies = get_pharmacy(hospital_depatments)\n",
    "print(pharmacies)"
   ]
  },
  {
   "cell_type": "markdown",
   "metadata": {},
   "source": [
    "### Each 'station' has multiple corresponding rooms, find the most appropriate one according to the Revit model and put them together to form the patient route."
   ]
  },
  {
   "cell_type": "code",
   "execution_count": 771,
   "metadata": {},
   "outputs": [
    {
     "name": "stdout",
     "output_type": "stream",
     "text": [
      "['RECEPTION1B13', 'WTSandMEAS.ROOM1D15', 'WTSandMEAS.ROOM1D30', 'WAITING/ACTIVITYAREA1DC1', 'INTERACTIONSTATION1D11', 'INTERACTIONSTATION1D07', 'INTERACTIONSTATION1D32', 'INTERACTIONSTATION1D02', 'INTERACTIONSTATION1D13', 'INTERACTIONSTATION1D36', 'INTERACTIONSTATION1D10', 'INTERACTIONSTATION1D08', 'INTERACTIONSTATION1D09', 'INTERACTIONSTATION1D28', 'INTERACTIONSTATION1D34', 'INTERACTIONSTATION1D35', 'PHARM.DISP.1A16']\n",
      "['RECEPTION1B13', 'WTSandMEAS.ROOM1D15', 'WTSandMEAS.ROOM1D30', 'WAITING/ACTIVITYAREA1DC1', 'INTERACTIONSTATION1D11', 'INTERACTIONSTATION1D07', 'INTERACTIONSTATION1D32', 'INTERACTIONSTATION1D02', 'INTERACTIONSTATION1D13', 'INTERACTIONSTATION1D36', 'INTERACTIONSTATION1D10', 'INTERACTIONSTATION1D08', 'INTERACTIONSTATION1D09', 'INTERACTIONSTATION1D28', 'INTERACTIONSTATION1D34', 'INTERACTIONSTATION1D35', 'CENTRALWAITING1AC1', 'BLOODDRAW1B03', 'PHARM.DISP.1A16']\n",
      "['RECEPTION1B13', 'WTSandMEAS.ROOM1D15', 'WTSandMEAS.ROOM1D30', 'WAITING/ACTIVITYAREA1DC1', 'INTERACTIONSTATION1D11', 'INTERACTIONSTATION1D07', 'INTERACTIONSTATION1D32', 'INTERACTIONSTATION1D02', 'INTERACTIONSTATION1D13', 'INTERACTIONSTATION1D36', 'INTERACTIONSTATION1D10', 'INTERACTIONSTATION1D08', 'INTERACTIONSTATION1D09', 'INTERACTIONSTATION1D28', 'INTERACTIONSTATION1D34', 'INTERACTIONSTATION1D35', 'CENTRALWAITING1AC1', 'RADIOGRAPHICROOM1B19', 'PHARM.DISP.1A16']\n",
      "['RECEPTION1B13', 'PEDIATRICWTSandMSRS1D31', 'PEDIATRICWAITING1D33', 'INTERACTIONSTATION1D11', 'INTERACTIONSTATION1D07', 'INTERACTIONSTATION1D32', 'INTERACTIONSTATION1D02', 'INTERACTIONSTATION1D13', 'INTERACTIONSTATION1D36', 'INTERACTIONSTATION1D10', 'INTERACTIONSTATION1D08', 'INTERACTIONSTATION1D09', 'INTERACTIONSTATION1D28', 'INTERACTIONSTATION1D34', 'INTERACTIONSTATION1D35', 'PHARM.DISP.1A16']\n",
      "['RECEPTION1B13', 'PEDIATRICWTSandMSRS1D31', 'PEDIATRICWAITING1D33', 'INTERACTIONSTATION1D11', 'INTERACTIONSTATION1D07', 'INTERACTIONSTATION1D32', 'INTERACTIONSTATION1D02', 'INTERACTIONSTATION1D13', 'INTERACTIONSTATION1D36', 'INTERACTIONSTATION1D10', 'INTERACTIONSTATION1D08', 'INTERACTIONSTATION1D09', 'INTERACTIONSTATION1D28', 'INTERACTIONSTATION1D34', 'INTERACTIONSTATION1D35', 'CENTRALWAITING1AC1', 'BLOODDRAW1B03', 'PHARM.DISP.1A16']\n",
      "['RECEPTION1B13', 'PEDIATRICWTSandMSRS1D31', 'PEDIATRICWAITING1D33', 'INTERACTIONSTATION1D11', 'INTERACTIONSTATION1D07', 'INTERACTIONSTATION1D32', 'INTERACTIONSTATION1D02', 'INTERACTIONSTATION1D13', 'INTERACTIONSTATION1D36', 'INTERACTIONSTATION1D10', 'INTERACTIONSTATION1D08', 'INTERACTIONSTATION1D09', 'INTERACTIONSTATION1D28', 'INTERACTIONSTATION1D34', 'INTERACTIONSTATION1D35', 'CENTRALWAITING1AC1', 'RADIOGRAPHICROOM1B19', 'PHARM.DISP.1A16']\n"
     ]
    }
   ],
   "source": [
    "# Medical patient paths\n",
    "medical_path_1 = [recptions[1]]+ triage_rooms[1:] + [waiting_areas[3]] + interaction_stations + [pharmacies[0]]\n",
    "medical_path_2 = [recptions[1]]+ triage_rooms[1:] + [waiting_areas[3]] + interaction_stations + [waiting_areas[0]] + clinical_checkups+ [pharmacies[0]]\n",
    "medical_path_3 = [recptions[1]]+ triage_rooms[1:] + [waiting_areas[3]] + interaction_stations + [waiting_areas[0]] + imagings+ [pharmacies[0]]\n",
    "\n",
    "print(medical_path_1)\n",
    "print(medical_path_2)\n",
    "print(medical_path_3)\n",
    "\n",
    "\n",
    "#pediatric patient paths\n",
    "pediatric_path_1 = [recptions[1]]+[triage_rooms[0]]+[waiting_areas[4]] + interaction_stations + [pharmacies[0]]\n",
    "pediatric_path_2 = [recptions[1]]+[triage_rooms[0]]+[waiting_areas[4]] + interaction_stations +[waiting_areas[0]]+clinical_checkups + [pharmacies[0]]\n",
    "pediatric_path_3 = [recptions[1]]+[triage_rooms[0]]+[waiting_areas[4]] + interaction_stations +[waiting_areas[0]]+imagings + [pharmacies[0]]\n",
    "\n",
    "\n",
    "print(pediatric_path_1)\n",
    "print(pediatric_path_2)\n",
    "print(pediatric_path_3)"
   ]
  },
  {
   "cell_type": "markdown",
   "metadata": {},
   "source": [
    "### Check if there exists any path for the patient route."
   ]
  },
  {
   "cell_type": "code",
   "execution_count": 772,
   "metadata": {},
   "outputs": [],
   "source": [
    "def get_node_by_name(graph, name):\n",
    "    # Find the node in the graph by the 'name' attribute\n",
    "    for node, data in graph.nodes(data=True):\n",
    "        if data.get('name') == name:\n",
    "            return node\n",
    "    return None\n",
    "\n",
    "def get_neighbors_in_path(graph, path):\n",
    "    neighbors_dict = {}\n",
    "    \n",
    "    for name in path:\n",
    "        # Find the actual node corresponding to the 'name' attribute\n",
    "        node = get_node_by_name(graph, name)\n",
    "        \n",
    "        if node is not None:\n",
    "            # Find all neighbors of the node in the graph\n",
    "            neighbors = list(graph.neighbors(node))\n",
    "            \n",
    "            # Map the neighbors back to their 'name' attributes\n",
    "            neighbors_names = [graph.nodes[neighbor]['name'] for neighbor in neighbors]\n",
    "            \n",
    "            # Store the neighbors in the dictionary\n",
    "            neighbors_dict[name] = neighbors_names\n",
    "        else:\n",
    "            neighbors_dict[name] = []\n",
    "    \n",
    "    return neighbors_dict"
   ]
  },
  {
   "cell_type": "code",
   "execution_count": 773,
   "metadata": {},
   "outputs": [
    {
     "name": "stdout",
     "output_type": "stream",
     "text": [
      "{'RECEPTION1B13': ['NA'], 'WTSandMEAS.ROOM1D15': [], 'WTSandMEAS.ROOM1D30': ['NA'], 'WAITING/ACTIVITYAREA1DC1': ['NA', 'NA', 'NA', 'NA', 'NA', 'NA', 'NA', 'NA', 'NA', 'NA', 'NA', 'NA'], 'INTERACTIONSTATION1D11': ['NA'], 'INTERACTIONSTATION1D07': ['NA'], 'INTERACTIONSTATION1D32': ['NA'], 'INTERACTIONSTATION1D02': ['NA'], 'INTERACTIONSTATION1D13': ['NA'], 'INTERACTIONSTATION1D36': ['NA'], 'INTERACTIONSTATION1D10': ['NA'], 'INTERACTIONSTATION1D08': ['NA'], 'INTERACTIONSTATION1D09': ['NA'], 'INTERACTIONSTATION1D28': ['NA'], 'INTERACTIONSTATION1D34': ['NA'], 'INTERACTIONSTATION1D35': ['NA'], 'PHARM.DISP.1A16': ['NA', 'NA', 'NA', 'NA']}\n",
      "{'RECEPTION1B13': ['NA'], 'WTSandMEAS.ROOM1D15': [], 'WTSandMEAS.ROOM1D30': ['NA'], 'WAITING/ACTIVITYAREA1DC1': ['NA', 'NA', 'NA', 'NA', 'NA', 'NA', 'NA', 'NA', 'NA', 'NA', 'NA', 'NA'], 'INTERACTIONSTATION1D11': ['NA'], 'INTERACTIONSTATION1D07': ['NA'], 'INTERACTIONSTATION1D32': ['NA'], 'INTERACTIONSTATION1D02': ['NA'], 'INTERACTIONSTATION1D13': ['NA'], 'INTERACTIONSTATION1D36': ['NA'], 'INTERACTIONSTATION1D10': ['NA'], 'INTERACTIONSTATION1D08': ['NA'], 'INTERACTIONSTATION1D09': ['NA'], 'INTERACTIONSTATION1D28': ['NA'], 'INTERACTIONSTATION1D34': ['NA'], 'INTERACTIONSTATION1D35': ['NA'], 'CENTRALWAITING1AC1': ['NA', 'NA', 'NA'], 'BLOODDRAW1B03': ['NA'], 'PHARM.DISP.1A16': ['NA', 'NA', 'NA', 'NA']}\n",
      "{'RECEPTION1B13': ['NA'], 'WTSandMEAS.ROOM1D15': [], 'WTSandMEAS.ROOM1D30': ['NA'], 'WAITING/ACTIVITYAREA1DC1': ['NA', 'NA', 'NA', 'NA', 'NA', 'NA', 'NA', 'NA', 'NA', 'NA', 'NA', 'NA'], 'INTERACTIONSTATION1D11': ['NA'], 'INTERACTIONSTATION1D07': ['NA'], 'INTERACTIONSTATION1D32': ['NA'], 'INTERACTIONSTATION1D02': ['NA'], 'INTERACTIONSTATION1D13': ['NA'], 'INTERACTIONSTATION1D36': ['NA'], 'INTERACTIONSTATION1D10': ['NA'], 'INTERACTIONSTATION1D08': ['NA'], 'INTERACTIONSTATION1D09': ['NA'], 'INTERACTIONSTATION1D28': ['NA'], 'INTERACTIONSTATION1D34': ['NA'], 'INTERACTIONSTATION1D35': ['NA'], 'CENTRALWAITING1AC1': ['NA', 'NA', 'NA'], 'RADIOGRAPHICROOM1B19': ['NA'], 'PHARM.DISP.1A16': ['NA', 'NA', 'NA', 'NA']}\n",
      "{'RECEPTION1B13': ['NA'], 'PEDIATRICWTSandMSRS1D31': ['NA'], 'PEDIATRICWAITING1D33': ['NA', 'NA'], 'INTERACTIONSTATION1D11': ['NA'], 'INTERACTIONSTATION1D07': ['NA'], 'INTERACTIONSTATION1D32': ['NA'], 'INTERACTIONSTATION1D02': ['NA'], 'INTERACTIONSTATION1D13': ['NA'], 'INTERACTIONSTATION1D36': ['NA'], 'INTERACTIONSTATION1D10': ['NA'], 'INTERACTIONSTATION1D08': ['NA'], 'INTERACTIONSTATION1D09': ['NA'], 'INTERACTIONSTATION1D28': ['NA'], 'INTERACTIONSTATION1D34': ['NA'], 'INTERACTIONSTATION1D35': ['NA'], 'PHARM.DISP.1A16': ['NA', 'NA', 'NA', 'NA']}\n",
      "{'RECEPTION1B13': ['NA'], 'PEDIATRICWTSandMSRS1D31': ['NA'], 'PEDIATRICWAITING1D33': ['NA', 'NA'], 'INTERACTIONSTATION1D11': ['NA'], 'INTERACTIONSTATION1D07': ['NA'], 'INTERACTIONSTATION1D32': ['NA'], 'INTERACTIONSTATION1D02': ['NA'], 'INTERACTIONSTATION1D13': ['NA'], 'INTERACTIONSTATION1D36': ['NA'], 'INTERACTIONSTATION1D10': ['NA'], 'INTERACTIONSTATION1D08': ['NA'], 'INTERACTIONSTATION1D09': ['NA'], 'INTERACTIONSTATION1D28': ['NA'], 'INTERACTIONSTATION1D34': ['NA'], 'INTERACTIONSTATION1D35': ['NA'], 'CENTRALWAITING1AC1': ['NA', 'NA', 'NA'], 'BLOODDRAW1B03': ['NA'], 'PHARM.DISP.1A16': ['NA', 'NA', 'NA', 'NA']}\n",
      "{'RECEPTION1B13': ['NA'], 'PEDIATRICWTSandMSRS1D31': ['NA'], 'PEDIATRICWAITING1D33': ['NA', 'NA'], 'INTERACTIONSTATION1D11': ['NA'], 'INTERACTIONSTATION1D07': ['NA'], 'INTERACTIONSTATION1D32': ['NA'], 'INTERACTIONSTATION1D02': ['NA'], 'INTERACTIONSTATION1D13': ['NA'], 'INTERACTIONSTATION1D36': ['NA'], 'INTERACTIONSTATION1D10': ['NA'], 'INTERACTIONSTATION1D08': ['NA'], 'INTERACTIONSTATION1D09': ['NA'], 'INTERACTIONSTATION1D28': ['NA'], 'INTERACTIONSTATION1D34': ['NA'], 'INTERACTIONSTATION1D35': ['NA'], 'CENTRALWAITING1AC1': ['NA', 'NA', 'NA'], 'RADIOGRAPHICROOM1B19': ['NA'], 'PHARM.DISP.1A16': ['NA', 'NA', 'NA', 'NA']}\n"
     ]
    }
   ],
   "source": [
    "\n",
    "meidcal_p1_neighbors = get_neighbors_in_path(G_new,medical_path_1)\n",
    "print(meidcal_p1_neighbors)\n",
    "\n",
    "meidcal_p2_neighbors = get_neighbors_in_path(G_new,medical_path_2)\n",
    "print(meidcal_p2_neighbors)\n",
    "\n",
    "meidcal_p3_neighbors = get_neighbors_in_path(G_new,medical_path_3)\n",
    "print(meidcal_p3_neighbors)\n",
    "\n",
    "pediatric_p1_neighbors = get_neighbors_in_path(G_new,pediatric_path_1)\n",
    "print(pediatric_p1_neighbors)\n",
    "\n",
    "pediatric_p2_neighbors = get_neighbors_in_path(G_new,pediatric_path_2)\n",
    "print(pediatric_p2_neighbors)\n",
    "\n",
    "pediatric_p3_neighbors = get_neighbors_in_path(G_new,pediatric_path_3)\n",
    "print(pediatric_p3_neighbors)"
   ]
  },
  {
   "cell_type": "markdown",
   "metadata": {},
   "source": [
    "### The above results show that some of the room doesnot have any neighbor, which means some edges connecting these nodes (rooms) are missing."
   ]
  },
  {
   "cell_type": "markdown",
   "metadata": {},
   "source": [
    "### We need to Manually fixing the graph by adding missing edge."
   ]
  },
  {
   "cell_type": "code",
   "execution_count": 774,
   "metadata": {},
   "outputs": [
    {
     "name": "stdout",
     "output_type": "stream",
     "text": [
      "1\n",
      "152\n",
      "472\n"
     ]
    }
   ],
   "source": [
    "node_1dc1 = get_node_by_name(G_new,'WAITING/ACTIVITYAREA1DC1')\n",
    "print(node_1dc1)\n",
    "\n",
    "node_1d15 = get_node_by_name(G_new, 'WTSandMEAS.ROOM1D15')\n",
    "print(node_1d15)\n",
    "\n",
    "G_new.add_edge(1,152)\n",
    "G_new.add_edge(0,1)\n",
    "G_new.add_edge(11,104)\n",
    "G_new.add_edge(0,49)\n",
    "print(len(G_new.edges))"
   ]
  },
  {
   "cell_type": "markdown",
   "metadata": {},
   "source": [
    "### Now, check for path again, each room should have at least one neighbor."
   ]
  },
  {
   "cell_type": "code",
   "execution_count": 775,
   "metadata": {},
   "outputs": [
    {
     "name": "stdout",
     "output_type": "stream",
     "text": [
      "{'RECEPTION1B13': ['NA'], 'WTSandMEAS.ROOM1D15': ['WAITING/ACTIVITYAREA1DC1'], 'WTSandMEAS.ROOM1D30': ['NA'], 'WAITING/ACTIVITYAREA1DC1': ['NA', 'NA', 'NA', 'NA', 'NA', 'NA', 'NA', 'NA', 'NA', 'NA', 'NA', 'NA', 'WTSandMEAS.ROOM1D15', 'CENTRALWAITING1AC1'], 'INTERACTIONSTATION1D11': ['NA'], 'INTERACTIONSTATION1D07': ['NA'], 'INTERACTIONSTATION1D32': ['NA'], 'INTERACTIONSTATION1D02': ['NA', 'CORRIDOR1DC3'], 'INTERACTIONSTATION1D13': ['NA'], 'INTERACTIONSTATION1D36': ['NA'], 'INTERACTIONSTATION1D10': ['NA'], 'INTERACTIONSTATION1D08': ['NA'], 'INTERACTIONSTATION1D09': ['NA'], 'INTERACTIONSTATION1D28': ['NA'], 'INTERACTIONSTATION1D34': ['NA'], 'INTERACTIONSTATION1D35': ['NA'], 'PHARM.DISP.1A16': ['NA', 'NA', 'NA', 'NA']}\n",
      "{'RECEPTION1B13': ['NA'], 'WTSandMEAS.ROOM1D15': ['WAITING/ACTIVITYAREA1DC1'], 'WTSandMEAS.ROOM1D30': ['NA'], 'WAITING/ACTIVITYAREA1DC1': ['NA', 'NA', 'NA', 'NA', 'NA', 'NA', 'NA', 'NA', 'NA', 'NA', 'NA', 'NA', 'WTSandMEAS.ROOM1D15', 'CENTRALWAITING1AC1'], 'INTERACTIONSTATION1D11': ['NA'], 'INTERACTIONSTATION1D07': ['NA'], 'INTERACTIONSTATION1D32': ['NA'], 'INTERACTIONSTATION1D02': ['NA', 'CORRIDOR1DC3'], 'INTERACTIONSTATION1D13': ['NA'], 'INTERACTIONSTATION1D36': ['NA'], 'INTERACTIONSTATION1D10': ['NA'], 'INTERACTIONSTATION1D08': ['NA'], 'INTERACTIONSTATION1D09': ['NA'], 'INTERACTIONSTATION1D28': ['NA'], 'INTERACTIONSTATION1D34': ['NA'], 'INTERACTIONSTATION1D35': ['NA'], 'CENTRALWAITING1AC1': ['NA', 'NA', 'NA', 'WAITING/ACTIVITYAREA1DC1', 'CORRIDOR1AC2'], 'BLOODDRAW1B03': ['NA'], 'PHARM.DISP.1A16': ['NA', 'NA', 'NA', 'NA']}\n",
      "{'RECEPTION1B13': ['NA'], 'WTSandMEAS.ROOM1D15': ['WAITING/ACTIVITYAREA1DC1'], 'WTSandMEAS.ROOM1D30': ['NA'], 'WAITING/ACTIVITYAREA1DC1': ['NA', 'NA', 'NA', 'NA', 'NA', 'NA', 'NA', 'NA', 'NA', 'NA', 'NA', 'NA', 'WTSandMEAS.ROOM1D15', 'CENTRALWAITING1AC1'], 'INTERACTIONSTATION1D11': ['NA'], 'INTERACTIONSTATION1D07': ['NA'], 'INTERACTIONSTATION1D32': ['NA'], 'INTERACTIONSTATION1D02': ['NA', 'CORRIDOR1DC3'], 'INTERACTIONSTATION1D13': ['NA'], 'INTERACTIONSTATION1D36': ['NA'], 'INTERACTIONSTATION1D10': ['NA'], 'INTERACTIONSTATION1D08': ['NA'], 'INTERACTIONSTATION1D09': ['NA'], 'INTERACTIONSTATION1D28': ['NA'], 'INTERACTIONSTATION1D34': ['NA'], 'INTERACTIONSTATION1D35': ['NA'], 'CENTRALWAITING1AC1': ['NA', 'NA', 'NA', 'WAITING/ACTIVITYAREA1DC1', 'CORRIDOR1AC2'], 'RADIOGRAPHICROOM1B19': ['NA'], 'PHARM.DISP.1A16': ['NA', 'NA', 'NA', 'NA']}\n",
      "{'RECEPTION1B13': ['NA'], 'PEDIATRICWTSandMSRS1D31': ['NA'], 'PEDIATRICWAITING1D33': ['NA', 'NA'], 'INTERACTIONSTATION1D11': ['NA'], 'INTERACTIONSTATION1D07': ['NA'], 'INTERACTIONSTATION1D32': ['NA'], 'INTERACTIONSTATION1D02': ['NA', 'CORRIDOR1DC3'], 'INTERACTIONSTATION1D13': ['NA'], 'INTERACTIONSTATION1D36': ['NA'], 'INTERACTIONSTATION1D10': ['NA'], 'INTERACTIONSTATION1D08': ['NA'], 'INTERACTIONSTATION1D09': ['NA'], 'INTERACTIONSTATION1D28': ['NA'], 'INTERACTIONSTATION1D34': ['NA'], 'INTERACTIONSTATION1D35': ['NA'], 'PHARM.DISP.1A16': ['NA', 'NA', 'NA', 'NA']}\n",
      "{'RECEPTION1B13': ['NA'], 'PEDIATRICWTSandMSRS1D31': ['NA'], 'PEDIATRICWAITING1D33': ['NA', 'NA'], 'INTERACTIONSTATION1D11': ['NA'], 'INTERACTIONSTATION1D07': ['NA'], 'INTERACTIONSTATION1D32': ['NA'], 'INTERACTIONSTATION1D02': ['NA', 'CORRIDOR1DC3'], 'INTERACTIONSTATION1D13': ['NA'], 'INTERACTIONSTATION1D36': ['NA'], 'INTERACTIONSTATION1D10': ['NA'], 'INTERACTIONSTATION1D08': ['NA'], 'INTERACTIONSTATION1D09': ['NA'], 'INTERACTIONSTATION1D28': ['NA'], 'INTERACTIONSTATION1D34': ['NA'], 'INTERACTIONSTATION1D35': ['NA'], 'CENTRALWAITING1AC1': ['NA', 'NA', 'NA', 'WAITING/ACTIVITYAREA1DC1', 'CORRIDOR1AC2'], 'BLOODDRAW1B03': ['NA'], 'PHARM.DISP.1A16': ['NA', 'NA', 'NA', 'NA']}\n",
      "{'RECEPTION1B13': ['NA'], 'PEDIATRICWTSandMSRS1D31': ['NA'], 'PEDIATRICWAITING1D33': ['NA', 'NA'], 'INTERACTIONSTATION1D11': ['NA'], 'INTERACTIONSTATION1D07': ['NA'], 'INTERACTIONSTATION1D32': ['NA'], 'INTERACTIONSTATION1D02': ['NA', 'CORRIDOR1DC3'], 'INTERACTIONSTATION1D13': ['NA'], 'INTERACTIONSTATION1D36': ['NA'], 'INTERACTIONSTATION1D10': ['NA'], 'INTERACTIONSTATION1D08': ['NA'], 'INTERACTIONSTATION1D09': ['NA'], 'INTERACTIONSTATION1D28': ['NA'], 'INTERACTIONSTATION1D34': ['NA'], 'INTERACTIONSTATION1D35': ['NA'], 'CENTRALWAITING1AC1': ['NA', 'NA', 'NA', 'WAITING/ACTIVITYAREA1DC1', 'CORRIDOR1AC2'], 'RADIOGRAPHICROOM1B19': ['NA'], 'PHARM.DISP.1A16': ['NA', 'NA', 'NA', 'NA']}\n"
     ]
    }
   ],
   "source": [
    "\n",
    "meidcal_p1_neighbors = get_neighbors_in_path(G_new,medical_path_1)\n",
    "print(meidcal_p1_neighbors)\n",
    "\n",
    "meidcal_p2_neighbors = get_neighbors_in_path(G_new,medical_path_2)\n",
    "print(meidcal_p2_neighbors)\n",
    "\n",
    "meidcal_p3_neighbors = get_neighbors_in_path(G_new,medical_path_3)\n",
    "print(meidcal_p3_neighbors)\n",
    "\n",
    "pediatric_p1_neighbors = get_neighbors_in_path(G_new,pediatric_path_1)\n",
    "print(pediatric_p1_neighbors)\n",
    "\n",
    "pediatric_p2_neighbors = get_neighbors_in_path(G_new,pediatric_path_2)\n",
    "print(pediatric_p2_neighbors)\n",
    "\n",
    "pediatric_p3_neighbors = get_neighbors_in_path(G_new,pediatric_path_3)\n",
    "print(pediatric_p3_neighbors)"
   ]
  }
 ],
 "metadata": {
  "kernelspec": {
   "display_name": "HDSS",
   "language": "python",
   "name": "python3"
  },
  "language_info": {
   "codemirror_mode": {
    "name": "ipython",
    "version": 3
   },
   "file_extension": ".py",
   "mimetype": "text/x-python",
   "name": "python",
   "nbconvert_exporter": "python",
   "pygments_lexer": "ipython3",
   "version": "3.11.5"
  }
 },
 "nbformat": 4,
 "nbformat_minor": 2
}
