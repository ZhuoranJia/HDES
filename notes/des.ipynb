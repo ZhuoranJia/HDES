{
 "cells": [
  {
   "cell_type": "markdown",
   "metadata": {},
   "source": [
    "# DES script for simulating hospital operations"
   ]
  },
  {
   "cell_type": "code",
   "execution_count": 23,
   "metadata": {},
   "outputs": [],
   "source": [
    "import simpy\n",
    "import networkx as nx\n",
    "import numpy as np\n",
    "import random\n",
    "import pickle\n",
    "import json"
   ]
  },
  {
   "cell_type": "markdown",
   "metadata": {},
   "source": [
    "## Load the graph"
   ]
  },
  {
   "cell_type": "code",
   "execution_count": 24,
   "metadata": {},
   "outputs": [],
   "source": [
    "with open('C:/Users/SID-DRW/OneDrive - Delft University of Technology/Documents/GitHub/HDES/Data/edited_graph.pkl', 'rb') as f:\n",
    "    G = pickle.load(f)"
   ]
  },
  {
   "cell_type": "markdown",
   "metadata": {},
   "source": [
    "## Load the shortest patient paths"
   ]
  },
  {
   "cell_type": "code",
   "execution_count": 25,
   "metadata": {},
   "outputs": [],
   "source": [
    "with open('C:/Users/SID-DRW/OneDrive - Delft University of Technology/Documents/GitHub/HDES/Data/all_real_medical_path_1.pkl', 'rb') as f:\n",
    "    all_real_medical_path_1 = pickle.load(f)\n",
    "\n",
    "with open('C:/Users/SID-DRW/OneDrive - Delft University of Technology/Documents/GitHub/HDES/Data/all_real_medical_path_2.pkl', 'rb') as f:\n",
    "    all_real_medical_path_2 = pickle.load(f)\n",
    "\n",
    "with open('C:/Users/SID-DRW/OneDrive - Delft University of Technology/Documents/GitHub/HDES/Data/all_real_medical_path_3.pkl', 'rb') as f:\n",
    "    all_real_medical_path_3 = pickle.load(f)\n",
    "\n",
    "with open('C:/Users/SID-DRW/OneDrive - Delft University of Technology/Documents/GitHub/HDES/Data/all_real_pediatric_path_1.pkl', 'rb') as f:\n",
    "    all_real_pediatric_path_1 = pickle.load(f)\n",
    "\n",
    "with open('C:/Users/SID-DRW/OneDrive - Delft University of Technology/Documents/GitHub/HDES/Data/all_real_pediatric_path_2.pkl', 'rb') as f:\n",
    "    all_real_pediatric_path_2 = pickle.load(f)\n",
    "\n",
    "with open('C:/Users/SID-DRW/OneDrive - Delft University of Technology/Documents/GitHub/HDES/Data/all_real_pediatric_path_3.pkl', 'rb') as f:\n",
    "    all_real_pediatric_path_3 = pickle.load(f)"
   ]
  },
  {
   "cell_type": "code",
   "execution_count": 26,
   "metadata": {},
   "outputs": [
    {
     "name": "stdout",
     "output_type": "stream",
     "text": [
      "[[44, 333, 7, 335, 0, 1, 152, 1, 302, 74, 301, 104, 301, 74, 302, 1, 0, 49, 266, 89], [44, 333, 7, 335, 0, 1, 152, 1, 302, 74, 301, 104, 11, 313, 207, 313, 11, 104, 301, 74, 302, 1, 0, 49, 266, 89], [44, 333, 7, 335, 0, 1, 152, 1, 302, 74, 301, 104, 11, 307, 208, 307, 11, 104, 301, 74, 302, 1, 0, 49, 266, 89], [44, 333, 7, 335, 0, 1, 152, 1, 302, 74, 301, 104, 11, 312, 170, 312, 11, 104, 301, 74, 302, 1, 0, 49, 266, 89], [44, 333, 7, 335, 0, 1, 152, 1, 302, 74, 301, 104, 11, 309, 71, 309, 11, 104, 301, 74, 302, 1, 0, 49, 266, 89], [44, 333, 7, 335, 0, 1, 152, 1, 302, 74, 301, 104, 11, 308, 138, 308, 11, 104, 301, 74, 302, 1, 0, 49, 266, 89], [44, 333, 7, 335, 0, 1, 152, 1, 302, 74, 301, 104, 11, 306, 85, 306, 11, 104, 301, 74, 302, 1, 0, 49, 266, 89]]\n",
      "[[44, 333, 7, 335, 0, 1, 152, 1, 302, 74, 301, 104, 301, 74, 302, 1, 0, 338, 76, 336, 43, 336, 76, 338, 0, 49, 266, 89], [44, 333, 7, 335, 0, 1, 152, 1, 302, 74, 301, 104, 11, 313, 207, 313, 11, 104, 301, 74, 302, 1, 0, 338, 76, 336, 43, 336, 76, 338, 0, 49, 266, 89], [44, 333, 7, 335, 0, 1, 152, 1, 302, 74, 301, 104, 11, 307, 208, 307, 11, 104, 301, 74, 302, 1, 0, 338, 76, 336, 43, 336, 76, 338, 0, 49, 266, 89], [44, 333, 7, 335, 0, 1, 152, 1, 302, 74, 301, 104, 11, 312, 170, 312, 11, 104, 301, 74, 302, 1, 0, 338, 76, 336, 43, 336, 76, 338, 0, 49, 266, 89], [44, 333, 7, 335, 0, 1, 152, 1, 302, 74, 301, 104, 11, 309, 71, 309, 11, 104, 301, 74, 302, 1, 0, 338, 76, 336, 43, 336, 76, 338, 0, 49, 266, 89], [44, 333, 7, 335, 0, 1, 152, 1, 302, 74, 301, 104, 11, 308, 138, 308, 11, 104, 301, 74, 302, 1, 0, 338, 76, 336, 43, 336, 76, 338, 0, 49, 266, 89], [44, 333, 7, 335, 0, 1, 152, 1, 302, 74, 301, 104, 11, 306, 85, 306, 11, 104, 301, 74, 302, 1, 0, 338, 76, 336, 43, 336, 76, 338, 0, 49, 266, 89]]\n",
      "[[44, 333, 7, 335, 0, 1, 152, 1, 302, 74, 301, 104, 301, 74, 302, 1, 0, 335, 7, 350, 77, 350, 7, 335, 0, 49, 266, 89], [44, 333, 7, 335, 0, 1, 152, 1, 302, 74, 301, 104, 11, 313, 207, 313, 11, 104, 301, 74, 302, 1, 0, 335, 7, 350, 77, 350, 7, 335, 0, 49, 266, 89], [44, 333, 7, 335, 0, 1, 152, 1, 302, 74, 301, 104, 11, 307, 208, 307, 11, 104, 301, 74, 302, 1, 0, 335, 7, 350, 77, 350, 7, 335, 0, 49, 266, 89], [44, 333, 7, 335, 0, 1, 152, 1, 302, 74, 301, 104, 11, 312, 170, 312, 11, 104, 301, 74, 302, 1, 0, 335, 7, 350, 77, 350, 7, 335, 0, 49, 266, 89], [44, 333, 7, 335, 0, 1, 152, 1, 302, 74, 301, 104, 11, 309, 71, 309, 11, 104, 301, 74, 302, 1, 0, 335, 7, 350, 77, 350, 7, 335, 0, 49, 266, 89], [44, 333, 7, 335, 0, 1, 152, 1, 302, 74, 301, 104, 11, 308, 138, 308, 11, 104, 301, 74, 302, 1, 0, 335, 7, 350, 77, 350, 7, 335, 0, 49, 266, 89], [44, 333, 7, 335, 0, 1, 152, 1, 302, 74, 301, 104, 11, 306, 85, 306, 11, 104, 301, 74, 302, 1, 0, 335, 7, 350, 77, 350, 7, 335, 0, 49, 266, 89]]\n",
      "[[44, 333, 7, 335, 0, 1, 324, 119, 471, 21, 470, 107, 470, 21, 471, 119, 471, 21, 472, 211, 472, 21, 471, 119, 324, 1, 0, 49, 266, 89], [44, 333, 7, 335, 0, 1, 324, 119, 471, 21, 470, 107, 470, 21, 471, 119, 471, 21, 329, 210, 329, 21, 471, 119, 324, 1, 0, 49, 266, 89], [44, 333, 7, 335, 0, 1, 324, 119, 471, 21, 470, 107, 470, 21, 471, 119, 471, 21, 330, 139, 330, 21, 471, 119, 324, 1, 0, 49, 266, 89], [44, 333, 7, 335, 0, 1, 324, 119, 471, 21, 470, 107, 470, 21, 471, 119, 471, 21, 327, 209, 327, 21, 471, 119, 324, 1, 0, 49, 266, 89], [44, 333, 7, 335, 0, 1, 324, 119, 471, 21, 470, 107, 470, 21, 471, 119, 471, 21, 328, 86, 328, 21, 471, 119, 324, 1, 0, 49, 266, 89]]\n",
      "[[44, 333, 7, 335, 0, 1, 324, 119, 471, 21, 470, 107, 470, 21, 471, 119, 471, 21, 472, 211, 472, 21, 471, 119, 324, 1, 0, 338, 76, 336, 43, 336, 76, 338, 0, 49, 266, 89], [44, 333, 7, 335, 0, 1, 324, 119, 471, 21, 470, 107, 470, 21, 471, 119, 471, 21, 329, 210, 329, 21, 471, 119, 324, 1, 0, 338, 76, 336, 43, 336, 76, 338, 0, 49, 266, 89], [44, 333, 7, 335, 0, 1, 324, 119, 471, 21, 470, 107, 470, 21, 471, 119, 471, 21, 330, 139, 330, 21, 471, 119, 324, 1, 0, 338, 76, 336, 43, 336, 76, 338, 0, 49, 266, 89], [44, 333, 7, 335, 0, 1, 324, 119, 471, 21, 470, 107, 470, 21, 471, 119, 471, 21, 327, 209, 327, 21, 471, 119, 324, 1, 0, 338, 76, 336, 43, 336, 76, 338, 0, 49, 266, 89], [44, 333, 7, 335, 0, 1, 324, 119, 471, 21, 470, 107, 470, 21, 471, 119, 471, 21, 328, 86, 328, 21, 471, 119, 324, 1, 0, 338, 76, 336, 43, 336, 76, 338, 0, 49, 266, 89]]\n",
      "[[44, 333, 7, 335, 0, 1, 324, 119, 471, 21, 470, 107, 470, 21, 471, 119, 471, 21, 472, 211, 472, 21, 471, 119, 324, 1, 0, 335, 7, 350, 77, 350, 7, 335, 0, 49, 266, 89], [44, 333, 7, 335, 0, 1, 324, 119, 471, 21, 470, 107, 470, 21, 471, 119, 471, 21, 329, 210, 329, 21, 471, 119, 324, 1, 0, 335, 7, 350, 77, 350, 7, 335, 0, 49, 266, 89], [44, 333, 7, 335, 0, 1, 324, 119, 471, 21, 470, 107, 470, 21, 471, 119, 471, 21, 330, 139, 330, 21, 471, 119, 324, 1, 0, 335, 7, 350, 77, 350, 7, 335, 0, 49, 266, 89], [44, 333, 7, 335, 0, 1, 324, 119, 471, 21, 470, 107, 470, 21, 471, 119, 471, 21, 327, 209, 327, 21, 471, 119, 324, 1, 0, 335, 7, 350, 77, 350, 7, 335, 0, 49, 266, 89], [44, 333, 7, 335, 0, 1, 324, 119, 471, 21, 470, 107, 470, 21, 471, 119, 471, 21, 328, 86, 328, 21, 471, 119, 324, 1, 0, 335, 7, 350, 77, 350, 7, 335, 0, 49, 266, 89]]\n"
     ]
    }
   ],
   "source": [
    "print(all_real_medical_path_1)\n",
    "print(all_real_medical_path_2)\n",
    "print(all_real_medical_path_3)\n",
    "print(all_real_pediatric_path_1)\n",
    "print(all_real_pediatric_path_2)\n",
    "print(all_real_pediatric_path_3)"
   ]
  },
  {
   "cell_type": "code",
   "execution_count": 27,
   "metadata": {},
   "outputs": [
    {
     "name": "stdout",
     "output_type": "stream",
     "text": [
      "[44, 333, 7, 335, 0, 1, 152, 1, 302, 74, 301, 104, 301, 74, 302, 1, 0, 49, 266, 89]\n",
      "[44, 333, 7, 335, 0, 1, 152, 1, 302, 74, 301, 104, 11, 313, 207, 313, 11, 104, 301, 74, 302, 1, 0, 49, 266, 89]\n",
      "[44, 333, 7, 335, 0, 1, 152, 1, 302, 74, 301, 104, 11, 307, 208, 307, 11, 104, 301, 74, 302, 1, 0, 49, 266, 89]\n",
      "7\n",
      "7\n",
      "7\n",
      "5\n",
      "5\n",
      "5\n"
     ]
    }
   ],
   "source": [
    "print(all_real_medical_path_1[0])\n",
    "print(all_real_medical_path_1[1])\n",
    "print(all_real_medical_path_1[2])\n",
    "print(len(all_real_medical_path_1))\n",
    "print(len(all_real_medical_path_2))\n",
    "print(len(all_real_medical_path_3))\n",
    "print(len(all_real_pediatric_path_1))\n",
    "print(len(all_real_pediatric_path_2))\n",
    "print(len(all_real_pediatric_path_3))"
   ]
  },
  {
   "cell_type": "markdown",
   "metadata": {},
   "source": [
    "# DES starts"
   ]
  },
  {
   "cell_type": "markdown",
   "metadata": {},
   "source": [
    "### Initialize SimPy environment"
   ]
  },
  {
   "cell_type": "code",
   "execution_count": 28,
   "metadata": {},
   "outputs": [],
   "source": [
    "env = simpy.Environment()"
   ]
  },
  {
   "cell_type": "markdown",
   "metadata": {},
   "source": [
    "### Calculate capacity for each node "
   ]
  },
  {
   "cell_type": "markdown",
   "metadata": {},
   "source": [
    "#### - waiting area and corridors' capacities are 1m² per person, all other nodes' capacites are 1."
   ]
  },
  {
   "cell_type": "code",
   "execution_count": 29,
   "metadata": {},
   "outputs": [
    {
     "name": "stdout",
     "output_type": "stream",
     "text": [
      "{0: 127, 1: 178, 2: 1, 3: 50, 4: 1, 5: 1, 6: 25, 7: 27, 8: 1, 9: 40, 10: 1, 11: 29, 12: 1, 13: 1, 14: 41, 15: 24, 16: 20, 17: 1, 18: 39, 19: 10, 20: 1, 21: 29, 22: 27, 23: 1, 24: 31, 25: 16, 26: 19, 27: 28, 28: 15, 29: 1, 30: 13, 31: 12, 32: 1, 33: 13, 34: 1, 35: 14, 36: 17, 37: 1, 38: 10, 39: 1, 40: 1, 41: 1, 42: 1, 43: 1, 44: 1, 45: 1, 46: 1, 47: 11, 48: 1, 49: 19, 50: 1, 51: 13, 52: 1, 53: 7, 54: 20, 55: 1, 56: 1, 57: 1, 58: 1, 59: 1, 60: 1, 61: 1, 62: 1, 63: 8, 64: 1, 65: 1, 66: 1, 67: 1, 68: 1, 69: 8, 70: 1, 71: 1, 72: 1, 73: 1, 74: 5, 75: 5, 76: 5, 77: 1, 78: 1, 79: 1, 80: 1, 81: 9, 82: 1, 83: 1, 84: 1, 85: 1, 86: 1, 87: 1, 88: 1, 89: 1, 90: 7, 91: 1, 92: 1, 93: 1, 94: 1, 95: 1, 96: 1, 97: 1, 98: 1, 99: 12, 100: 1, 101: 1, 102: 1, 103: 1, 104: 1, 105: 1, 106: 1, 107: 1, 108: 1, 109: 1, 110: 1, 111: 1, 112: 1, 113: 1, 114: 1, 115: 1, 116: 1, 117: 1, 118: 1, 119: 11, 120: 1, 121: 1, 122: 1, 123: 1, 124: 1, 125: 1, 126: 1, 127: 1, 128: 1, 129: 11, 130: 7, 131: 1, 132: 1, 133: 1, 134: 1, 135: 1, 136: 1, 137: 1, 138: 1, 139: 1, 140: 1, 141: 1, 142: 1, 143: 1, 144: 1, 145: 1, 146: 1, 147: 1, 148: 1, 149: 1, 150: 11, 151: 1, 152: 1, 153: 1, 154: 1, 155: 1, 156: 8, 157: 1, 158: 1, 159: 1, 160: 1, 161: 1, 162: 1, 163: 1, 164: 1, 165: 1, 166: 1, 167: 1, 168: 1, 169: 1, 170: 1, 171: 1, 172: 1, 173: 1, 174: 1, 175: 1, 176: 1, 177: 1, 178: 6, 179: 1, 180: 1, 181: 1, 182: 1, 183: 1, 184: 1, 185: 1, 186: 1, 187: 1, 188: 1, 189: 1, 190: 1, 191: 1, 192: 1, 193: 1, 194: 7, 195: 1, 196: 1, 197: 1, 198: 1, 199: 1, 200: 1, 201: 1, 202: 1, 203: 1, 204: 1, 205: 1, 206: 1, 207: 1, 208: 1, 209: 1, 210: 1, 211: 1, 212: 1, 213: 1, 214: 1, 215: 1, 216: 1, 217: 1, 218: 1, 219: 1, 220: 1, 221: 1, 222: 7, 223: 1, 224: 1, 225: 1, 226: 8, 227: 1, 228: 1, 229: 1, 230: 1, 231: 1, 232: 1, 233: 1, 234: 1, 235: 1, 236: 1, 237: 1, 238: 1, 239: 1, 240: 1, 241: 1, 242: 1, 243: 1, 244: 1, 245: 1, 246: 1, 247: 1, 248: 1, 249: 1, 250: 1, 251: 1, 252: 1, 253: 1, 254: 1, 255: 1, 256: 1, 257: 1, 258: 1, 259: 1, 260: 1, 261: 1, 262: 1, 263: 1, 264: 1, 265: 1, 266: 1, 267: 1, 268: 1, 269: 1, 270: 1, 271: 1, 272: 1, 273: 1, 274: 1, 275: 1, 276: 1, 277: 1, 278: 1, 279: 1, 280: 1, 281: 1, 282: 1, 283: 1, 284: 1, 285: 1, 286: 1, 287: 1, 288: 1, 289: 1, 290: 1, 291: 1, 292: 1, 293: 1, 294: 1, 295: 1, 296: 1, 297: 1, 298: 1, 299: 1, 300: 1, 301: 1, 302: 1, 303: 1, 304: 1, 305: 1, 306: 1, 307: 1, 308: 1, 309: 1, 310: 1, 311: 1, 312: 1, 313: 1, 314: 1, 315: 1, 316: 1, 317: 1, 318: 1, 319: 1, 320: 1, 321: 1, 322: 1, 323: 1, 324: 1, 325: 1, 326: 1, 327: 1, 328: 1, 329: 1, 330: 1, 331: 1, 332: 1, 333: 1, 334: 1, 335: 1, 336: 1, 337: 1, 338: 1, 339: 1, 340: 1, 341: 1, 342: 1, 343: 1, 344: 1, 345: 1, 346: 1, 347: 1, 348: 1, 349: 1, 350: 1, 351: 1, 352: 1, 353: 1, 354: 1, 355: 1, 356: 1, 357: 1, 358: 1, 359: 1, 360: 1, 361: 1, 362: 1, 363: 1, 364: 1, 365: 1, 366: 1, 367: 1, 368: 1, 369: 1, 370: 1, 371: 1, 372: 1, 373: 1, 374: 1, 375: 1, 376: 1, 377: 1, 378: 1, 379: 1, 380: 1, 381: 1, 382: 1, 383: 1, 384: 1, 385: 1, 386: 1, 387: 1, 388: 1, 389: 1, 390: 1, 391: 1, 392: 1, 393: 1, 394: 1, 395: 1, 396: 1, 397: 1, 398: 1, 399: 1, 400: 1, 401: 1, 402: 1, 403: 1, 404: 1, 405: 1, 406: 1, 407: 1, 408: 1, 409: 1, 410: 1, 411: 1, 412: 1, 413: 1, 414: 1, 415: 1, 416: 1, 417: 1, 418: 1, 419: 1, 420: 1, 421: 1, 422: 1, 423: 1, 424: 1, 425: 1, 426: 1, 427: 1, 428: 1, 429: 1, 430: 1, 431: 1, 432: 1, 433: 1, 434: 1, 435: 1, 436: 1, 437: 1, 438: 1, 439: 1, 440: 1, 441: 1, 442: 1, 443: 1, 444: 1, 445: 1, 446: 1, 447: 1, 448: 1, 449: 1, 450: 1, 451: 1, 452: 1, 453: 1, 454: 1, 455: 1, 456: 1, 457: 1, 458: 1, 459: 1, 460: 1, 461: 1, 462: 1, 463: 1, 464: 1, 465: 1, 466: 1, 467: 1, 468: 1, 469: 1, 470: 1, 471: 1, 472: 1, 473: 1, 474: 1, 475: 1, 476: 1, 477: 1, 478: 1, 479: 1, 480: 1, 481: 1, 482: 1, 483: 1, 484: 1, 485: 1, 486: 1, 487: 1, 488: 1, 489: 1, 490: 1, 491: 1, 492: 1, 493: 1, 494: 1, 495: 1, 496: 1, 497: 1, 498: 1, 499: 1, 500: 1, 501: 1}\n"
     ]
    }
   ],
   "source": [
    "\n",
    "def get_capacity(G):\n",
    "\n",
    "    # Extract nodes with 'name' attribute containing 'CORRIDOR' or 'WAITING'\n",
    "    extracted_nodes = [node for node in G.nodes(data=True) if 'CORRIDOR' in node[1]['name'] or 'WAITING' in node[1]['name']]\n",
    "\n",
    "    # Add 'capacity' attribute to each extracted node\n",
    "    for node in extracted_nodes:\n",
    "        node_index, node_data = node\n",
    "        node_data['capacity'] = int(float(node_data['area']))  # Convert to float first, then to int\n",
    "\n",
    "    # Create the capacities dictionary\n",
    "    capacities = {}\n",
    "\n",
    "    for node in G.nodes(data=True):\n",
    "        node_index, node_data = node\n",
    "        # If 'capacity' attribute exists, use it, otherwise assign 1\n",
    "        capacities[node_index] = node_data.get('capacity', 1)\n",
    "\n",
    "    return capacities\n",
    "\n",
    "capacities = get_capacity(G)\n",
    "print(capacities)"
   ]
  },
  {
   "cell_type": "markdown",
   "metadata": {},
   "source": [
    "### Create resources at nodes"
   ]
  },
  {
   "cell_type": "code",
   "execution_count": 30,
   "metadata": {},
   "outputs": [],
   "source": [
    "resources = {node: simpy.Resource(env, capacity=capacities[node]) for node in G.nodes}"
   ]
  },
  {
   "cell_type": "markdown",
   "metadata": {},
   "source": [
    "### Data tracking"
   ]
  },
  {
   "cell_type": "code",
   "execution_count": 31,
   "metadata": {},
   "outputs": [],
   "source": [
    "waiting_times = {node: [] for node in G.nodes}\n",
    "walking_distances = []  # Track walking distance for each patient\n",
    "patient_waiting_times = []  # Track total waiting time for each patient\n",
    "crowding = {node: [] for node in G.nodes} #crowdedness\n",
    "patients_in_node = {node: 0 for node in G.nodes}\n",
    "patient_journeys = {}  # Dictionary to store each patient's journey\n",
    "\n",
    "# Track occupancy at each node over time\n",
    "occupancy = {node: [] for node in G.nodes}"
   ]
  },
  {
   "cell_type": "markdown",
   "metadata": {},
   "source": [
    "### Function to calculate distance between two nodes"
   ]
  },
  {
   "cell_type": "code",
   "execution_count": 32,
   "metadata": {},
   "outputs": [],
   "source": [
    "def calculate_distance(node1, node2):\n",
    "    pos1 = np.array(G.nodes[node1]['coords'])\n",
    "    pos2 = np.array(G.nodes[node2]['coords'])\n",
    "    return np.linalg.norm(pos1 - pos2)"
   ]
  },
  {
   "cell_type": "markdown",
   "metadata": {},
   "source": [
    "### Function for creating Patient process in the DES"
   ]
  },
  {
   "cell_type": "code",
   "execution_count": 33,
   "metadata": {},
   "outputs": [],
   "source": [
    "def patient(env, patient_id, path):\n",
    "    total_walking_distance = 0\n",
    "    total_waiting_time = 0\n",
    "    journey = []  # Track the patient's journey\n",
    "\n",
    "    for i, node in enumerate(path):\n",
    "        journey.append(node)  # Add the node to the patient's journey\n",
    "\n",
    "        # Calculate walking distance if this is not the first node\n",
    "        if i > 0:\n",
    "            dist = calculate_distance(path[i-1], node)\n",
    "            total_walking_distance += dist\n",
    "\n",
    "        # Request the resource (if any) at the current node\n",
    "        if capacities[node] > 0:  # if node has limited capacity\n",
    "            arrival_time = env.now\n",
    "            with resources[node].request() as req:\n",
    "                patients_in_node[node] += 1  # Update crowding\n",
    "                yield req\n",
    "                # Record waiting time\n",
    "                waiting_time = env.now - arrival_time\n",
    "                total_waiting_time += waiting_time\n",
    "                waiting_times[node].append(waiting_time)\n",
    "\n",
    "        # Stay at the node for some time to simulate treatment\n",
    "                yield env.timeout(np.random.exponential(15))  # Random service time\n",
    "\n",
    "        # recording the number of patients in the node\n",
    "                occupancy[node].append(patients_in_node[node])\n",
    "\n",
    "        crowding[node].append(patients_in_node[node] / float(G.nodes[node]['area']) if G.nodes[node]['area'] != 'NA' else 0)\n",
    "        patients_in_node[node] -= 1  # Patient leaves the node\n",
    "\n",
    "    # Track the walking distance and waiting time for this patient\n",
    "    walking_distances.append(total_walking_distance)\n",
    "    patient_waiting_times.append(total_waiting_time)\n",
    "    patient_journeys[f'patient_{patient_id}'] = journey  # Add the journey to the dictionary with patient_id as key\n"
   ]
  },
  {
   "cell_type": "markdown",
   "metadata": {},
   "source": [
    "### Function for choosing any available interaction room"
   ]
  },
  {
   "cell_type": "code",
   "execution_count": 34,
   "metadata": {},
   "outputs": [],
   "source": [
    "def get_available_medical_paths(resources,all_meidcal_path):\n",
    "    available_paths = []\n",
    "    if resources[104].count < resources[104].capacity:  \n",
    "        available_paths.append(all_meidcal_path[0])\n",
    "    if resources[207].count < resources[207].capacity:  \n",
    "        available_paths.append(all_meidcal_path[1])\n",
    "    if resources[208].count < resources[208].capacity:  \n",
    "        available_paths.append(all_meidcal_path[2])\n",
    "    if resources[170].count < resources[170].capacity:  \n",
    "        available_paths.append(all_meidcal_path[3])\n",
    "    if resources[71].count < resources[71].capacity:  \n",
    "        available_paths.append(all_meidcal_path[4])\n",
    "    if resources[138].count < resources[138].capacity:  \n",
    "        available_paths.append(all_meidcal_path[5])\n",
    "    if resources[85].count < resources[85].capacity:  \n",
    "        available_paths.append(all_meidcal_path[6])\n",
    "    return available_paths\n",
    "\n",
    "def get_available_pediatric_paths(resources,all_pediatric_path):\n",
    "    available_paths = []\n",
    "    if resources[211].count < resources[211].capacity:  \n",
    "        available_paths.append(all_pediatric_path[0])\n",
    "    if resources[210].count < resources[210].capacity:  \n",
    "        available_paths.append(all_pediatric_path[1])\n",
    "    if resources[139].count < resources[139].capacity:  \n",
    "        available_paths.append(all_pediatric_path[2])\n",
    "    if resources[209].count < resources[209].capacity:  \n",
    "        available_paths.append(all_pediatric_path[3])\n",
    "    if resources[86].count < resources[86].capacity:  \n",
    "        available_paths.append(all_pediatric_path[4])\n",
    "    return available_paths"
   ]
  },
  {
   "cell_type": "markdown",
   "metadata": {},
   "source": [
    "### Function for generating patients"
   ]
  },
  {
   "cell_type": "code",
   "execution_count": 35,
   "metadata": {},
   "outputs": [],
   "source": [
    "def generate_patients(env, num_patients):\n",
    "    for i in range(num_patients):\n",
    "        # Randomly choose a path based on probabilities\n",
    "        path_type_choice = random.choices(['medical_1', 'medical_2','medical_3',\n",
    "                                           'pediatric_1','pediatric_2','pediatric_3'], \n",
    "                                           weights=[0.49, 0.05,0.01,0.39,0.05,0.01])[0]\n",
    "        if path_type_choice == 'medical_1':\n",
    "            available_paths = get_available_medical_paths(resources,all_real_medical_path_1)\n",
    "            \n",
    "            if available_paths:\n",
    "                chosen_path = random.choice(available_paths)\n",
    "                env.process(patient(env, i, chosen_path))\n",
    "            else:\n",
    "                # If all ERs are occupied, the patient must wait (or could be directed to a waiting area)\n",
    "                yield env.timeout(1)  # Small wait time before retrying\n",
    "\n",
    "        if path_type_choice == 'medical_2':\n",
    "            available_paths = get_available_medical_paths(resources,all_real_medical_path_2)\n",
    "            \n",
    "            if available_paths:\n",
    "                chosen_path = random.choice(available_paths)\n",
    "                env.process(patient(env, i, chosen_path))\n",
    "            else:\n",
    "                # If all ERs are occupied, the patient must wait (or could be directed to a waiting area)\n",
    "                yield env.timeout(1)  # Small wait time before retrying\n",
    "\n",
    "        if path_type_choice == 'medical_3':\n",
    "            available_paths = get_available_medical_paths(resources,all_real_medical_path_3)\n",
    "            \n",
    "            if available_paths:\n",
    "                chosen_path = random.choice(available_paths)\n",
    "                env.process(patient(env, i, chosen_path))\n",
    "            else:\n",
    "                # If all ERs are occupied, the patient must wait (or could be directed to a waiting area)\n",
    "                yield env.timeout(1)  # Small wait time before retrying\n",
    "\n",
    "        if path_type_choice == 'pediatric_1':\n",
    "            available_paths = get_available_pediatric_paths(resources,all_real_pediatric_path_1)\n",
    "            \n",
    "            if available_paths:\n",
    "                chosen_path = random.choice(available_paths)\n",
    "                env.process(patient(env, i, chosen_path))\n",
    "            else:\n",
    "                # If all ERs are occupied, the patient must wait (or could be directed to a waiting area)\n",
    "                yield env.timeout(1)  # Small wait time before retrying\n",
    "        \n",
    "        if path_type_choice == 'pediatric_2':\n",
    "            available_paths = get_available_pediatric_paths(resources,all_real_pediatric_path_2)\n",
    "            \n",
    "            if available_paths:\n",
    "                chosen_path = random.choice(available_paths)\n",
    "                env.process(patient(env, i, chosen_path))\n",
    "            else:\n",
    "                # If all ERs are occupied, the patient must wait (or could be directed to a waiting area)\n",
    "                yield env.timeout(1)  # Small wait time before retrying\n",
    "\n",
    "        if path_type_choice == 'pediatric_3':\n",
    "            available_paths = get_available_pediatric_paths(resources,all_real_pediatric_path_3)\n",
    "            \n",
    "            if available_paths:\n",
    "                chosen_path = random.choice(available_paths)\n",
    "                env.process(patient(env, i, chosen_path))\n",
    "            else:\n",
    "                # If all ERs are occupied, the patient must wait (or could be directed to a waiting area)\n",
    "                yield env.timeout(1)  # Small wait time before retrying\n",
    "\n",
    "        yield env.timeout(np.random.exponential(10))  # Random patient arrival time\n"
   ]
  },
  {
   "cell_type": "markdown",
   "metadata": {},
   "source": [
    "### Run the simulation & collect data"
   ]
  },
  {
   "cell_type": "code",
   "execution_count": 36,
   "metadata": {},
   "outputs": [
    {
     "name": "stdout",
     "output_type": "stream",
     "text": [
      "patient_0, [44, 333, 7, 335, 0, 1, 324, 119, 471, 21, 470, 107, 470, 21, 471, 119, 471, 21, 328, 86, 328, 21, 471, 119, 324, 1, 0, 49, 266, 89]\n",
      "patient_1, [44, 333, 7, 335, 0, 1, 324, 119, 471, 21, 470, 107, 470, 21, 471, 119, 471, 21, 327, 209, 327, 21, 471, 119, 324, 1, 0, 49, 266, 89]\n",
      "patient_2, [44, 333, 7, 335, 0, 1, 324, 119, 471, 21, 470, 107, 470, 21, 471, 119, 471, 21, 327, 209, 327, 21, 471, 119, 324, 1, 0, 49, 266, 89]\n",
      "patient_3, [44, 333, 7, 335, 0, 1, 324, 119, 471, 21, 470, 107, 470, 21, 471, 119, 471, 21, 328, 86, 328, 21, 471, 119, 324, 1, 0, 49, 266, 89]\n",
      "patient_4, [44, 333, 7, 335, 0, 1, 152, 1, 302, 74, 301, 104, 11, 308, 138, 308, 11, 104, 301, 74, 302, 1, 0, 49, 266, 89]\n",
      "patient_5, [44, 333, 7, 335, 0, 1, 324, 119, 471, 21, 470, 107, 470, 21, 471, 119, 471, 21, 472, 211, 472, 21, 471, 119, 324, 1, 0, 338, 76, 336, 43, 336, 76, 338, 0, 49, 266, 89]\n",
      "patient_6, [44, 333, 7, 335, 0, 1, 152, 1, 302, 74, 301, 104, 11, 312, 170, 312, 11, 104, 301, 74, 302, 1, 0, 338, 76, 336, 43, 336, 76, 338, 0, 49, 266, 89]\n",
      "patient_7, [44, 333, 7, 335, 0, 1, 324, 119, 471, 21, 470, 107, 470, 21, 471, 119, 471, 21, 472, 211, 472, 21, 471, 119, 324, 1, 0, 49, 266, 89]\n",
      "patient_8, [44, 333, 7, 335, 0, 1, 324, 119, 471, 21, 470, 107, 470, 21, 471, 119, 471, 21, 329, 210, 329, 21, 471, 119, 324, 1, 0, 49, 266, 89]\n",
      "patient_9, [44, 333, 7, 335, 0, 1, 324, 119, 471, 21, 470, 107, 470, 21, 471, 119, 471, 21, 329, 210, 329, 21, 471, 119, 324, 1, 0, 49, 266, 89]\n",
      "patient_10, [44, 333, 7, 335, 0, 1, 324, 119, 471, 21, 470, 107, 470, 21, 471, 119, 471, 21, 330, 139, 330, 21, 471, 119, 324, 1, 0, 49, 266, 89]\n",
      "patient_11, [44, 333, 7, 335, 0, 1, 152, 1, 302, 74, 301, 104, 11, 306, 85, 306, 11, 104, 301, 74, 302, 1, 0, 49, 266, 89]\n",
      "patient_12, [44, 333, 7, 335, 0, 1, 152, 1, 302, 74, 301, 104, 11, 308, 138, 308, 11, 104, 301, 74, 302, 1, 0, 49, 266, 89]\n",
      "patient_13, [44, 333, 7, 335, 0, 1, 152, 1, 302, 74, 301, 104, 11, 313, 207, 313, 11, 104, 301, 74, 302, 1, 0, 49, 266, 89]\n",
      "patient_14, [44, 333, 7, 335, 0, 1, 324, 119, 471, 21, 470, 107, 470, 21, 471, 119, 471, 21, 472, 211, 472, 21, 471, 119, 324, 1, 0, 338, 76, 336, 43, 336, 76, 338, 0, 49, 266, 89]\n",
      "patient_15, [44, 333, 7, 335, 0, 1, 152, 1, 302, 74, 301, 104, 11, 312, 170, 312, 11, 104, 301, 74, 302, 1, 0, 49, 266, 89]\n",
      "patient_16, [44, 333, 7, 335, 0, 1, 324, 119, 471, 21, 470, 107, 470, 21, 471, 119, 471, 21, 330, 139, 330, 21, 471, 119, 324, 1, 0, 335, 7, 350, 77, 350, 7, 335, 0, 49, 266, 89]\n",
      "patient_17, [44, 333, 7, 335, 0, 1, 152, 1, 302, 74, 301, 104, 301, 74, 302, 1, 0, 49, 266, 89]\n",
      "patient_18, [44, 333, 7, 335, 0, 1, 152, 1, 302, 74, 301, 104, 301, 74, 302, 1, 0, 49, 266, 89]\n",
      "patient_19, [44, 333, 7, 335, 0, 1, 152, 1, 302, 74, 301, 104, 11, 309, 71, 309, 11, 104, 301, 74, 302, 1, 0, 49, 266, 89]\n",
      "patient_20, [44, 333, 7, 335, 0, 1, 152, 1, 302, 74, 301, 104, 11, 306, 85, 306, 11, 104, 301, 74, 302, 1, 0, 49, 266, 89]\n",
      "patient_21, [44, 333, 7, 335, 0, 1, 324, 119, 471, 21, 470, 107, 470, 21, 471, 119, 471, 21, 327, 209, 327, 21, 471, 119, 324, 1, 0, 49, 266, 89]\n",
      "patient_22, [44, 333, 7, 335, 0, 1, 324, 119, 471, 21, 470, 107, 470, 21, 471, 119, 471, 21, 327, 209, 327, 21, 471, 119, 324, 1, 0, 49, 266, 89]\n",
      "patient_23, [44, 333, 7, 335, 0, 1, 324, 119, 471, 21, 470, 107, 470, 21, 471, 119, 471, 21, 327, 209, 327, 21, 471, 119, 324, 1, 0, 49, 266, 89]\n",
      "patient_24, [44, 333, 7, 335, 0, 1, 324, 119, 471, 21, 470, 107, 470, 21, 471, 119, 471, 21, 329, 210, 329, 21, 471, 119, 324, 1, 0, 49, 266, 89]\n",
      "patient_25, [44, 333, 7, 335, 0, 1, 152, 1, 302, 74, 301, 104, 11, 306, 85, 306, 11, 104, 301, 74, 302, 1, 0, 49, 266, 89]\n",
      "patient_26, [44, 333, 7, 335, 0, 1, 324, 119, 471, 21, 470, 107, 470, 21, 471, 119, 471, 21, 330, 139, 330, 21, 471, 119, 324, 1, 0, 49, 266, 89]\n",
      "patient_27, [44, 333, 7, 335, 0, 1, 324, 119, 471, 21, 470, 107, 470, 21, 471, 119, 471, 21, 328, 86, 328, 21, 471, 119, 324, 1, 0, 49, 266, 89]\n",
      "patient_28, [44, 333, 7, 335, 0, 1, 324, 119, 471, 21, 470, 107, 470, 21, 471, 119, 471, 21, 330, 139, 330, 21, 471, 119, 324, 1, 0, 49, 266, 89]\n",
      "patient_29, [44, 333, 7, 335, 0, 1, 152, 1, 302, 74, 301, 104, 11, 312, 170, 312, 11, 104, 301, 74, 302, 1, 0, 49, 266, 89]\n",
      "patient_30, [44, 333, 7, 335, 0, 1, 324, 119, 471, 21, 470, 107, 470, 21, 471, 119, 471, 21, 328, 86, 328, 21, 471, 119, 324, 1, 0, 49, 266, 89]\n",
      "patient_31, [44, 333, 7, 335, 0, 1, 324, 119, 471, 21, 470, 107, 470, 21, 471, 119, 471, 21, 327, 209, 327, 21, 471, 119, 324, 1, 0, 49, 266, 89]\n",
      "patient_32, [44, 333, 7, 335, 0, 1, 152, 1, 302, 74, 301, 104, 11, 313, 207, 313, 11, 104, 301, 74, 302, 1, 0, 49, 266, 89]\n",
      "patient_33, [44, 333, 7, 335, 0, 1, 324, 119, 471, 21, 470, 107, 470, 21, 471, 119, 471, 21, 328, 86, 328, 21, 471, 119, 324, 1, 0, 338, 76, 336, 43, 336, 76, 338, 0, 49, 266, 89]\n",
      "patient_34, [44, 333, 7, 335, 0, 1, 324, 119, 471, 21, 470, 107, 470, 21, 471, 119, 471, 21, 329, 210, 329, 21, 471, 119, 324, 1, 0, 49, 266, 89]\n",
      "patient_35, [44, 333, 7, 335, 0, 1, 324, 119, 471, 21, 470, 107, 470, 21, 471, 119, 471, 21, 472, 211, 472, 21, 471, 119, 324, 1, 0, 49, 266, 89]\n",
      "patient_36, [44, 333, 7, 335, 0, 1, 152, 1, 302, 74, 301, 104, 301, 74, 302, 1, 0, 49, 266, 89]\n",
      "patient_37, [44, 333, 7, 335, 0, 1, 152, 1, 302, 74, 301, 104, 11, 308, 138, 308, 11, 104, 301, 74, 302, 1, 0, 49, 266, 89]\n",
      "patient_38, [44, 333, 7, 335, 0, 1, 324, 119, 471, 21, 470, 107, 470, 21, 471, 119, 471, 21, 327, 209, 327, 21, 471, 119, 324, 1, 0, 338, 76, 336, 43, 336, 76, 338, 0, 49, 266, 89]\n",
      "patient_39, [44, 333, 7, 335, 0, 1, 152, 1, 302, 74, 301, 104, 11, 313, 207, 313, 11, 104, 301, 74, 302, 1, 0, 49, 266, 89]\n",
      "patient_40, [44, 333, 7, 335, 0, 1, 152, 1, 302, 74, 301, 104, 11, 309, 71, 309, 11, 104, 301, 74, 302, 1, 0, 49, 266, 89]\n",
      "patient_41, [44, 333, 7, 335, 0, 1, 152, 1, 302, 74, 301, 104, 11, 312, 170, 312, 11, 104, 301, 74, 302, 1, 0, 49, 266, 89]\n",
      "patient_42, [44, 333, 7, 335, 0, 1, 324, 119, 471, 21, 470, 107, 470, 21, 471, 119, 471, 21, 328, 86, 328, 21, 471, 119, 324, 1, 0, 49, 266, 89]\n",
      "patient_43, [44, 333, 7, 335, 0, 1, 324, 119, 471, 21, 470, 107, 470, 21, 471, 119, 471, 21, 327, 209, 327, 21, 471, 119, 324, 1, 0, 49, 266, 89]\n",
      "patient_44, [44, 333, 7, 335, 0, 1, 324, 119, 471, 21, 470, 107, 470, 21, 471, 119, 471, 21, 327, 209, 327, 21, 471, 119, 324, 1, 0, 49, 266, 89]\n",
      "patient_45, [44, 333, 7, 335, 0, 1, 152, 1, 302, 74, 301, 104, 11, 312, 170, 312, 11, 104, 301, 74, 302, 1, 0, 49, 266, 89]\n",
      "patient_46, [44, 333, 7, 335, 0, 1, 324, 119, 471, 21, 470, 107, 470, 21, 471, 119, 471, 21, 329, 210, 329, 21, 471, 119, 324, 1, 0, 49, 266, 89]\n",
      "patient_47, [44, 333, 7, 335, 0, 1, 324, 119, 471, 21, 470, 107, 470, 21, 471, 119, 471, 21, 472, 211, 472, 21, 471, 119, 324, 1, 0, 49, 266, 89]\n",
      "patient_48, [44, 333, 7, 335, 0, 1, 324, 119, 471, 21, 470, 107, 470, 21, 471, 119, 471, 21, 472, 211, 472, 21, 471, 119, 324, 1, 0, 49, 266, 89]\n",
      "patient_49, [44, 333, 7, 335, 0, 1, 324, 119, 471, 21, 470, 107, 470, 21, 471, 119, 471, 21, 472, 211, 472, 21, 471, 119, 324, 1, 0, 49, 266, 89]\n",
      "patient_50, [44, 333, 7, 335, 0, 1, 324, 119, 471, 21, 470, 107, 470, 21, 471, 119, 471, 21, 327, 209, 327, 21, 471, 119, 324, 1, 0, 49, 266, 89]\n",
      "patient_51, [44, 333, 7, 335, 0, 1, 152, 1, 302, 74, 301, 104, 11, 308, 138, 308, 11, 104, 301, 74, 302, 1, 0, 49, 266, 89]\n",
      "patient_52, [44, 333, 7, 335, 0, 1, 324, 119, 471, 21, 470, 107, 470, 21, 471, 119, 471, 21, 327, 209, 327, 21, 471, 119, 324, 1, 0, 49, 266, 89]\n",
      "patient_53, [44, 333, 7, 335, 0, 1, 152, 1, 302, 74, 301, 104, 11, 306, 85, 306, 11, 104, 301, 74, 302, 1, 0, 49, 266, 89]\n",
      "patient_54, [44, 333, 7, 335, 0, 1, 152, 1, 302, 74, 301, 104, 11, 307, 208, 307, 11, 104, 301, 74, 302, 1, 0, 49, 266, 89]\n",
      "patient_55, [44, 333, 7, 335, 0, 1, 152, 1, 302, 74, 301, 104, 11, 308, 138, 308, 11, 104, 301, 74, 302, 1, 0, 49, 266, 89]\n",
      "patient_56, [44, 333, 7, 335, 0, 1, 324, 119, 471, 21, 470, 107, 470, 21, 471, 119, 471, 21, 327, 209, 327, 21, 471, 119, 324, 1, 0, 49, 266, 89]\n",
      "patient_57, [44, 333, 7, 335, 0, 1, 324, 119, 471, 21, 470, 107, 470, 21, 471, 119, 471, 21, 328, 86, 328, 21, 471, 119, 324, 1, 0, 49, 266, 89]\n",
      "patient_58, [44, 333, 7, 335, 0, 1, 324, 119, 471, 21, 470, 107, 470, 21, 471, 119, 471, 21, 328, 86, 328, 21, 471, 119, 324, 1, 0, 49, 266, 89]\n",
      "patient_59, [44, 333, 7, 335, 0, 1, 152, 1, 302, 74, 301, 104, 11, 309, 71, 309, 11, 104, 301, 74, 302, 1, 0, 49, 266, 89]\n",
      "patient_60, [44, 333, 7, 335, 0, 1, 152, 1, 302, 74, 301, 104, 11, 313, 207, 313, 11, 104, 301, 74, 302, 1, 0, 49, 266, 89]\n",
      "patient_61, [44, 333, 7, 335, 0, 1, 152, 1, 302, 74, 301, 104, 11, 309, 71, 309, 11, 104, 301, 74, 302, 1, 0, 49, 266, 89]\n",
      "patient_62, [44, 333, 7, 335, 0, 1, 324, 119, 471, 21, 470, 107, 470, 21, 471, 119, 471, 21, 472, 211, 472, 21, 471, 119, 324, 1, 0, 49, 266, 89]\n",
      "patient_63, [44, 333, 7, 335, 0, 1, 152, 1, 302, 74, 301, 104, 11, 306, 85, 306, 11, 104, 301, 74, 302, 1, 0, 49, 266, 89]\n",
      "patient_64, [44, 333, 7, 335, 0, 1, 152, 1, 302, 74, 301, 104, 301, 74, 302, 1, 0, 49, 266, 89]\n",
      "patient_65, [44, 333, 7, 335, 0, 1, 152, 1, 302, 74, 301, 104, 11, 308, 138, 308, 11, 104, 301, 74, 302, 1, 0, 49, 266, 89]\n",
      "patient_66, [44, 333, 7, 335, 0, 1, 324, 119, 471, 21, 470, 107, 470, 21, 471, 119, 471, 21, 472, 211, 472, 21, 471, 119, 324, 1, 0, 49, 266, 89]\n",
      "patient_67, [44, 333, 7, 335, 0, 1, 152, 1, 302, 74, 301, 104, 11, 309, 71, 309, 11, 104, 301, 74, 302, 1, 0, 49, 266, 89]\n",
      "patient_68, [44, 333, 7, 335, 0, 1, 152, 1, 302, 74, 301, 104, 11, 312, 170, 312, 11, 104, 301, 74, 302, 1, 0, 49, 266, 89]\n",
      "patient_69, [44, 333, 7, 335, 0, 1, 152, 1, 302, 74, 301, 104, 11, 309, 71, 309, 11, 104, 301, 74, 302, 1, 0, 49, 266, 89]\n",
      "patient_70, [44, 333, 7, 335, 0, 1, 324, 119, 471, 21, 470, 107, 470, 21, 471, 119, 471, 21, 330, 139, 330, 21, 471, 119, 324, 1, 0, 49, 266, 89]\n",
      "patient_71, [44, 333, 7, 335, 0, 1, 152, 1, 302, 74, 301, 104, 11, 307, 208, 307, 11, 104, 301, 74, 302, 1, 0, 49, 266, 89]\n",
      "patient_72, [44, 333, 7, 335, 0, 1, 324, 119, 471, 21, 470, 107, 470, 21, 471, 119, 471, 21, 328, 86, 328, 21, 471, 119, 324, 1, 0, 49, 266, 89]\n",
      "patient_73, [44, 333, 7, 335, 0, 1, 152, 1, 302, 74, 301, 104, 11, 306, 85, 306, 11, 104, 301, 74, 302, 1, 0, 49, 266, 89]\n",
      "patient_74, [44, 333, 7, 335, 0, 1, 152, 1, 302, 74, 301, 104, 11, 307, 208, 307, 11, 104, 301, 74, 302, 1, 0, 49, 266, 89]\n",
      "patient_75, [44, 333, 7, 335, 0, 1, 324, 119, 471, 21, 470, 107, 470, 21, 471, 119, 471, 21, 472, 211, 472, 21, 471, 119, 324, 1, 0, 49, 266, 89]\n",
      "patient_76, [44, 333, 7, 335, 0, 1, 324, 119, 471, 21, 470, 107, 470, 21, 471, 119, 471, 21, 328, 86, 328, 21, 471, 119, 324, 1, 0, 49, 266, 89]\n",
      "patient_77, [44, 333, 7, 335, 0, 1, 324, 119, 471, 21, 470, 107, 470, 21, 471, 119, 471, 21, 472, 211, 472, 21, 471, 119, 324, 1, 0, 49, 266, 89]\n",
      "patient_78, [44, 333, 7, 335, 0, 1, 152, 1, 302, 74, 301, 104, 11, 307, 208, 307, 11, 104, 301, 74, 302, 1, 0, 49, 266, 89]\n",
      "patient_79, [44, 333, 7, 335, 0, 1, 324, 119, 471, 21, 470, 107, 470, 21, 471, 119, 471, 21, 328, 86, 328, 21, 471, 119, 324, 1, 0, 49, 266, 89]\n",
      "patient_80, [44, 333, 7, 335, 0, 1, 152, 1, 302, 74, 301, 104, 11, 307, 208, 307, 11, 104, 301, 74, 302, 1, 0, 335, 7, 350, 77, 350, 7, 335, 0, 49, 266, 89]\n",
      "patient_81, [44, 333, 7, 335, 0, 1, 152, 1, 302, 74, 301, 104, 11, 312, 170, 312, 11, 104, 301, 74, 302, 1, 0, 338, 76, 336, 43, 336, 76, 338, 0, 49, 266, 89]\n",
      "patient_82, [44, 333, 7, 335, 0, 1, 324, 119, 471, 21, 470, 107, 470, 21, 471, 119, 471, 21, 330, 139, 330, 21, 471, 119, 324, 1, 0, 49, 266, 89]\n",
      "patient_83, [44, 333, 7, 335, 0, 1, 324, 119, 471, 21, 470, 107, 470, 21, 471, 119, 471, 21, 329, 210, 329, 21, 471, 119, 324, 1, 0, 49, 266, 89]\n",
      "patient_84, [44, 333, 7, 335, 0, 1, 324, 119, 471, 21, 470, 107, 470, 21, 471, 119, 471, 21, 329, 210, 329, 21, 471, 119, 324, 1, 0, 49, 266, 89]\n",
      "patient_85, [44, 333, 7, 335, 0, 1, 152, 1, 302, 74, 301, 104, 11, 308, 138, 308, 11, 104, 301, 74, 302, 1, 0, 49, 266, 89]\n",
      "patient_86, [44, 333, 7, 335, 0, 1, 152, 1, 302, 74, 301, 104, 11, 308, 138, 308, 11, 104, 301, 74, 302, 1, 0, 49, 266, 89]\n",
      "patient_87, [44, 333, 7, 335, 0, 1, 152, 1, 302, 74, 301, 104, 11, 307, 208, 307, 11, 104, 301, 74, 302, 1, 0, 49, 266, 89]\n",
      "patient_88, [44, 333, 7, 335, 0, 1, 152, 1, 302, 74, 301, 104, 11, 313, 207, 313, 11, 104, 301, 74, 302, 1, 0, 49, 266, 89]\n",
      "patient_89, [44, 333, 7, 335, 0, 1, 152, 1, 302, 74, 301, 104, 11, 307, 208, 307, 11, 104, 301, 74, 302, 1, 0, 49, 266, 89]\n",
      "patient_90, [44, 333, 7, 335, 0, 1, 152, 1, 302, 74, 301, 104, 11, 312, 170, 312, 11, 104, 301, 74, 302, 1, 0, 49, 266, 89]\n",
      "patient_91, [44, 333, 7, 335, 0, 1, 324, 119, 471, 21, 470, 107, 470, 21, 471, 119, 471, 21, 472, 211, 472, 21, 471, 119, 324, 1, 0, 49, 266, 89]\n",
      "patient_92, [44, 333, 7, 335, 0, 1, 324, 119, 471, 21, 470, 107, 470, 21, 471, 119, 471, 21, 328, 86, 328, 21, 471, 119, 324, 1, 0, 49, 266, 89]\n",
      "patient_93, [44, 333, 7, 335, 0, 1, 152, 1, 302, 74, 301, 104, 11, 312, 170, 312, 11, 104, 301, 74, 302, 1, 0, 49, 266, 89]\n",
      "patient_94, [44, 333, 7, 335, 0, 1, 152, 1, 302, 74, 301, 104, 11, 306, 85, 306, 11, 104, 301, 74, 302, 1, 0, 49, 266, 89]\n",
      "patient_95, [44, 333, 7, 335, 0, 1, 324, 119, 471, 21, 470, 107, 470, 21, 471, 119, 471, 21, 472, 211, 472, 21, 471, 119, 324, 1, 0, 49, 266, 89]\n",
      "patient_96, [44, 333, 7, 335, 0, 1, 152, 1, 302, 74, 301, 104, 11, 309, 71, 309, 11, 104, 301, 74, 302, 1, 0, 49, 266, 89]\n",
      "patient_97, [44, 333, 7, 335, 0, 1, 152, 1, 302, 74, 301, 104, 11, 307, 208, 307, 11, 104, 301, 74, 302, 1, 0, 49, 266, 89]\n",
      "patient_98, [44, 333, 7, 335, 0, 1, 152, 1, 302, 74, 301, 104, 11, 307, 208, 307, 11, 104, 301, 74, 302, 1, 0, 49, 266, 89]\n",
      "patient_99, [44, 333, 7, 335, 0, 1, 324, 119, 471, 21, 470, 107, 470, 21, 471, 119, 471, 21, 329, 210, 329, 21, 471, 119, 324, 1, 0, 338, 76, 336, 43, 336, 76, 338, 0, 49, 266, 89]\n",
      "patient_100, [44, 333, 7, 335, 0, 1, 324, 119, 471, 21, 470, 107, 470, 21, 471, 119, 471, 21, 329, 210, 329, 21, 471, 119, 324, 1, 0, 49, 266, 89]\n",
      "patient_101, [44, 333, 7, 335, 0, 1, 152, 1, 302, 74, 301, 104, 301, 74, 302, 1, 0, 49, 266, 89]\n",
      "patient_102, [44, 333, 7, 335, 0, 1, 152, 1, 302, 74, 301, 104, 11, 306, 85, 306, 11, 104, 301, 74, 302, 1, 0, 49, 266, 89]\n",
      "patient_103, [44, 333, 7, 335, 0, 1, 152, 1, 302, 74, 301, 104, 11, 309, 71, 309, 11, 104, 301, 74, 302, 1, 0, 338, 76, 336, 43, 336, 76, 338, 0, 49, 266, 89]\n",
      "patient_104, [44, 333, 7, 335, 0, 1, 152, 1, 302, 74, 301, 104, 11, 313, 207, 313, 11, 104, 301, 74, 302, 1, 0, 338, 76, 336, 43, 336, 76, 338, 0, 49, 266, 89]\n",
      "patient_105, [44, 333, 7, 335, 0, 1, 324, 119, 471, 21, 470, 107, 470, 21, 471, 119, 471, 21, 472, 211, 472, 21, 471, 119, 324, 1, 0, 338, 76, 336, 43, 336, 76, 338, 0, 49, 266, 89]\n",
      "patient_106, [44, 333, 7, 335, 0, 1, 324, 119, 471, 21, 470, 107, 470, 21, 471, 119, 471, 21, 328, 86, 328, 21, 471, 119, 324, 1, 0, 49, 266, 89]\n",
      "patient_107, [44, 333, 7, 335, 0, 1, 152, 1, 302, 74, 301, 104, 11, 313, 207, 313, 11, 104, 301, 74, 302, 1, 0, 338, 76, 336, 43, 336, 76, 338, 0, 49, 266, 89]\n",
      "patient_108, [44, 333, 7, 335, 0, 1, 152, 1, 302, 74, 301, 104, 11, 313, 207, 313, 11, 104, 301, 74, 302, 1, 0, 49, 266, 89]\n",
      "patient_109, [44, 333, 7, 335, 0, 1, 324, 119, 471, 21, 470, 107, 470, 21, 471, 119, 471, 21, 330, 139, 330, 21, 471, 119, 324, 1, 0, 49, 266, 89]\n",
      "patient_110, [44, 333, 7, 335, 0, 1, 324, 119, 471, 21, 470, 107, 470, 21, 471, 119, 471, 21, 472, 211, 472, 21, 471, 119, 324, 1, 0, 49, 266, 89]\n",
      "patient_111, [44, 333, 7, 335, 0, 1, 152, 1, 302, 74, 301, 104, 11, 313, 207, 313, 11, 104, 301, 74, 302, 1, 0, 49, 266, 89]\n",
      "patient_112, [44, 333, 7, 335, 0, 1, 324, 119, 471, 21, 470, 107, 470, 21, 471, 119, 471, 21, 472, 211, 472, 21, 471, 119, 324, 1, 0, 49, 266, 89]\n",
      "patient_113, [44, 333, 7, 335, 0, 1, 324, 119, 471, 21, 470, 107, 470, 21, 471, 119, 471, 21, 330, 139, 330, 21, 471, 119, 324, 1, 0, 49, 266, 89]\n",
      "patient_114, [44, 333, 7, 335, 0, 1, 324, 119, 471, 21, 470, 107, 470, 21, 471, 119, 471, 21, 328, 86, 328, 21, 471, 119, 324, 1, 0, 49, 266, 89]\n",
      "patient_115, [44, 333, 7, 335, 0, 1, 152, 1, 302, 74, 301, 104, 301, 74, 302, 1, 0, 49, 266, 89]\n",
      "patient_116, [44, 333, 7, 335, 0, 1, 152, 1, 302, 74, 301, 104, 11, 313, 207, 313, 11, 104, 301, 74, 302, 1, 0, 49, 266, 89]\n",
      "patient_117, [44, 333, 7, 335, 0, 1, 152, 1, 302, 74, 301, 104, 11, 313, 207, 313, 11, 104, 301, 74, 302, 1, 0, 49, 266, 89]\n",
      "patient_118, [44, 333, 7, 335, 0, 1, 152, 1, 302, 74, 301, 104, 11, 309, 71, 309, 11, 104, 301, 74, 302, 1, 0, 49, 266, 89]\n",
      "patient_119, [44, 333, 7, 335, 0, 1, 324, 119, 471, 21, 470, 107, 470, 21, 471, 119, 471, 21, 472, 211, 472, 21, 471, 119, 324, 1, 0, 49, 266, 89]\n",
      "patient_120, [44, 333, 7, 335, 0, 1, 152, 1, 302, 74, 301, 104, 11, 308, 138, 308, 11, 104, 301, 74, 302, 1, 0, 49, 266, 89]\n",
      "patient_121, [44, 333, 7, 335, 0, 1, 324, 119, 471, 21, 470, 107, 470, 21, 471, 119, 471, 21, 327, 209, 327, 21, 471, 119, 324, 1, 0, 49, 266, 89]\n",
      "patient_122, [44, 333, 7, 335, 0, 1, 324, 119, 471, 21, 470, 107, 470, 21, 471, 119, 471, 21, 330, 139, 330, 21, 471, 119, 324, 1, 0, 338, 76, 336, 43, 336, 76, 338, 0, 49, 266, 89]\n",
      "patient_123, [44, 333, 7, 335, 0, 1, 324, 119, 471, 21, 470, 107, 470, 21, 471, 119, 471, 21, 327, 209, 327, 21, 471, 119, 324, 1, 0, 49, 266, 89]\n",
      "patient_124, [44, 333, 7, 335, 0, 1, 324, 119, 471, 21, 470, 107, 470, 21, 471, 119, 471, 21, 327, 209, 327, 21, 471, 119, 324, 1, 0, 49, 266, 89]\n",
      "patient_125, [44, 333, 7, 335, 0, 1, 152, 1, 302, 74, 301, 104, 11, 308, 138, 308, 11, 104, 301, 74, 302, 1, 0, 49, 266, 89]\n",
      "patient_126, [44, 333, 7, 335, 0, 1, 324, 119, 471, 21, 470, 107, 470, 21, 471, 119, 471, 21, 472, 211, 472, 21, 471, 119, 324, 1, 0, 49, 266, 89]\n",
      "patient_127, [44, 333, 7, 335, 0, 1, 152, 1, 302, 74, 301, 104, 11, 309, 71, 309, 11, 104, 301, 74, 302, 1, 0, 49, 266, 89]\n",
      "patient_128, [44, 333, 7, 335, 0, 1, 152, 1, 302, 74, 301, 104, 11, 308, 138, 308, 11, 104, 301, 74, 302, 1, 0, 49, 266, 89]\n",
      "patient_129, [44, 333, 7, 335, 0, 1, 152, 1, 302, 74, 301, 104, 11, 312, 170, 312, 11, 104, 301, 74, 302, 1, 0, 49, 266, 89]\n",
      "patient_130, [44, 333, 7, 335, 0, 1, 324, 119, 471, 21, 470, 107, 470, 21, 471, 119, 471, 21, 330, 139, 330, 21, 471, 119, 324, 1, 0, 338, 76, 336, 43, 336, 76, 338, 0, 49, 266, 89]\n",
      "patient_131, [44, 333, 7, 335, 0, 1, 152, 1, 302, 74, 301, 104, 11, 307, 208, 307, 11, 104, 301, 74, 302, 1, 0, 49, 266, 89]\n",
      "patient_132, [44, 333, 7, 335, 0, 1, 324, 119, 471, 21, 470, 107, 470, 21, 471, 119, 471, 21, 327, 209, 327, 21, 471, 119, 324, 1, 0, 49, 266, 89]\n",
      "patient_133, [44, 333, 7, 335, 0, 1, 324, 119, 471, 21, 470, 107, 470, 21, 471, 119, 471, 21, 472, 211, 472, 21, 471, 119, 324, 1, 0, 49, 266, 89]\n",
      "patient_134, [44, 333, 7, 335, 0, 1, 152, 1, 302, 74, 301, 104, 11, 312, 170, 312, 11, 104, 301, 74, 302, 1, 0, 49, 266, 89]\n",
      "patient_135, [44, 333, 7, 335, 0, 1, 152, 1, 302, 74, 301, 104, 11, 308, 138, 308, 11, 104, 301, 74, 302, 1, 0, 49, 266, 89]\n",
      "patient_136, [44, 333, 7, 335, 0, 1, 152, 1, 302, 74, 301, 104, 11, 308, 138, 308, 11, 104, 301, 74, 302, 1, 0, 49, 266, 89]\n",
      "patient_137, [44, 333, 7, 335, 0, 1, 152, 1, 302, 74, 301, 104, 11, 308, 138, 308, 11, 104, 301, 74, 302, 1, 0, 49, 266, 89]\n",
      "patient_138, [44, 333, 7, 335, 0, 1, 152, 1, 302, 74, 301, 104, 11, 313, 207, 313, 11, 104, 301, 74, 302, 1, 0, 338, 76, 336, 43, 336, 76, 338, 0, 49, 266, 89]\n",
      "patient_139, [44, 333, 7, 335, 0, 1, 152, 1, 302, 74, 301, 104, 11, 313, 207, 313, 11, 104, 301, 74, 302, 1, 0, 49, 266, 89]\n",
      "patient_140, [44, 333, 7, 335, 0, 1, 324, 119, 471, 21, 470, 107, 470, 21, 471, 119, 471, 21, 472, 211, 472, 21, 471, 119, 324, 1, 0, 49, 266, 89]\n",
      "patient_141, [44, 333, 7, 335, 0, 1, 152, 1, 302, 74, 301, 104, 11, 307, 208, 307, 11, 104, 301, 74, 302, 1, 0, 49, 266, 89]\n",
      "patient_142, [44, 333, 7, 335, 0, 1, 324, 119, 471, 21, 470, 107, 470, 21, 471, 119, 471, 21, 329, 210, 329, 21, 471, 119, 324, 1, 0, 49, 266, 89]\n",
      "patient_143, [44, 333, 7, 335, 0, 1, 152, 1, 302, 74, 301, 104, 11, 309, 71, 309, 11, 104, 301, 74, 302, 1, 0, 49, 266, 89]\n",
      "patient_144, [44, 333, 7, 335, 0, 1, 152, 1, 302, 74, 301, 104, 11, 313, 207, 313, 11, 104, 301, 74, 302, 1, 0, 49, 266, 89]\n",
      "patient_145, [44, 333, 7, 335, 0, 1, 324, 119, 471, 21, 470, 107, 470, 21, 471, 119, 471, 21, 328, 86, 328, 21, 471, 119, 324, 1, 0, 49, 266, 89]\n",
      "patient_146, [44, 333, 7, 335, 0, 1, 152, 1, 302, 74, 301, 104, 11, 313, 207, 313, 11, 104, 301, 74, 302, 1, 0, 49, 266, 89]\n",
      "patient_147, [44, 333, 7, 335, 0, 1, 152, 1, 302, 74, 301, 104, 11, 313, 207, 313, 11, 104, 301, 74, 302, 1, 0, 49, 266, 89]\n",
      "patient_148, [44, 333, 7, 335, 0, 1, 324, 119, 471, 21, 470, 107, 470, 21, 471, 119, 471, 21, 327, 209, 327, 21, 471, 119, 324, 1, 0, 49, 266, 89]\n",
      "patient_149, [44, 333, 7, 335, 0, 1, 152, 1, 302, 74, 301, 104, 11, 309, 71, 309, 11, 104, 301, 74, 302, 1, 0, 49, 266, 89]\n",
      "patient_150, [44, 333, 7, 335, 0, 1, 152, 1, 302, 74, 301, 104, 11, 309, 71, 309, 11, 104, 301, 74, 302, 1, 0, 49, 266, 89]\n",
      "patient_151, [44, 333, 7, 335, 0, 1, 324, 119, 471, 21, 470, 107, 470, 21, 471, 119, 471, 21, 330, 139, 330, 21, 471, 119, 324, 1, 0, 49, 266, 89]\n",
      "patient_152, [44, 333, 7, 335, 0, 1, 324, 119, 471, 21, 470, 107, 470, 21, 471, 119, 471, 21, 327, 209, 327, 21, 471, 119, 324, 1, 0, 49, 266, 89]\n",
      "patient_153, [44, 333, 7, 335, 0, 1, 324, 119, 471, 21, 470, 107, 470, 21, 471, 119, 471, 21, 330, 139, 330, 21, 471, 119, 324, 1, 0, 49, 266, 89]\n",
      "patient_154, [44, 333, 7, 335, 0, 1, 152, 1, 302, 74, 301, 104, 11, 312, 170, 312, 11, 104, 301, 74, 302, 1, 0, 49, 266, 89]\n",
      "patient_155, [44, 333, 7, 335, 0, 1, 152, 1, 302, 74, 301, 104, 11, 309, 71, 309, 11, 104, 301, 74, 302, 1, 0, 49, 266, 89]\n",
      "patient_156, [44, 333, 7, 335, 0, 1, 152, 1, 302, 74, 301, 104, 11, 306, 85, 306, 11, 104, 301, 74, 302, 1, 0, 49, 266, 89]\n",
      "patient_157, [44, 333, 7, 335, 0, 1, 152, 1, 302, 74, 301, 104, 11, 313, 207, 313, 11, 104, 301, 74, 302, 1, 0, 338, 76, 336, 43, 336, 76, 338, 0, 49, 266, 89]\n",
      "patient_158, [44, 333, 7, 335, 0, 1, 324, 119, 471, 21, 470, 107, 470, 21, 471, 119, 471, 21, 472, 211, 472, 21, 471, 119, 324, 1, 0, 49, 266, 89]\n",
      "patient_159, [44, 333, 7, 335, 0, 1, 152, 1, 302, 74, 301, 104, 11, 307, 208, 307, 11, 104, 301, 74, 302, 1, 0, 49, 266, 89]\n",
      "patient_160, [44, 333, 7, 335, 0, 1, 152, 1, 302, 74, 301, 104, 11, 306, 85, 306, 11, 104, 301, 74, 302, 1, 0, 49, 266, 89]\n",
      "patient_161, [44, 333, 7, 335, 0, 1, 324, 119, 471, 21, 470, 107, 470, 21, 471, 119, 471, 21, 329, 210, 329, 21, 471, 119, 324, 1, 0, 49, 266, 89]\n",
      "patient_162, [44, 333, 7, 335, 0, 1, 152, 1, 302, 74, 301, 104, 11, 309, 71, 309, 11, 104, 301, 74, 302, 1, 0, 49, 266, 89]\n",
      "patient_163, [44, 333, 7, 335, 0, 1, 152, 1, 302, 74, 301, 104, 11, 306, 85, 306, 11, 104, 301, 74, 302, 1, 0, 338, 76, 336, 43, 336, 76, 338, 0, 49, 266, 89]\n",
      "patient_164, [44, 333, 7, 335, 0, 1, 152, 1, 302, 74, 301, 104, 11, 308, 138, 308, 11, 104, 301, 74, 302, 1, 0, 49, 266, 89]\n",
      "patient_165, [44, 333, 7, 335, 0, 1, 324, 119, 471, 21, 470, 107, 470, 21, 471, 119, 471, 21, 472, 211, 472, 21, 471, 119, 324, 1, 0, 49, 266, 89]\n",
      "patient_166, [44, 333, 7, 335, 0, 1, 152, 1, 302, 74, 301, 104, 11, 309, 71, 309, 11, 104, 301, 74, 302, 1, 0, 49, 266, 89]\n",
      "patient_167, [44, 333, 7, 335, 0, 1, 324, 119, 471, 21, 470, 107, 470, 21, 471, 119, 471, 21, 327, 209, 327, 21, 471, 119, 324, 1, 0, 49, 266, 89]\n",
      "patient_168, [44, 333, 7, 335, 0, 1, 324, 119, 471, 21, 470, 107, 470, 21, 471, 119, 471, 21, 328, 86, 328, 21, 471, 119, 324, 1, 0, 49, 266, 89]\n",
      "patient_169, [44, 333, 7, 335, 0, 1, 152, 1, 302, 74, 301, 104, 11, 312, 170, 312, 11, 104, 301, 74, 302, 1, 0, 49, 266, 89]\n",
      "patient_170, [44, 333, 7, 335, 0, 1, 152, 1, 302, 74, 301, 104, 11, 307, 208, 307, 11, 104, 301, 74, 302, 1, 0, 49, 266, 89]\n",
      "patient_171, [44, 333, 7, 335, 0, 1, 152, 1, 302, 74, 301, 104, 11, 307, 208, 307, 11, 104, 301, 74, 302, 1, 0, 49, 266, 89]\n",
      "patient_172, [44, 333, 7, 335, 0, 1, 152, 1, 302, 74, 301, 104, 11, 312, 170, 312, 11, 104, 301, 74, 302, 1, 0, 49, 266, 89]\n",
      "patient_173, [44, 333, 7, 335, 0, 1, 324, 119, 471, 21, 470, 107, 470, 21, 471, 119, 471, 21, 329, 210, 329, 21, 471, 119, 324, 1, 0, 49, 266, 89]\n",
      "patient_174, [44, 333, 7, 335, 0, 1, 152, 1, 302, 74, 301, 104, 11, 306, 85, 306, 11, 104, 301, 74, 302, 1, 0, 338, 76, 336, 43, 336, 76, 338, 0, 49, 266, 89]\n",
      "patient_175, [44, 333, 7, 335, 0, 1, 324, 119, 471, 21, 470, 107, 470, 21, 471, 119, 471, 21, 327, 209, 327, 21, 471, 119, 324, 1, 0, 49, 266, 89]\n",
      "patient_176, [44, 333, 7, 335, 0, 1, 324, 119, 471, 21, 470, 107, 470, 21, 471, 119, 471, 21, 327, 209, 327, 21, 471, 119, 324, 1, 0, 49, 266, 89]\n",
      "patient_177, [44, 333, 7, 335, 0, 1, 152, 1, 302, 74, 301, 104, 11, 309, 71, 309, 11, 104, 301, 74, 302, 1, 0, 49, 266, 89]\n",
      "patient_178, [44, 333, 7, 335, 0, 1, 152, 1, 302, 74, 301, 104, 11, 308, 138, 308, 11, 104, 301, 74, 302, 1, 0, 49, 266, 89]\n",
      "patient_179, [44, 333, 7, 335, 0, 1, 152, 1, 302, 74, 301, 104, 11, 309, 71, 309, 11, 104, 301, 74, 302, 1, 0, 49, 266, 89]\n",
      "patient_180, [44, 333, 7, 335, 0, 1, 152, 1, 302, 74, 301, 104, 11, 307, 208, 307, 11, 104, 301, 74, 302, 1, 0, 49, 266, 89]\n",
      "patient_181, [44, 333, 7, 335, 0, 1, 152, 1, 302, 74, 301, 104, 11, 308, 138, 308, 11, 104, 301, 74, 302, 1, 0, 49, 266, 89]\n",
      "patient_182, [44, 333, 7, 335, 0, 1, 324, 119, 471, 21, 470, 107, 470, 21, 471, 119, 471, 21, 330, 139, 330, 21, 471, 119, 324, 1, 0, 49, 266, 89]\n",
      "patient_183, [44, 333, 7, 335, 0, 1, 324, 119, 471, 21, 470, 107, 470, 21, 471, 119, 471, 21, 328, 86, 328, 21, 471, 119, 324, 1, 0, 49, 266, 89]\n",
      "patient_184, [44, 333, 7, 335, 0, 1, 324, 119, 471, 21, 470, 107, 470, 21, 471, 119, 471, 21, 330, 139, 330, 21, 471, 119, 324, 1, 0, 49, 266, 89]\n",
      "patient_185, [44, 333, 7, 335, 0, 1, 324, 119, 471, 21, 470, 107, 470, 21, 471, 119, 471, 21, 472, 211, 472, 21, 471, 119, 324, 1, 0, 49, 266, 89]\n",
      "patient_186, [44, 333, 7, 335, 0, 1, 152, 1, 302, 74, 301, 104, 11, 306, 85, 306, 11, 104, 301, 74, 302, 1, 0, 49, 266, 89]\n",
      "patient_187, [44, 333, 7, 335, 0, 1, 324, 119, 471, 21, 470, 107, 470, 21, 471, 119, 471, 21, 330, 139, 330, 21, 471, 119, 324, 1, 0, 49, 266, 89]\n",
      "patient_188, [44, 333, 7, 335, 0, 1, 152, 1, 302, 74, 301, 104, 11, 308, 138, 308, 11, 104, 301, 74, 302, 1, 0, 49, 266, 89]\n",
      "patient_189, [44, 333, 7, 335, 0, 1, 324, 119, 471, 21, 470, 107, 470, 21, 471, 119, 471, 21, 472, 211, 472, 21, 471, 119, 324, 1, 0, 49, 266, 89]\n",
      "patient_190, [44, 333, 7, 335, 0, 1, 152, 1, 302, 74, 301, 104, 11, 312, 170, 312, 11, 104, 301, 74, 302, 1, 0, 49, 266, 89]\n",
      "patient_191, [44, 333, 7, 335, 0, 1, 152, 1, 302, 74, 301, 104, 11, 313, 207, 313, 11, 104, 301, 74, 302, 1, 0, 49, 266, 89]\n",
      "patient_192, [44, 333, 7, 335, 0, 1, 324, 119, 471, 21, 470, 107, 470, 21, 471, 119, 471, 21, 472, 211, 472, 21, 471, 119, 324, 1, 0, 49, 266, 89]\n",
      "patient_193, [44, 333, 7, 335, 0, 1, 152, 1, 302, 74, 301, 104, 11, 309, 71, 309, 11, 104, 301, 74, 302, 1, 0, 338, 76, 336, 43, 336, 76, 338, 0, 49, 266, 89]\n",
      "patient_194, [44, 333, 7, 335, 0, 1, 152, 1, 302, 74, 301, 104, 11, 313, 207, 313, 11, 104, 301, 74, 302, 1, 0, 49, 266, 89]\n",
      "patient_195, [44, 333, 7, 335, 0, 1, 324, 119, 471, 21, 470, 107, 470, 21, 471, 119, 471, 21, 472, 211, 472, 21, 471, 119, 324, 1, 0, 49, 266, 89]\n",
      "patient_196, [44, 333, 7, 335, 0, 1, 152, 1, 302, 74, 301, 104, 11, 308, 138, 308, 11, 104, 301, 74, 302, 1, 0, 49, 266, 89]\n",
      "patient_197, [44, 333, 7, 335, 0, 1, 152, 1, 302, 74, 301, 104, 11, 313, 207, 313, 11, 104, 301, 74, 302, 1, 0, 49, 266, 89]\n",
      "patient_198, [44, 333, 7, 335, 0, 1, 152, 1, 302, 74, 301, 104, 11, 306, 85, 306, 11, 104, 301, 74, 302, 1, 0, 49, 266, 89]\n",
      "patient_199, [44, 333, 7, 335, 0, 1, 324, 119, 471, 21, 470, 107, 470, 21, 471, 119, 471, 21, 328, 86, 328, 21, 471, 119, 324, 1, 0, 49, 266, 89]\n"
     ]
    }
   ],
   "source": [
    "env.process(generate_patients(env, 200))  # Simulate the hospital with 20 patients\n",
    "env.run(until=14400)  # Run the simulation for 1440 time units\n",
    "\n",
    "'''# After simulation, you can analyze the collected data\n",
    "average_walking_distance = np.mean(walking_distances)\n",
    "average_patient_waiting_time = np.mean(patient_waiting_times)\n",
    "\n",
    "print(\"Average waiting times at each node:\", {node: np.mean(waiting_times[node]) for node in waiting_times if waiting_times[node]})\n",
    "print(\"Average patient walking distance:\", average_walking_distance)\n",
    "print(\"Average patient waiting time:\", average_patient_waiting_time)\n",
    "print(\"Average crowding at each node:\", {node: np.mean(crowding[node]) for node in crowding if crowding[node]})'''\n",
    "'''for key, value in patient_journeys.items():\n",
    "    print(f\"{key}, {value}\")'''\n",
    "\n",
    "def extract_patient_number(key):\n",
    "    return int(key.split('_')[1])\n",
    "\n",
    "# Sort by the extracted numeric part of the keys\n",
    "for key in sorted(patient_journeys.keys(), key=extract_patient_number):\n",
    "    print(f\"{key}, {patient_journeys[key]}\")"
   ]
  },
  {
   "cell_type": "markdown",
   "metadata": {},
   "source": [
    "# Assessing Difficulty in wayfinding \n",
    "### - by calculating extra walking distance"
   ]
  },
  {
   "cell_type": "markdown",
   "metadata": {},
   "source": [
    "### load the random patient paths"
   ]
  },
  {
   "cell_type": "code",
   "execution_count": 37,
   "metadata": {},
   "outputs": [],
   "source": [
    "with open('C:/Users/SID-DRW/OneDrive - Delft University of Technology/Documents/GitHub/HDES/Data/all_random_medical_path_1.pkl', 'rb') as f:\n",
    "    all_real_medical_random_path_1 = pickle.load(f)\n",
    "\n",
    "with open('C:/Users/SID-DRW/OneDrive - Delft University of Technology/Documents/GitHub/HDES/Data/all_random_medical_path_2.pkl', 'rb') as f:\n",
    "    all_real_medical_random_path_2 = pickle.load(f)\n",
    "\n",
    "with open('C:/Users/SID-DRW/OneDrive - Delft University of Technology/Documents/GitHub/HDES/Data/all_random_medical_path_3.pkl', 'rb') as f:\n",
    "    all_real_medical_random_path_3 = pickle.load(f)\n",
    "\n",
    "with open('C:/Users/SID-DRW/OneDrive - Delft University of Technology/Documents/GitHub/HDES/Data/all_random_pediatric_path_1.pkl', 'rb') as f:\n",
    "    all_real_pediatric_random_path_1 = pickle.load(f)\n",
    "\n",
    "with open('C:/Users/SID-DRW/OneDrive - Delft University of Technology/Documents/GitHub/HDES/Data/all_random_pediatric_path_2.pkl', 'rb') as f:\n",
    "    all_real_pediatric_random_path_2 = pickle.load(f)\n",
    "\n",
    "with open('C:/Users/SID-DRW/OneDrive - Delft University of Technology/Documents/GitHub/HDES/Data/all_random_pediatric_path_3.pkl', 'rb') as f:\n",
    "    all_real_pediatric_random_path_3 = pickle.load(f)"
   ]
  },
  {
   "cell_type": "code",
   "execution_count": 38,
   "metadata": {},
   "outputs": [],
   "source": [
    "# Function for calulating total distance of the path\n",
    "\n",
    "import math\n",
    "\n",
    "def calculate_path_distance(path, G):\n",
    "    total_distance = 0.0\n",
    "\n",
    "    # Iterate through consecutive nodes in the path\n",
    "    for i in range(len(path) - 1):\n",
    "        node1 = path[i]\n",
    "        node2 = path[i + 1]\n",
    "        \n",
    "        # Get the 3D coordinates of both nodes\n",
    "        x1, y1, z1 = G.nodes[node1]['coords']\n",
    "        x2, y2, z2 = G.nodes[node2]['coords']\n",
    "        \n",
    "        # Calculate the Euclidean distance between node1 and node2\n",
    "        distance = math.sqrt((x2 - x1) ** 2 + (y2 - y1) ** 2 + (z2 - z1) ** 2)\n",
    "        \n",
    "        # Add the distance to the total distance\n",
    "        total_distance += distance\n",
    "\n",
    "    return total_distance\n"
   ]
  },
  {
   "cell_type": "code",
   "execution_count": 39,
   "metadata": {},
   "outputs": [],
   "source": [
    "# Function for calulating average distance of multiple paths\n",
    "\n",
    "def get_total_distance_allPath(all_path,G):\n",
    "    distances = []\n",
    "    for path in all_path:\n",
    "        single_distance = calculate_path_distance(path,G)\n",
    "        distances.append(single_distance)\n",
    "    final_total_distance = sum(distances)\n",
    "    average = final_total_distance / len(distances)\n",
    "\n",
    "    return average"
   ]
  },
  {
   "cell_type": "code",
   "execution_count": 40,
   "metadata": {},
   "outputs": [
    {
     "name": "stdout",
     "output_type": "stream",
     "text": [
      "23141.449648023747\n",
      "23058.27357882498\n",
      "26397.760674019144\n",
      "19178.86220665456\n",
      "34448.596146145515\n",
      "19178.86220665456\n"
     ]
    }
   ],
   "source": [
    "# Average distance of the random paths\n",
    "all_distance_m1 = get_total_distance_allPath(all_real_medical_random_path_1,G)\n",
    "print(all_distance_m1)\n",
    "\n",
    "all_distance_m2 = get_total_distance_allPath(all_real_medical_random_path_2,G)\n",
    "print(all_distance_m2)\n",
    "\n",
    "all_distance_m3 = get_total_distance_allPath(all_real_medical_random_path_3,G)\n",
    "print(all_distance_m3)\n",
    "\n",
    "all_distance_p1 = get_total_distance_allPath(all_real_pediatric_random_path_1,G)\n",
    "print(all_distance_p1)  \n",
    "\n",
    "all_distance_p2 = get_total_distance_allPath(all_real_pediatric_random_path_2,G)\n",
    "print(all_distance_p2) \n",
    "\n",
    "all_distance_p3 = get_total_distance_allPath(all_real_pediatric_random_path_1,G)\n",
    "print(all_distance_p3) "
   ]
  },
  {
   "cell_type": "code",
   "execution_count": 41,
   "metadata": {},
   "outputs": [
    {
     "name": "stdout",
     "output_type": "stream",
     "text": [
      "155.7344233731371\n",
      "179.05542790783412\n",
      "191.19252675596076\n",
      "149.22439960211142\n",
      "172.54540413680843\n",
      "184.68250298493507\n"
     ]
    }
   ],
   "source": [
    "# average distance of shortest paths\n",
    "\n",
    "all_shortest_distance_m1 = get_total_distance_allPath(all_real_medical_path_1,G)\n",
    "print(all_shortest_distance_m1)\n",
    "\n",
    "all_shortest_distance_m2 = get_total_distance_allPath(all_real_medical_path_2,G)\n",
    "print(all_shortest_distance_m2)\n",
    "\n",
    "all_shortest_distance_m3 = get_total_distance_allPath(all_real_medical_path_3,G)\n",
    "print(all_shortest_distance_m3)\n",
    "\n",
    "all_shortest_distance_p1 = get_total_distance_allPath(all_real_pediatric_path_1,G)\n",
    "print(all_shortest_distance_p1)\n",
    "\n",
    "all_shortest_distance_p2 = get_total_distance_allPath(all_real_pediatric_path_2,G)\n",
    "print(all_shortest_distance_p2)\n",
    "\n",
    "all_shortest_distance_p3 = get_total_distance_allPath(all_real_pediatric_path_3,G)\n",
    "print(all_shortest_distance_p3)"
   ]
  },
  {
   "cell_type": "markdown",
   "metadata": {},
   "source": [
    "### Extra walking distance"
   ]
  },
  {
   "cell_type": "code",
   "execution_count": 42,
   "metadata": {},
   "outputs": [],
   "source": [
    "def get_extra_walking_distance(random_d1,random_d2,random_d3,\n",
    "                               random_p1,random_p2,random_p3,\n",
    "                               shortest_d1,shortest_d2,shortest_d3,\n",
    "                               shortest_p1,shortest_p2,shortest_p3):\n",
    "    random_average_distance = 0.49*random_d1+0.05*random_d2+0.01*random_d3+0.39*random_p1+0.05*random_p2+0.01*random_p3\n",
    "    shortest_average_distance = 0.49*shortest_d1+0.05*shortest_d2+0.01*shortest_d3+0.39*shortest_p1+0.05*shortest_p2+0.01*shortest_p3\n",
    "\n",
    "    extra_distance = random_average_distance - shortest_average_distance\n",
    "\n",
    "    return extra_distance"
   ]
  },
  {
   "cell_type": "code",
   "execution_count": 43,
   "metadata": {},
   "outputs": [
    {
     "name": "stdout",
     "output_type": "stream",
     "text": [
      "21994.330127984875\n"
     ]
    }
   ],
   "source": [
    "extra_distance = get_extra_walking_distance(all_distance_m1,all_distance_m2,all_distance_m3,\n",
    "                                            all_distance_p1,all_distance_p2,all_distance_p3,\n",
    "                                            all_shortest_distance_m1,all_shortest_distance_m2,all_shortest_distance_m3,\n",
    "                                            all_shortest_distance_p1,all_shortest_distance_p2,all_shortest_distance_p3)\n",
    "\n",
    "print(extra_distance)"
   ]
  },
  {
   "cell_type": "markdown",
   "metadata": {},
   "source": [
    "# Collect simulation results"
   ]
  },
  {
   "cell_type": "code",
   "execution_count": 44,
   "metadata": {},
   "outputs": [
    {
     "name": "stdout",
     "output_type": "stream",
     "text": [
      "Average waiting times at each node: {0: 0.0, 1: 0.0, 7: 0.0, 11: 0.0, 21: 0.0, 43: 0.23932945496956867, 44: 532.9887060663452, 49: 0.0, 71: 2.4460166497707703, 74: 0.0, 76: 0.0, 77: 0.0, 85: 0.0715785943418723, 86: 0.0, 89: 19.944181420418815, 104: 57.46115522001768, 107: 3.677809176371903, 119: 0.0, 138: 0.0, 139: 1.1761503120313137, 152: 11.072624467599818, 170: 0.0, 207: 0.8937477017209119, 208: 0.0, 209: 0.34467920568472654, 210: 0.0, 211: 0.35103914120169905, 266: 17.946356492004362, 301: 72.06714894991859, 302: 61.32048769947143, 306: 1.3893495747011286, 307: 4.307955373651733, 308: 9.177016595158731, 309: 1.0511418210841037, 312: 1.3346468407024683, 313: 3.975101999875446, 324: 15.994760448200312, 327: 1.1983236403359894, 328: 2.1898173491486355, 329: 0.0, 330: 0.5311594553134152, 333: 36.16289517730533, 335: 60.20592635793768, 336: 3.0006386914487724, 338: 0.941108730976061, 350: 0.0, 470: 30.477619044002406, 471: 376.2799445609714, 472: 0.40664702662625657}\n",
      "Average patient walking distance: 156.76432596000055\n",
      "Average patient waiting time: 1621.4640768852319\n",
      "Average crowding at each node: {0: 0.017215633723826982, 1: 0.014337120077658841, 7: 0.0669330553100023, 11: 0.06760808559676346, 21: 0.06796907521659293, 43: 0.11983665239989875, 44: 1.4354363042593081, 49: 0.08089654470609861, 71: 0.09307751990498221, 74: 0.27854083923652667, 76: 0.2180444897976983, 77: 0.03541993301614623, 85: 0.09125156173671607, 86: 0.08421299419974582, 89: 0.41581232004188107, 104: 0.44017845927412036, 107: 0.13402717422912422, 119: 0.14605484792154524, 138: 0.08370714152500348, 139: 0.08998797198269486, 152: 0.3843463038800743, 170: 0.08414772561037938, 207: 0.0920672486570012, 208: 0.08370714152500348, 209: 0.08868309251681424, 210: 0.08370714152500348, 211: 0.08692663976465612, 266: 0.0, 301: 0.0, 302: 0.0, 306: 0.0, 307: 0.0, 308: 0.0, 309: 0.0, 312: 0.0, 313: 0.0, 324: 0.0, 327: 0.0, 328: 0.0, 329: 0.0, 330: 0.0, 333: 0.0, 335: 0.0, 336: 0.0, 338: 0.0, 350: 0.0, 470: 0.0, 471: 0.0, 472: 0.0}\n",
      "Average extra walking distance: 21994.330127984875\n"
     ]
    }
   ],
   "source": [
    "# After simulation, analyze the collected data\n",
    "average_walking_distance = np.mean(walking_distances)\n",
    "average_patient_waiting_time = np.mean(patient_waiting_times)\n",
    "\n",
    "print(\"Average waiting times at each node:\", {node: np.mean(waiting_times[node]) for node in waiting_times if waiting_times[node]})\n",
    "print(\"Average patient walking distance:\", average_walking_distance)\n",
    "print(\"Average patient waiting time:\", average_patient_waiting_time)\n",
    "print(\"Average crowding at each node:\", {node: np.mean(crowding[node]) for node in crowding if crowding[node]})\n",
    "print(\"Average extra walking distance:\", extra_distance)\n"
   ]
  }
 ],
 "metadata": {
  "kernelspec": {
   "display_name": "HDSS",
   "language": "python",
   "name": "python3"
  },
  "language_info": {
   "codemirror_mode": {
    "name": "ipython",
    "version": 3
   },
   "file_extension": ".py",
   "mimetype": "text/x-python",
   "name": "python",
   "nbconvert_exporter": "python",
   "pygments_lexer": "ipython3",
   "version": "3.11.5"
  }
 },
 "nbformat": 4,
 "nbformat_minor": 2
}
