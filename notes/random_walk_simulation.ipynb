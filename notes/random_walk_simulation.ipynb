{
 "cells": [
  {
   "cell_type": "code",
   "execution_count": 3,
   "metadata": {},
   "outputs": [],
   "source": [
    "import random\n",
    "import networkx as nx\n",
    "\n",
    "def get_single_real_path_random(path, G):\n",
    "    real_path_1 = []\n",
    "\n",
    "    # Helper function for random walk\n",
    "    def random_walk(source, target, G):\n",
    "        current_node = source\n",
    "        walk_path = [current_node]\n",
    "\n",
    "        # Continue walking until you reach the target node\n",
    "        while current_node != target:\n",
    "            neighbors = list(G.neighbors(current_node))\n",
    "            \n",
    "            # If no neighbors exist (disconnected node), break out\n",
    "            if not neighbors:\n",
    "                break\n",
    "            \n",
    "            # Randomly choose the next node\n",
    "            current_node = random.choice(neighbors)\n",
    "            walk_path.append(current_node)\n",
    "        \n",
    "        return walk_path\n",
    "\n",
    "    for i in range(len(path) - 1):\n",
    "        start = path[i]\n",
    "        end = path[i + 1]\n",
    "\n",
    "        # Perform a random walk from start to end\n",
    "        random_path = random_walk(start, end, G)\n",
    "\n",
    "        # Add the random path to real_path_1\n",
    "        if i > 0:\n",
    "            real_path_1.extend(random_path[1:])  # Skip first node if not first pair\n",
    "        else:\n",
    "            real_path_1.extend(random_path)\n",
    "\n",
    "    return real_path_1\n"
   ]
  },
  {
   "cell_type": "code",
   "execution_count": null,
   "metadata": {},
   "outputs": [],
   "source": [
    "def get_all_real_paths_random(all_id_path,G):\n",
    "\n",
    "    real_paths = []\n",
    "    for path in all_id_path:\n",
    "        real_path = get_single_real_path_random(path, G)\n",
    "        real_paths.append(real_path)\n",
    "\n",
    "    return real_paths"
   ]
  }
 ],
 "metadata": {
  "kernelspec": {
   "display_name": "HDSS",
   "language": "python",
   "name": "python3"
  },
  "language_info": {
   "codemirror_mode": {
    "name": "ipython",
    "version": 3
   },
   "file_extension": ".py",
   "mimetype": "text/x-python",
   "name": "python",
   "nbconvert_exporter": "python",
   "pygments_lexer": "ipython3",
   "version": "3.11.5"
  }
 },
 "nbformat": 4,
 "nbformat_minor": 2
}
