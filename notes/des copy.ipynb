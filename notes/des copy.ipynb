{
 "cells": [
  {
   "cell_type": "markdown",
   "metadata": {},
   "source": [
    "# DES script for simulating hospital operations"
   ]
  },
  {
   "cell_type": "code",
   "execution_count": 420,
   "metadata": {},
   "outputs": [],
   "source": [
    "import simpy\n",
    "import networkx as nx\n",
    "import numpy as np\n",
    "import random\n",
    "import pickle\n",
    "import json"
   ]
  },
  {
   "cell_type": "markdown",
   "metadata": {},
   "source": [
    "## Load the graph"
   ]
  },
  {
   "cell_type": "code",
   "execution_count": 421,
   "metadata": {},
   "outputs": [],
   "source": [
    "with open('C:/Users/SID-DRW/OneDrive - Delft University of Technology/Documents/GitHub/HDES/Data/edited_graph.pkl', 'rb') as f:\n",
    "    G = pickle.load(f)"
   ]
  },
  {
   "cell_type": "markdown",
   "metadata": {},
   "source": [
    "## Load the shortest patient paths"
   ]
  },
  {
   "cell_type": "code",
   "execution_count": 422,
   "metadata": {},
   "outputs": [],
   "source": [
    "with open('C:/Users/SID-DRW/OneDrive - Delft University of Technology/Documents/GitHub/HDES/Data/all_real_medical_path_1.pkl', 'rb') as f:\n",
    "    all_real_medical_path_1 = pickle.load(f)\n",
    "\n",
    "with open('C:/Users/SID-DRW/OneDrive - Delft University of Technology/Documents/GitHub/HDES/Data/all_real_medical_path_2.pkl', 'rb') as f:\n",
    "    all_real_medical_path_2 = pickle.load(f)\n",
    "\n",
    "with open('C:/Users/SID-DRW/OneDrive - Delft University of Technology/Documents/GitHub/HDES/Data/all_real_medical_path_3.pkl', 'rb') as f:\n",
    "    all_real_medical_path_3 = pickle.load(f)\n",
    "\n",
    "with open('C:/Users/SID-DRW/OneDrive - Delft University of Technology/Documents/GitHub/HDES/Data/all_real_pediatric_path_1.pkl', 'rb') as f:\n",
    "    all_real_pediatric_path_1 = pickle.load(f)\n",
    "\n",
    "with open('C:/Users/SID-DRW/OneDrive - Delft University of Technology/Documents/GitHub/HDES/Data/all_real_pediatric_path_2.pkl', 'rb') as f:\n",
    "    all_real_pediatric_path_2 = pickle.load(f)\n",
    "\n",
    "with open('C:/Users/SID-DRW/OneDrive - Delft University of Technology/Documents/GitHub/HDES/Data/all_real_pediatric_path_3.pkl', 'rb') as f:\n",
    "    all_real_pediatric_path_3 = pickle.load(f)"
   ]
  },
  {
   "cell_type": "code",
   "execution_count": 423,
   "metadata": {},
   "outputs": [
    {
     "name": "stdout",
     "output_type": "stream",
     "text": [
      "[[44, 333, 7, 335, 0, 1, 152, 1, 302, 74, 301, 104, 301, 74, 302, 1, 0, 49, 266, 89], [44, 333, 7, 335, 0, 1, 152, 1, 302, 74, 301, 104, 11, 313, 207, 313, 11, 104, 301, 74, 302, 1, 0, 49, 266, 89], [44, 333, 7, 335, 0, 1, 152, 1, 302, 74, 301, 104, 11, 307, 208, 307, 11, 104, 301, 74, 302, 1, 0, 49, 266, 89], [44, 333, 7, 335, 0, 1, 152, 1, 302, 74, 301, 104, 11, 312, 170, 312, 11, 104, 301, 74, 302, 1, 0, 49, 266, 89], [44, 333, 7, 335, 0, 1, 152, 1, 302, 74, 301, 104, 11, 309, 71, 309, 11, 104, 301, 74, 302, 1, 0, 49, 266, 89], [44, 333, 7, 335, 0, 1, 152, 1, 302, 74, 301, 104, 11, 308, 138, 308, 11, 104, 301, 74, 302, 1, 0, 49, 266, 89], [44, 333, 7, 335, 0, 1, 152, 1, 302, 74, 301, 104, 11, 306, 85, 306, 11, 104, 301, 74, 302, 1, 0, 49, 266, 89]]\n",
      "[[44, 333, 7, 335, 0, 1, 152, 1, 302, 74, 301, 104, 301, 74, 302, 1, 0, 338, 76, 336, 43, 336, 76, 338, 0, 49, 266, 89], [44, 333, 7, 335, 0, 1, 152, 1, 302, 74, 301, 104, 11, 313, 207, 313, 11, 104, 301, 74, 302, 1, 0, 338, 76, 336, 43, 336, 76, 338, 0, 49, 266, 89], [44, 333, 7, 335, 0, 1, 152, 1, 302, 74, 301, 104, 11, 307, 208, 307, 11, 104, 301, 74, 302, 1, 0, 338, 76, 336, 43, 336, 76, 338, 0, 49, 266, 89], [44, 333, 7, 335, 0, 1, 152, 1, 302, 74, 301, 104, 11, 312, 170, 312, 11, 104, 301, 74, 302, 1, 0, 338, 76, 336, 43, 336, 76, 338, 0, 49, 266, 89], [44, 333, 7, 335, 0, 1, 152, 1, 302, 74, 301, 104, 11, 309, 71, 309, 11, 104, 301, 74, 302, 1, 0, 338, 76, 336, 43, 336, 76, 338, 0, 49, 266, 89], [44, 333, 7, 335, 0, 1, 152, 1, 302, 74, 301, 104, 11, 308, 138, 308, 11, 104, 301, 74, 302, 1, 0, 338, 76, 336, 43, 336, 76, 338, 0, 49, 266, 89], [44, 333, 7, 335, 0, 1, 152, 1, 302, 74, 301, 104, 11, 306, 85, 306, 11, 104, 301, 74, 302, 1, 0, 338, 76, 336, 43, 336, 76, 338, 0, 49, 266, 89]]\n",
      "[[44, 333, 7, 335, 0, 1, 152, 1, 302, 74, 301, 104, 301, 74, 302, 1, 0, 335, 7, 350, 77, 350, 7, 335, 0, 49, 266, 89], [44, 333, 7, 335, 0, 1, 152, 1, 302, 74, 301, 104, 11, 313, 207, 313, 11, 104, 301, 74, 302, 1, 0, 335, 7, 350, 77, 350, 7, 335, 0, 49, 266, 89], [44, 333, 7, 335, 0, 1, 152, 1, 302, 74, 301, 104, 11, 307, 208, 307, 11, 104, 301, 74, 302, 1, 0, 335, 7, 350, 77, 350, 7, 335, 0, 49, 266, 89], [44, 333, 7, 335, 0, 1, 152, 1, 302, 74, 301, 104, 11, 312, 170, 312, 11, 104, 301, 74, 302, 1, 0, 335, 7, 350, 77, 350, 7, 335, 0, 49, 266, 89], [44, 333, 7, 335, 0, 1, 152, 1, 302, 74, 301, 104, 11, 309, 71, 309, 11, 104, 301, 74, 302, 1, 0, 335, 7, 350, 77, 350, 7, 335, 0, 49, 266, 89], [44, 333, 7, 335, 0, 1, 152, 1, 302, 74, 301, 104, 11, 308, 138, 308, 11, 104, 301, 74, 302, 1, 0, 335, 7, 350, 77, 350, 7, 335, 0, 49, 266, 89], [44, 333, 7, 335, 0, 1, 152, 1, 302, 74, 301, 104, 11, 306, 85, 306, 11, 104, 301, 74, 302, 1, 0, 335, 7, 350, 77, 350, 7, 335, 0, 49, 266, 89]]\n",
      "[[44, 333, 7, 335, 0, 1, 324, 119, 471, 21, 470, 107, 470, 21, 471, 119, 471, 21, 472, 211, 472, 21, 471, 119, 324, 1, 0, 49, 266, 89], [44, 333, 7, 335, 0, 1, 324, 119, 471, 21, 470, 107, 470, 21, 471, 119, 471, 21, 329, 210, 329, 21, 471, 119, 324, 1, 0, 49, 266, 89], [44, 333, 7, 335, 0, 1, 324, 119, 471, 21, 470, 107, 470, 21, 471, 119, 471, 21, 330, 139, 330, 21, 471, 119, 324, 1, 0, 49, 266, 89], [44, 333, 7, 335, 0, 1, 324, 119, 471, 21, 470, 107, 470, 21, 471, 119, 471, 21, 327, 209, 327, 21, 471, 119, 324, 1, 0, 49, 266, 89], [44, 333, 7, 335, 0, 1, 324, 119, 471, 21, 470, 107, 470, 21, 471, 119, 471, 21, 328, 86, 328, 21, 471, 119, 324, 1, 0, 49, 266, 89]]\n",
      "[[44, 333, 7, 335, 0, 1, 324, 119, 471, 21, 470, 107, 470, 21, 471, 119, 471, 21, 472, 211, 472, 21, 471, 119, 324, 1, 0, 338, 76, 336, 43, 336, 76, 338, 0, 49, 266, 89], [44, 333, 7, 335, 0, 1, 324, 119, 471, 21, 470, 107, 470, 21, 471, 119, 471, 21, 329, 210, 329, 21, 471, 119, 324, 1, 0, 338, 76, 336, 43, 336, 76, 338, 0, 49, 266, 89], [44, 333, 7, 335, 0, 1, 324, 119, 471, 21, 470, 107, 470, 21, 471, 119, 471, 21, 330, 139, 330, 21, 471, 119, 324, 1, 0, 338, 76, 336, 43, 336, 76, 338, 0, 49, 266, 89], [44, 333, 7, 335, 0, 1, 324, 119, 471, 21, 470, 107, 470, 21, 471, 119, 471, 21, 327, 209, 327, 21, 471, 119, 324, 1, 0, 338, 76, 336, 43, 336, 76, 338, 0, 49, 266, 89], [44, 333, 7, 335, 0, 1, 324, 119, 471, 21, 470, 107, 470, 21, 471, 119, 471, 21, 328, 86, 328, 21, 471, 119, 324, 1, 0, 338, 76, 336, 43, 336, 76, 338, 0, 49, 266, 89]]\n",
      "[[44, 333, 7, 335, 0, 1, 324, 119, 471, 21, 470, 107, 470, 21, 471, 119, 471, 21, 472, 211, 472, 21, 471, 119, 324, 1, 0, 335, 7, 350, 77, 350, 7, 335, 0, 49, 266, 89], [44, 333, 7, 335, 0, 1, 324, 119, 471, 21, 470, 107, 470, 21, 471, 119, 471, 21, 329, 210, 329, 21, 471, 119, 324, 1, 0, 335, 7, 350, 77, 350, 7, 335, 0, 49, 266, 89], [44, 333, 7, 335, 0, 1, 324, 119, 471, 21, 470, 107, 470, 21, 471, 119, 471, 21, 330, 139, 330, 21, 471, 119, 324, 1, 0, 335, 7, 350, 77, 350, 7, 335, 0, 49, 266, 89], [44, 333, 7, 335, 0, 1, 324, 119, 471, 21, 470, 107, 470, 21, 471, 119, 471, 21, 327, 209, 327, 21, 471, 119, 324, 1, 0, 335, 7, 350, 77, 350, 7, 335, 0, 49, 266, 89], [44, 333, 7, 335, 0, 1, 324, 119, 471, 21, 470, 107, 470, 21, 471, 119, 471, 21, 328, 86, 328, 21, 471, 119, 324, 1, 0, 335, 7, 350, 77, 350, 7, 335, 0, 49, 266, 89]]\n"
     ]
    }
   ],
   "source": [
    "print(all_real_medical_path_1)\n",
    "print(all_real_medical_path_2)\n",
    "print(all_real_medical_path_3)\n",
    "print(all_real_pediatric_path_1)\n",
    "print(all_real_pediatric_path_2)\n",
    "print(all_real_pediatric_path_3)"
   ]
  },
  {
   "cell_type": "code",
   "execution_count": 424,
   "metadata": {},
   "outputs": [
    {
     "name": "stdout",
     "output_type": "stream",
     "text": [
      "[44, 333, 7, 335, 0, 1, 152, 1, 302, 74, 301, 104, 301, 74, 302, 1, 0, 49, 266, 89]\n",
      "[44, 333, 7, 335, 0, 1, 152, 1, 302, 74, 301, 104, 11, 313, 207, 313, 11, 104, 301, 74, 302, 1, 0, 49, 266, 89]\n",
      "[44, 333, 7, 335, 0, 1, 152, 1, 302, 74, 301, 104, 11, 307, 208, 307, 11, 104, 301, 74, 302, 1, 0, 49, 266, 89]\n",
      "7\n",
      "7\n",
      "7\n",
      "5\n",
      "5\n",
      "5\n"
     ]
    }
   ],
   "source": [
    "print(all_real_medical_path_1[0])\n",
    "print(all_real_medical_path_1[1])\n",
    "print(all_real_medical_path_1[2])\n",
    "print(len(all_real_medical_path_1))\n",
    "print(len(all_real_medical_path_2))\n",
    "print(len(all_real_medical_path_3))\n",
    "print(len(all_real_pediatric_path_1))\n",
    "print(len(all_real_pediatric_path_2))\n",
    "print(len(all_real_pediatric_path_3))"
   ]
  },
  {
   "cell_type": "markdown",
   "metadata": {},
   "source": [
    "# DES starts"
   ]
  },
  {
   "cell_type": "markdown",
   "metadata": {},
   "source": [
    "### Initialize SimPy environment"
   ]
  },
  {
   "cell_type": "code",
   "execution_count": 425,
   "metadata": {},
   "outputs": [],
   "source": [
    "env = simpy.Environment()"
   ]
  },
  {
   "cell_type": "markdown",
   "metadata": {},
   "source": [
    "### Calculate each node's capacity (how many patients can it serve at one time)"
   ]
  },
  {
   "cell_type": "markdown",
   "metadata": {},
   "source": [
    "#### - waiting area and corridors' capacities are 1m² per person, all other nodes' capacites are 1."
   ]
  },
  {
   "cell_type": "code",
   "execution_count": 426,
   "metadata": {},
   "outputs": [
    {
     "name": "stdout",
     "output_type": "stream",
     "text": [
      "{0: 127, 1: 178, 2: 1, 3: 50, 4: 1, 5: 1, 6: 25, 7: 27, 8: 1, 9: 40, 10: 1, 11: 29, 12: 1, 13: 1, 14: 41, 15: 24, 16: 20, 17: 1, 18: 39, 19: 10, 20: 1, 21: 29, 22: 27, 23: 1, 24: 31, 25: 16, 26: 19, 27: 28, 28: 15, 29: 1, 30: 13, 31: 12, 32: 1, 33: 13, 34: 1, 35: 14, 36: 17, 37: 1, 38: 10, 39: 1, 40: 1, 41: 1, 42: 1, 43: 1, 44: 1, 45: 1, 46: 1, 47: 11, 48: 1, 49: 19, 50: 1, 51: 13, 52: 1, 53: 7, 54: 20, 55: 1, 56: 1, 57: 1, 58: 1, 59: 1, 60: 1, 61: 1, 62: 1, 63: 8, 64: 1, 65: 1, 66: 1, 67: 1, 68: 1, 69: 8, 70: 1, 71: 1, 72: 1, 73: 1, 74: 5, 75: 5, 76: 5, 77: 1, 78: 1, 79: 1, 80: 1, 81: 9, 82: 1, 83: 1, 84: 1, 85: 1, 86: 1, 87: 1, 88: 1, 89: 1, 90: 7, 91: 1, 92: 1, 93: 1, 94: 1, 95: 1, 96: 1, 97: 1, 98: 1, 99: 12, 100: 1, 101: 1, 102: 1, 103: 1, 104: 1, 105: 1, 106: 1, 107: 1, 108: 1, 109: 1, 110: 1, 111: 1, 112: 1, 113: 1, 114: 1, 115: 1, 116: 1, 117: 1, 118: 1, 119: 11, 120: 1, 121: 1, 122: 1, 123: 1, 124: 1, 125: 1, 126: 1, 127: 1, 128: 1, 129: 11, 130: 7, 131: 1, 132: 1, 133: 1, 134: 1, 135: 1, 136: 1, 137: 1, 138: 1, 139: 1, 140: 1, 141: 1, 142: 1, 143: 1, 144: 1, 145: 1, 146: 1, 147: 1, 148: 1, 149: 1, 150: 11, 151: 1, 152: 1, 153: 1, 154: 1, 155: 1, 156: 8, 157: 1, 158: 1, 159: 1, 160: 1, 161: 1, 162: 1, 163: 1, 164: 1, 165: 1, 166: 1, 167: 1, 168: 1, 169: 1, 170: 1, 171: 1, 172: 1, 173: 1, 174: 1, 175: 1, 176: 1, 177: 1, 178: 6, 179: 1, 180: 1, 181: 1, 182: 1, 183: 1, 184: 1, 185: 1, 186: 1, 187: 1, 188: 1, 189: 1, 190: 1, 191: 1, 192: 1, 193: 1, 194: 7, 195: 1, 196: 1, 197: 1, 198: 1, 199: 1, 200: 1, 201: 1, 202: 1, 203: 1, 204: 1, 205: 1, 206: 1, 207: 1, 208: 1, 209: 1, 210: 1, 211: 1, 212: 1, 213: 1, 214: 1, 215: 1, 216: 1, 217: 1, 218: 1, 219: 1, 220: 1, 221: 1, 222: 7, 223: 1, 224: 1, 225: 1, 226: 8, 227: 1, 228: 1, 229: 1, 230: 1, 231: 1, 232: 1, 233: 1, 234: 1, 235: 1, 236: 1, 237: 1, 238: 1, 239: 1, 240: 1, 241: 1, 242: 1, 243: 1, 244: 1, 245: 1, 246: 1, 247: 1, 248: 1, 249: 1, 250: 1, 251: 1, 252: 1, 253: 1, 254: 1, 255: 1, 256: 1, 257: 1, 258: 1, 259: 1, 260: 1, 261: 1, 262: 1, 263: 1, 264: 1, 265: 1, 266: 1, 267: 1, 268: 1, 269: 1, 270: 1, 271: 1, 272: 1, 273: 1, 274: 1, 275: 1, 276: 1, 277: 1, 278: 1, 279: 1, 280: 1, 281: 1, 282: 1, 283: 1, 284: 1, 285: 1, 286: 1, 287: 1, 288: 1, 289: 1, 290: 1, 291: 1, 292: 1, 293: 1, 294: 1, 295: 1, 296: 1, 297: 1, 298: 1, 299: 1, 300: 1, 301: 1, 302: 1, 303: 1, 304: 1, 305: 1, 306: 1, 307: 1, 308: 1, 309: 1, 310: 1, 311: 1, 312: 1, 313: 1, 314: 1, 315: 1, 316: 1, 317: 1, 318: 1, 319: 1, 320: 1, 321: 1, 322: 1, 323: 1, 324: 1, 325: 1, 326: 1, 327: 1, 328: 1, 329: 1, 330: 1, 331: 1, 332: 1, 333: 1, 334: 1, 335: 1, 336: 1, 337: 1, 338: 1, 339: 1, 340: 1, 341: 1, 342: 1, 343: 1, 344: 1, 345: 1, 346: 1, 347: 1, 348: 1, 349: 1, 350: 1, 351: 1, 352: 1, 353: 1, 354: 1, 355: 1, 356: 1, 357: 1, 358: 1, 359: 1, 360: 1, 361: 1, 362: 1, 363: 1, 364: 1, 365: 1, 366: 1, 367: 1, 368: 1, 369: 1, 370: 1, 371: 1, 372: 1, 373: 1, 374: 1, 375: 1, 376: 1, 377: 1, 378: 1, 379: 1, 380: 1, 381: 1, 382: 1, 383: 1, 384: 1, 385: 1, 386: 1, 387: 1, 388: 1, 389: 1, 390: 1, 391: 1, 392: 1, 393: 1, 394: 1, 395: 1, 396: 1, 397: 1, 398: 1, 399: 1, 400: 1, 401: 1, 402: 1, 403: 1, 404: 1, 405: 1, 406: 1, 407: 1, 408: 1, 409: 1, 410: 1, 411: 1, 412: 1, 413: 1, 414: 1, 415: 1, 416: 1, 417: 1, 418: 1, 419: 1, 420: 1, 421: 1, 422: 1, 423: 1, 424: 1, 425: 1, 426: 1, 427: 1, 428: 1, 429: 1, 430: 1, 431: 1, 432: 1, 433: 1, 434: 1, 435: 1, 436: 1, 437: 1, 438: 1, 439: 1, 440: 1, 441: 1, 442: 1, 443: 1, 444: 1, 445: 1, 446: 1, 447: 1, 448: 1, 449: 1, 450: 1, 451: 1, 452: 1, 453: 1, 454: 1, 455: 1, 456: 1, 457: 1, 458: 1, 459: 1, 460: 1, 461: 1, 462: 1, 463: 1, 464: 1, 465: 1, 466: 1, 467: 1, 468: 1, 469: 1, 470: 1, 471: 1, 472: 1, 473: 1, 474: 1, 475: 1, 476: 1, 477: 1, 478: 1, 479: 1, 480: 1, 481: 1, 482: 1, 483: 1, 484: 1, 485: 1, 486: 1, 487: 1, 488: 1, 489: 1, 490: 1, 491: 1, 492: 1, 493: 1, 494: 1, 495: 1, 496: 1, 497: 1, 498: 1, 499: 1, 500: 1, 501: 1}\n"
     ]
    }
   ],
   "source": [
    "\n",
    "def get_capacity(G):\n",
    "\n",
    "    # Extract nodes with 'name' attribute containing 'CORRIDOR' or 'WAITING'\n",
    "    extracted_nodes = [node for node in G.nodes(data=True) if 'CORRIDOR' in node[1]['name'] or 'WAITING' in node[1]['name']]\n",
    "\n",
    "    # Add 'capacity' attribute to each extracted node\n",
    "    for node in extracted_nodes:\n",
    "        node_index, node_data = node\n",
    "        node_data['capacity'] = int(float(node_data['area']))  # Convert to float first, then to int\n",
    "\n",
    "    # Create the capacities dictionary\n",
    "    capacities = {}\n",
    "\n",
    "    for node in G.nodes(data=True):\n",
    "        node_index, node_data = node\n",
    "        # If 'capacity' attribute exists, use it, otherwise assign 1\n",
    "        capacities[node_index] = node_data.get('capacity', 1)\n",
    "\n",
    "    return capacities\n",
    "\n",
    "capacities = get_capacity(G)\n",
    "print(capacities)"
   ]
  },
  {
   "cell_type": "code",
   "execution_count": 427,
   "metadata": {},
   "outputs": [],
   "source": [
    "# according to capacity, Create resources at nodes\n",
    "resources = {node: simpy.Resource(env, capacity=capacities[node]) for node in G.nodes}"
   ]
  },
  {
   "cell_type": "markdown",
   "metadata": {},
   "source": [
    "### Data tracking"
   ]
  },
  {
   "cell_type": "code",
   "execution_count": 428,
   "metadata": {},
   "outputs": [],
   "source": [
    "waiting_times = {node: [] for node in G.nodes}\n",
    "walking_distances = []  # Track walking distance for each patient\n",
    "patient_waiting_times = []  # Track total waiting time for each patient\n",
    "crowding = {node: [] for node in G.nodes} #crowdedness\n",
    "patients_in_node = {node: 0 for node in G.nodes}\n",
    "patient_travel_paths = {}  # Dictionary to store each patient's journey\n",
    "\n",
    "# Track occupancy at each node over time\n",
    "occupancy = {node: [] for node in G.nodes}"
   ]
  },
  {
   "cell_type": "markdown",
   "metadata": {},
   "source": [
    "### Function to calculate distance between two nodes"
   ]
  },
  {
   "cell_type": "code",
   "execution_count": 429,
   "metadata": {},
   "outputs": [],
   "source": [
    "def calculate_distance(node1, node2):\n",
    "    pos1 = np.array(G.nodes[node1]['coords'])\n",
    "    pos2 = np.array(G.nodes[node2]['coords'])\n",
    "    return np.linalg.norm(pos1 - pos2)"
   ]
  },
  {
   "cell_type": "markdown",
   "metadata": {},
   "source": [
    "### Function for creating Patient process (patient goes through patient path)"
   ]
  },
  {
   "cell_type": "code",
   "execution_count": 430,
   "metadata": {},
   "outputs": [],
   "source": [
    "def patient(env, patient_id, path):\n",
    "    total_walking_distance = 0\n",
    "    total_waiting_time = 0\n",
    "    journey = []  \n",
    "\n",
    "    for i, node in enumerate(path):\n",
    "        journey.append(node)  \n",
    "\n",
    "        # Calculate walking distance \n",
    "        if i > 0:\n",
    "            dist = calculate_distance(path[i-1], node)\n",
    "            total_walking_distance += dist\n",
    "\n",
    "        # calculate waiting time\n",
    "        if capacities[node] > 0:  \n",
    "            arrival_time = env.now\n",
    "            with resources[node].request() as req:\n",
    "                patients_in_node[node] += 1  # Update crowding\n",
    "                yield req\n",
    "                \n",
    "                waiting_time = env.now - arrival_time\n",
    "                total_waiting_time += waiting_time\n",
    "                waiting_times[node].append(waiting_time)\n",
    "\n",
    "        # simulate treatment (random service time: 15)\n",
    "                yield env.timeout(np.random.exponential(15))  \n",
    "\n",
    "        # calculate crowdedness (people density)\n",
    "                occupancy[node].append(patients_in_node[node])\n",
    "\n",
    "        crowding[node].append(patients_in_node[node] / float(G.nodes[node]['area']) if G.nodes[node]['area'] != 'NA' else 0)\n",
    "        patients_in_node[node] -= 1  # Patient leaves the node\n",
    "\n",
    "    # Record the walking distance, waiting time, and travel path for this patient\n",
    "    walking_distances.append(total_walking_distance)\n",
    "    patient_waiting_times.append(total_waiting_time)\n",
    "    patient_travel_paths[f'patient_{patient_id}'] = journey  \n"
   ]
  },
  {
   "cell_type": "markdown",
   "metadata": {},
   "source": [
    "### Function for choosing any available interaction room\n",
    "\n",
    "Since there are multiple interaction rooms for patient to choose, \n",
    "\n",
    "this function ensures that patient can choose any available room, so it saves waiting time."
   ]
  },
  {
   "cell_type": "code",
   "execution_count": 431,
   "metadata": {},
   "outputs": [],
   "source": [
    "def get_available_medical_paths(resources,all_meidcal_path):\n",
    "    available_paths = []\n",
    "    if resources[104].count < resources[104].capacity:  \n",
    "        available_paths.append(all_meidcal_path[0])\n",
    "    if resources[207].count < resources[207].capacity:  \n",
    "        available_paths.append(all_meidcal_path[1])\n",
    "    if resources[208].count < resources[208].capacity:  \n",
    "        available_paths.append(all_meidcal_path[2])\n",
    "    if resources[170].count < resources[170].capacity:  \n",
    "        available_paths.append(all_meidcal_path[3])\n",
    "    if resources[71].count < resources[71].capacity:  \n",
    "        available_paths.append(all_meidcal_path[4])\n",
    "    if resources[138].count < resources[138].capacity:  \n",
    "        available_paths.append(all_meidcal_path[5])\n",
    "    if resources[85].count < resources[85].capacity:  \n",
    "        available_paths.append(all_meidcal_path[6])\n",
    "    return available_paths\n",
    "\n",
    "def get_available_pediatric_paths(resources,all_pediatric_path):\n",
    "    available_paths = []\n",
    "    if resources[211].count < resources[211].capacity:  \n",
    "        available_paths.append(all_pediatric_path[0])\n",
    "    if resources[210].count < resources[210].capacity:  \n",
    "        available_paths.append(all_pediatric_path[1])\n",
    "    if resources[139].count < resources[139].capacity:  \n",
    "        available_paths.append(all_pediatric_path[2])\n",
    "    if resources[209].count < resources[209].capacity:  \n",
    "        available_paths.append(all_pediatric_path[3])\n",
    "    if resources[86].count < resources[86].capacity:  \n",
    "        available_paths.append(all_pediatric_path[4])\n",
    "    return available_paths"
   ]
  },
  {
   "cell_type": "markdown",
   "metadata": {},
   "source": [
    "### Function for generating patients"
   ]
  },
  {
   "cell_type": "code",
   "execution_count": 432,
   "metadata": {},
   "outputs": [],
   "source": [
    "def generate_patients(env, num_patients):\n",
    "    for i in range(num_patients):\n",
    "        # patient choose a path based on probabilities\n",
    "        path_type_choice = random.choices(['medical_1', 'medical_2','medical_3',\n",
    "                                           'pediatric_1','pediatric_2','pediatric_3'], \n",
    "                                           weights=[0.49, 0.05,0.01,0.39,0.05,0.01])[0]\n",
    "        # if patient chooses medical path 1, the patient can choose any available interaction rooms along this path\n",
    "        if path_type_choice == 'medical_1':\n",
    "            available_paths = get_available_medical_paths(resources,all_real_medical_path_1) \n",
    "            \n",
    "            \n",
    "            if available_paths:\n",
    "                chosen_path = random.choice(available_paths)\n",
    "                env.process(patient(env, i, chosen_path))\n",
    "            else:\n",
    "                # If all ERs are occupied, the patient must wait \n",
    "                yield env.timeout(1)  # Small wait time before retrying\n",
    "\n",
    "        # if patient chooses medical path 2, the patient can choose any available interaction rooms along this path\n",
    "        if path_type_choice == 'medical_2':\n",
    "            available_paths = get_available_medical_paths(resources,all_real_medical_path_2)\n",
    "            \n",
    "            if available_paths:\n",
    "                chosen_path = random.choice(available_paths)\n",
    "                env.process(patient(env, i, chosen_path))\n",
    "            else:\n",
    "                \n",
    "                yield env.timeout(1)  \n",
    "\n",
    "        # if patient chooses medical path 3, the patient can choose any available interaction rooms along this path\n",
    "        if path_type_choice == 'medical_3':\n",
    "            available_paths = get_available_medical_paths(resources,all_real_medical_path_3)\n",
    "            \n",
    "            if available_paths:\n",
    "                chosen_path = random.choice(available_paths)\n",
    "                env.process(patient(env, i, chosen_path))\n",
    "            else:\n",
    "                \n",
    "                yield env.timeout(1)  \n",
    "\n",
    "        # if patient chooses pediatric path 1, the patient can choose any available interaction rooms along this path\n",
    "        if path_type_choice == 'pediatric_1':\n",
    "            available_paths = get_available_pediatric_paths(resources,all_real_pediatric_path_1)\n",
    "            \n",
    "            if available_paths:\n",
    "                chosen_path = random.choice(available_paths)\n",
    "                env.process(patient(env, i, chosen_path))\n",
    "            else:\n",
    "                \n",
    "                yield env.timeout(1)  \n",
    "        \n",
    "        # if patient chooses pediatric path 2, the patient can choose any available interaction rooms along this path\n",
    "        if path_type_choice == 'pediatric_2':\n",
    "            available_paths = get_available_pediatric_paths(resources,all_real_pediatric_path_2)\n",
    "            \n",
    "            if available_paths:\n",
    "                chosen_path = random.choice(available_paths)\n",
    "                env.process(patient(env, i, chosen_path))\n",
    "            else:\n",
    "                 \n",
    "                yield env.timeout(1)  \n",
    "\n",
    "        # if patient chooses pediatric path 3, the patient can choose any available interaction rooms along this path\n",
    "        if path_type_choice == 'pediatric_3':\n",
    "            available_paths = get_available_pediatric_paths(resources,all_real_pediatric_path_3)\n",
    "            \n",
    "            if available_paths:\n",
    "                chosen_path = random.choice(available_paths)\n",
    "                env.process(patient(env, i, chosen_path))\n",
    "            else:\n",
    "                \n",
    "                yield env.timeout(1)  \n",
    "\n",
    "        yield env.timeout(np.random.exponential(10))  # Random patient arrival time\n"
   ]
  },
  {
   "cell_type": "markdown",
   "metadata": {},
   "source": [
    "### Run the simulation & collect patient travel paths"
   ]
  },
  {
   "cell_type": "code",
   "execution_count": 433,
   "metadata": {},
   "outputs": [
    {
     "name": "stdout",
     "output_type": "stream",
     "text": [
      "patient_0, [44, 333, 7, 335, 0, 1, 324, 119, 471, 21, 470, 107, 470, 21, 471, 119, 471, 21, 472, 211, 472, 21, 471, 119, 324, 1, 0, 338, 76, 336, 43, 336, 76, 338, 0, 49, 266, 89]\n",
      "patient_1, [44, 333, 7, 335, 0, 1, 152, 1, 302, 74, 301, 104, 11, 312, 170, 312, 11, 104, 301, 74, 302, 1, 0, 49, 266, 89]\n",
      "patient_2, [44, 333, 7, 335, 0, 1, 152, 1, 302, 74, 301, 104, 11, 313, 207, 313, 11, 104, 301, 74, 302, 1, 0, 49, 266, 89]\n",
      "patient_3, [44, 333, 7, 335, 0, 1, 152, 1, 302, 74, 301, 104, 11, 312, 170, 312, 11, 104, 301, 74, 302, 1, 0, 49, 266, 89]\n",
      "patient_6, [44, 333, 7, 335, 0, 1, 152, 1, 302, 74, 301, 104, 11, 313, 207, 313, 11, 104, 301, 74, 302, 1, 0, 49, 266, 89]\n",
      "patient_8, [44, 333, 7, 335, 0, 1, 152, 1, 302, 74, 301, 104, 11, 308, 138, 308, 11, 104, 301, 74, 302, 1, 0, 49, 266, 89]\n",
      "patient_9, [44, 333, 7, 335, 0, 1, 152, 1, 302, 74, 301, 104, 301, 74, 302, 1, 0, 49, 266, 89]\n",
      "patient_18, [44, 333, 7, 335, 0, 1, 152, 1, 302, 74, 301, 104, 301, 74, 302, 1, 0, 49, 266, 89]\n"
     ]
    }
   ],
   "source": [
    "env.process(generate_patients(env, 50))  # Simulate the hospital with 20 patients\n",
    "env.run(until=720)  # Run the simulation for 1440 minutes\n",
    "\n",
    "# print all patient travel paths\n",
    "def extract_patient_number(key):\n",
    "    return int(key.split('_')[1])\n",
    "\n",
    "for key in sorted(patient_travel_paths.keys(), key=extract_patient_number):\n",
    "    print(f\"{key}, {patient_travel_paths[key]}\")"
   ]
  },
  {
   "cell_type": "markdown",
   "metadata": {},
   "source": [
    "# Assessing Difficulty in wayfinding \n",
    "### - by calculating extra walking distance"
   ]
  },
  {
   "cell_type": "markdown",
   "metadata": {},
   "source": [
    "### load the random patient paths"
   ]
  },
  {
   "cell_type": "code",
   "execution_count": 434,
   "metadata": {},
   "outputs": [],
   "source": [
    "with open('C:/Users/SID-DRW/OneDrive - Delft University of Technology/Documents/GitHub/HDES/Data/all_random_medical_path_1.pkl', 'rb') as f:\n",
    "    all_real_medical_random_path_1 = pickle.load(f)\n",
    "\n",
    "with open('C:/Users/SID-DRW/OneDrive - Delft University of Technology/Documents/GitHub/HDES/Data/all_random_medical_path_2.pkl', 'rb') as f:\n",
    "    all_real_medical_random_path_2 = pickle.load(f)\n",
    "\n",
    "with open('C:/Users/SID-DRW/OneDrive - Delft University of Technology/Documents/GitHub/HDES/Data/all_random_medical_path_3.pkl', 'rb') as f:\n",
    "    all_real_medical_random_path_3 = pickle.load(f)\n",
    "\n",
    "with open('C:/Users/SID-DRW/OneDrive - Delft University of Technology/Documents/GitHub/HDES/Data/all_random_pediatric_path_1.pkl', 'rb') as f:\n",
    "    all_real_pediatric_random_path_1 = pickle.load(f)\n",
    "\n",
    "with open('C:/Users/SID-DRW/OneDrive - Delft University of Technology/Documents/GitHub/HDES/Data/all_random_pediatric_path_2.pkl', 'rb') as f:\n",
    "    all_real_pediatric_random_path_2 = pickle.load(f)\n",
    "\n",
    "with open('C:/Users/SID-DRW/OneDrive - Delft University of Technology/Documents/GitHub/HDES/Data/all_random_pediatric_path_3.pkl', 'rb') as f:\n",
    "    all_real_pediatric_random_path_3 = pickle.load(f)"
   ]
  },
  {
   "cell_type": "markdown",
   "metadata": {},
   "source": [
    "### Calculate distance of patient path"
   ]
  },
  {
   "cell_type": "code",
   "execution_count": 435,
   "metadata": {},
   "outputs": [],
   "source": [
    "# Function for calulating total distance of the path\n",
    "\n",
    "import math\n",
    "\n",
    "def calculate_path_distance(path, G):\n",
    "    total_distance = 0.0\n",
    "\n",
    "    # Iterate through consecutive nodes in the path\n",
    "    for i in range(len(path) - 1):\n",
    "        node1 = path[i]\n",
    "        node2 = path[i + 1]\n",
    "        \n",
    "        # Get the 3D coordinates of both nodes\n",
    "        x1, y1, z1 = G.nodes[node1]['coords']\n",
    "        x2, y2, z2 = G.nodes[node2]['coords']\n",
    "        \n",
    "        # Calculate the Euclidean distance between node1 and node2\n",
    "        distance = math.sqrt((x2 - x1) ** 2 + (y2 - y1) ** 2 + (z2 - z1) ** 2)\n",
    "        \n",
    "        # Add the distance to the total distance\n",
    "        total_distance += distance\n",
    "\n",
    "    return total_distance\n"
   ]
  },
  {
   "cell_type": "code",
   "execution_count": 436,
   "metadata": {},
   "outputs": [],
   "source": [
    "# Function for calulating average distance of multiple paths\n",
    "\n",
    "def get_total_distance_allPath(all_path,G):\n",
    "    distances = []\n",
    "    for path in all_path:\n",
    "        single_distance = calculate_path_distance(path,G)\n",
    "        distances.append(single_distance)\n",
    "    final_total_distance = sum(distances)\n",
    "    average = final_total_distance / len(distances)\n",
    "\n",
    "    return average"
   ]
  },
  {
   "cell_type": "code",
   "execution_count": 437,
   "metadata": {},
   "outputs": [
    {
     "name": "stdout",
     "output_type": "stream",
     "text": [
      "18069.63004523108\n",
      "19977.849241349883\n",
      "15597.284611218853\n",
      "32775.01567488796\n",
      "26466.013116426\n",
      "32775.01567488796\n"
     ]
    }
   ],
   "source": [
    "# Average distance of the random paths\n",
    "all_distance_m1 = get_total_distance_allPath(all_real_medical_random_path_1,G)\n",
    "print(all_distance_m1)\n",
    "\n",
    "all_distance_m2 = get_total_distance_allPath(all_real_medical_random_path_2,G)\n",
    "print(all_distance_m2)\n",
    "\n",
    "all_distance_m3 = get_total_distance_allPath(all_real_medical_random_path_3,G)\n",
    "print(all_distance_m3)\n",
    "\n",
    "all_distance_p1 = get_total_distance_allPath(all_real_pediatric_random_path_1,G)\n",
    "print(all_distance_p1)  \n",
    "\n",
    "all_distance_p2 = get_total_distance_allPath(all_real_pediatric_random_path_2,G)\n",
    "print(all_distance_p2) \n",
    "\n",
    "all_distance_p3 = get_total_distance_allPath(all_real_pediatric_random_path_1,G)\n",
    "print(all_distance_p3) "
   ]
  },
  {
   "cell_type": "code",
   "execution_count": 438,
   "metadata": {},
   "outputs": [
    {
     "name": "stdout",
     "output_type": "stream",
     "text": [
      "155.7344233731371\n",
      "179.05542790783412\n",
      "191.19252675596076\n",
      "149.22439960211142\n",
      "172.54540413680843\n",
      "184.68250298493507\n"
     ]
    }
   ],
   "source": [
    "# average distance of shortest paths\n",
    "\n",
    "all_shortest_distance_m1 = get_total_distance_allPath(all_real_medical_path_1,G)\n",
    "print(all_shortest_distance_m1)\n",
    "\n",
    "all_shortest_distance_m2 = get_total_distance_allPath(all_real_medical_path_2,G)\n",
    "print(all_shortest_distance_m2)\n",
    "\n",
    "all_shortest_distance_m3 = get_total_distance_allPath(all_real_medical_path_3,G)\n",
    "print(all_shortest_distance_m3)\n",
    "\n",
    "all_shortest_distance_p1 = get_total_distance_allPath(all_real_pediatric_path_1,G)\n",
    "print(all_shortest_distance_p1)\n",
    "\n",
    "all_shortest_distance_p2 = get_total_distance_allPath(all_real_pediatric_path_2,G)\n",
    "print(all_shortest_distance_p2)\n",
    "\n",
    "all_shortest_distance_p3 = get_total_distance_allPath(all_real_pediatric_path_3,G)\n",
    "print(all_shortest_distance_p3)"
   ]
  },
  {
   "cell_type": "markdown",
   "metadata": {},
   "source": [
    "### Extra walking distance"
   ]
  },
  {
   "cell_type": "code",
   "execution_count": 439,
   "metadata": {},
   "outputs": [],
   "source": [
    "def get_extra_walking_distance(random_d1,random_d2,random_d3,\n",
    "                               random_p1,random_p2,random_p3,\n",
    "                               shortest_d1,shortest_d2,shortest_d3,\n",
    "                               shortest_p1,shortest_p2,shortest_p3):\n",
    "    random_average_distance = 0.49*random_d1+0.05*random_d2+0.01*random_d3+0.39*random_p1+0.05*random_p2+0.01*random_p3\n",
    "    shortest_average_distance = 0.49*shortest_d1+0.05*shortest_d2+0.01*shortest_d3+0.39*shortest_p1+0.05*shortest_p2+0.01*shortest_p3\n",
    "\n",
    "    extra_distance = random_average_distance - shortest_average_distance\n",
    "\n",
    "    return extra_distance"
   ]
  },
  {
   "cell_type": "code",
   "execution_count": 440,
   "metadata": {},
   "outputs": [
    {
     "name": "stdout",
     "output_type": "stream",
     "text": [
      "24286.444780922095\n"
     ]
    }
   ],
   "source": [
    "extra_distance = get_extra_walking_distance(all_distance_m1,all_distance_m2,all_distance_m3,\n",
    "                                            all_distance_p1,all_distance_p2,all_distance_p3,\n",
    "                                            all_shortest_distance_m1,all_shortest_distance_m2,all_shortest_distance_m3,\n",
    "                                            all_shortest_distance_p1,all_shortest_distance_p2,all_shortest_distance_p3)\n",
    "\n",
    "print(extra_distance)"
   ]
  },
  {
   "cell_type": "markdown",
   "metadata": {},
   "source": [
    "# Collect simulation results"
   ]
  },
  {
   "cell_type": "code",
   "execution_count": 441,
   "metadata": {},
   "outputs": [
    {
     "name": "stdout",
     "output_type": "stream",
     "text": [
      "Average waiting times at each node: {0: 0.0, 1: 0.0, 7: 0.0, 11: 0.0, 21: 0.0, 43: 0.0, 44: 139.63973529707567, 49: 0.0, 71: 0.0, 74: 0.0, 76: 0.0, 85: 0.0, 86: 5.426761160782689, 89: 3.7270416203553935, 104: 33.880683234230816, 107: 0.009038610272871969, 119: 0.0, 138: 0.0, 152: 5.105542544079613, 170: 0.0, 207: 0.0, 208: 0.0, 209: 0.0, 210: 0.0, 211: 0.0, 266: 2.7493862804510343, 301: 15.930690677481417, 302: 18.566815621027413, 306: 0.0, 307: 12.814531101547203, 308: 3.689930747353941, 309: 0.0, 312: 0.0, 313: 0.0, 324: 7.890749410093229, 327: 0.0, 328: 28.58584900553251, 329: 0.0, 333: 33.61934125598593, 335: 10.141025025553002, 336: 0.0, 338: 0.0, 470: 12.685337078625114, 471: 22.057964831579497, 472: 0.0}\n",
      "Average patient walking distance: 153.07871708966235\n",
      "Average patient waiting time: 157.73198098331648\n",
      "Average crowding at each node: {0: 0.016077807148996766, 1: 0.013448917833505204, 7: 0.07410648613803435, 11: 0.0536476696111237, 21: 0.06705796160779141, 43: 0.11352946016832513, 44: 0.5538749517696494, 49: 0.09817541833264395, 71: 0.08421299419974582, 74: 0.2746397070343343, 76: 0.1962400408179285, 85: 0.08516812428760165, 86: 0.12631949129961872, 89: 0.25562232789459904, 104: 0.3731078766803846, 107: 0.10601620395372524, 119: 0.16507692623604234, 138: 0.08370714152500348, 152: 0.31045812246933424, 170: 0.08414772561037939, 207: 0.08369749877909201, 208: 0.08370714152500348, 209: 0.08465204285695904, 210: 0.08370714152500348, 211: 0.08370713458818738, 266: 0.0, 301: 0.0, 302: 0.0, 306: 0.0, 307: 0.0, 308: 0.0, 309: 0.0, 312: 0.0, 313: 0.0, 324: 0.0, 327: 0.0, 328: 0.0, 329: 0.0, 333: 0.0, 335: 0.0, 336: 0.0, 338: 0.0, 470: 0.0, 471: 0.0, 472: 0.0}\n",
      "Average extra walking distance: 24286.444780922095\n"
     ]
    }
   ],
   "source": [
    "# After simulation, analyze the collected data\n",
    "average_walking_distance = np.mean(walking_distances)\n",
    "average_patient_waiting_time = np.mean(patient_waiting_times)\n",
    "\n",
    "print(\"Average waiting times at each node:\", {node: np.mean(waiting_times[node]) for node in waiting_times if waiting_times[node]})\n",
    "print(\"Average patient walking distance:\", average_walking_distance)\n",
    "print(\"Average patient waiting time:\", average_patient_waiting_time)\n",
    "print(\"Average crowding at each node:\", {node: np.mean(crowding[node]) for node in crowding if crowding[node]})\n",
    "print(\"Average extra walking distance:\", extra_distance)\n"
   ]
  }
 ],
 "metadata": {
  "kernelspec": {
   "display_name": "HDSS",
   "language": "python",
   "name": "python3"
  },
  "language_info": {
   "codemirror_mode": {
    "name": "ipython",
    "version": 3
   },
   "file_extension": ".py",
   "mimetype": "text/x-python",
   "name": "python",
   "nbconvert_exporter": "python",
   "pygments_lexer": "ipython3",
   "version": "3.11.5"
  }
 },
 "nbformat": 4,
 "nbformat_minor": 2
}
